{
 "cells": [
  {
   "cell_type": "code",
   "execution_count": 1,
   "id": "5cc51770-765c-403a-b0b7-5d549b73dca3",
   "metadata": {
    "collapsed": true,
    "jupyter": {
     "outputs_hidden": true
    },
    "tags": []
   },
   "outputs": [
    {
     "name": "stderr",
     "output_type": "stream",
     "text": [
      "Loading required package: zoo\n",
      "\n",
      "\n",
      "Attaching package: ‘zoo’\n",
      "\n",
      "\n",
      "The following objects are masked from ‘package:base’:\n",
      "\n",
      "    as.Date, as.Date.numeric\n",
      "\n",
      "\n",
      "Loading required package: ggplot2\n",
      "\n",
      "Registered S3 method overwritten by 'GGally':\n",
      "  method from   \n",
      "  +.gg   ggplot2\n",
      "\n"
     ]
    }
   ],
   "source": [
    "library(\"lmtest\")\n",
    "library(\"GGally\")\n",
    "data = swiss"
   ]
  },
  {
   "cell_type": "code",
   "execution_count": 2,
   "id": "2712ddb7-99af-47e2-bc92-b9b8aed0fdcb",
   "metadata": {
    "collapsed": true,
    "jupyter": {
     "outputs_hidden": true
    },
    "tags": []
   },
   "outputs": [
    {
     "data": {
      "text/html": [
       "<table class=\"dataframe\">\n",
       "<caption>A data.frame: 47 × 6</caption>\n",
       "<thead>\n",
       "\t<tr><th></th><th scope=col>Fertility</th><th scope=col>Agriculture</th><th scope=col>Examination</th><th scope=col>Education</th><th scope=col>Catholic</th><th scope=col>Infant.Mortality</th></tr>\n",
       "\t<tr><th></th><th scope=col>&lt;dbl&gt;</th><th scope=col>&lt;dbl&gt;</th><th scope=col>&lt;int&gt;</th><th scope=col>&lt;int&gt;</th><th scope=col>&lt;dbl&gt;</th><th scope=col>&lt;dbl&gt;</th></tr>\n",
       "</thead>\n",
       "<tbody>\n",
       "\t<tr><th scope=row>Courtelary</th><td>80.2</td><td>17.0</td><td>15</td><td>12</td><td>  9.96</td><td>22.2</td></tr>\n",
       "\t<tr><th scope=row>Delemont</th><td>83.1</td><td>45.1</td><td> 6</td><td> 9</td><td> 84.84</td><td>22.2</td></tr>\n",
       "\t<tr><th scope=row>Franches-Mnt</th><td>92.5</td><td>39.7</td><td> 5</td><td> 5</td><td> 93.40</td><td>20.2</td></tr>\n",
       "\t<tr><th scope=row>Moutier</th><td>85.8</td><td>36.5</td><td>12</td><td> 7</td><td> 33.77</td><td>20.3</td></tr>\n",
       "\t<tr><th scope=row>Neuveville</th><td>76.9</td><td>43.5</td><td>17</td><td>15</td><td>  5.16</td><td>20.6</td></tr>\n",
       "\t<tr><th scope=row>Porrentruy</th><td>76.1</td><td>35.3</td><td> 9</td><td> 7</td><td> 90.57</td><td>26.6</td></tr>\n",
       "\t<tr><th scope=row>Broye</th><td>83.8</td><td>70.2</td><td>16</td><td> 7</td><td> 92.85</td><td>23.6</td></tr>\n",
       "\t<tr><th scope=row>Glane</th><td>92.4</td><td>67.8</td><td>14</td><td> 8</td><td> 97.16</td><td>24.9</td></tr>\n",
       "\t<tr><th scope=row>Gruyere</th><td>82.4</td><td>53.3</td><td>12</td><td> 7</td><td> 97.67</td><td>21.0</td></tr>\n",
       "\t<tr><th scope=row>Sarine</th><td>82.9</td><td>45.2</td><td>16</td><td>13</td><td> 91.38</td><td>24.4</td></tr>\n",
       "\t<tr><th scope=row>Veveyse</th><td>87.1</td><td>64.5</td><td>14</td><td> 6</td><td> 98.61</td><td>24.5</td></tr>\n",
       "\t<tr><th scope=row>Aigle</th><td>64.1</td><td>62.0</td><td>21</td><td>12</td><td>  8.52</td><td>16.5</td></tr>\n",
       "\t<tr><th scope=row>Aubonne</th><td>66.9</td><td>67.5</td><td>14</td><td> 7</td><td>  2.27</td><td>19.1</td></tr>\n",
       "\t<tr><th scope=row>Avenches</th><td>68.9</td><td>60.7</td><td>19</td><td>12</td><td>  4.43</td><td>22.7</td></tr>\n",
       "\t<tr><th scope=row>Cossonay</th><td>61.7</td><td>69.3</td><td>22</td><td> 5</td><td>  2.82</td><td>18.7</td></tr>\n",
       "\t<tr><th scope=row>Echallens</th><td>68.3</td><td>72.6</td><td>18</td><td> 2</td><td> 24.20</td><td>21.2</td></tr>\n",
       "\t<tr><th scope=row>Grandson</th><td>71.7</td><td>34.0</td><td>17</td><td> 8</td><td>  3.30</td><td>20.0</td></tr>\n",
       "\t<tr><th scope=row>Lausanne</th><td>55.7</td><td>19.4</td><td>26</td><td>28</td><td> 12.11</td><td>20.2</td></tr>\n",
       "\t<tr><th scope=row>La Vallee</th><td>54.3</td><td>15.2</td><td>31</td><td>20</td><td>  2.15</td><td>10.8</td></tr>\n",
       "\t<tr><th scope=row>Lavaux</th><td>65.1</td><td>73.0</td><td>19</td><td> 9</td><td>  2.84</td><td>20.0</td></tr>\n",
       "\t<tr><th scope=row>Morges</th><td>65.5</td><td>59.8</td><td>22</td><td>10</td><td>  5.23</td><td>18.0</td></tr>\n",
       "\t<tr><th scope=row>Moudon</th><td>65.0</td><td>55.1</td><td>14</td><td> 3</td><td>  4.52</td><td>22.4</td></tr>\n",
       "\t<tr><th scope=row>Nyone</th><td>56.6</td><td>50.9</td><td>22</td><td>12</td><td> 15.14</td><td>16.7</td></tr>\n",
       "\t<tr><th scope=row>Orbe</th><td>57.4</td><td>54.1</td><td>20</td><td> 6</td><td>  4.20</td><td>15.3</td></tr>\n",
       "\t<tr><th scope=row>Oron</th><td>72.5</td><td>71.2</td><td>12</td><td> 1</td><td>  2.40</td><td>21.0</td></tr>\n",
       "\t<tr><th scope=row>Payerne</th><td>74.2</td><td>58.1</td><td>14</td><td> 8</td><td>  5.23</td><td>23.8</td></tr>\n",
       "\t<tr><th scope=row>Paysd'enhaut</th><td>72.0</td><td>63.5</td><td> 6</td><td> 3</td><td>  2.56</td><td>18.0</td></tr>\n",
       "\t<tr><th scope=row>Rolle</th><td>60.5</td><td>60.8</td><td>16</td><td>10</td><td>  7.72</td><td>16.3</td></tr>\n",
       "\t<tr><th scope=row>Vevey</th><td>58.3</td><td>26.8</td><td>25</td><td>19</td><td> 18.46</td><td>20.9</td></tr>\n",
       "\t<tr><th scope=row>Yverdon</th><td>65.4</td><td>49.5</td><td>15</td><td> 8</td><td>  6.10</td><td>22.5</td></tr>\n",
       "\t<tr><th scope=row>Conthey</th><td>75.5</td><td>85.9</td><td> 3</td><td> 2</td><td> 99.71</td><td>15.1</td></tr>\n",
       "\t<tr><th scope=row>Entremont</th><td>69.3</td><td>84.9</td><td> 7</td><td> 6</td><td> 99.68</td><td>19.8</td></tr>\n",
       "\t<tr><th scope=row>Herens</th><td>77.3</td><td>89.7</td><td> 5</td><td> 2</td><td>100.00</td><td>18.3</td></tr>\n",
       "\t<tr><th scope=row>Martigwy</th><td>70.5</td><td>78.2</td><td>12</td><td> 6</td><td> 98.96</td><td>19.4</td></tr>\n",
       "\t<tr><th scope=row>Monthey</th><td>79.4</td><td>64.9</td><td> 7</td><td> 3</td><td> 98.22</td><td>20.2</td></tr>\n",
       "\t<tr><th scope=row>St Maurice</th><td>65.0</td><td>75.9</td><td> 9</td><td> 9</td><td> 99.06</td><td>17.8</td></tr>\n",
       "\t<tr><th scope=row>Sierre</th><td>92.2</td><td>84.6</td><td> 3</td><td> 3</td><td> 99.46</td><td>16.3</td></tr>\n",
       "\t<tr><th scope=row>Sion</th><td>79.3</td><td>63.1</td><td>13</td><td>13</td><td> 96.83</td><td>18.1</td></tr>\n",
       "\t<tr><th scope=row>Boudry</th><td>70.4</td><td>38.4</td><td>26</td><td>12</td><td>  5.62</td><td>20.3</td></tr>\n",
       "\t<tr><th scope=row>La Chauxdfnd</th><td>65.7</td><td> 7.7</td><td>29</td><td>11</td><td> 13.79</td><td>20.5</td></tr>\n",
       "\t<tr><th scope=row>Le Locle</th><td>72.7</td><td>16.7</td><td>22</td><td>13</td><td> 11.22</td><td>18.9</td></tr>\n",
       "\t<tr><th scope=row>Neuchatel</th><td>64.4</td><td>17.6</td><td>35</td><td>32</td><td> 16.92</td><td>23.0</td></tr>\n",
       "\t<tr><th scope=row>Val de Ruz</th><td>77.6</td><td>37.6</td><td>15</td><td> 7</td><td>  4.97</td><td>20.0</td></tr>\n",
       "\t<tr><th scope=row>ValdeTravers</th><td>67.6</td><td>18.7</td><td>25</td><td> 7</td><td>  8.65</td><td>19.5</td></tr>\n",
       "\t<tr><th scope=row>V. De Geneve</th><td>35.0</td><td> 1.2</td><td>37</td><td>53</td><td> 42.34</td><td>18.0</td></tr>\n",
       "\t<tr><th scope=row>Rive Droite</th><td>44.7</td><td>46.6</td><td>16</td><td>29</td><td> 50.43</td><td>18.2</td></tr>\n",
       "\t<tr><th scope=row>Rive Gauche</th><td>42.8</td><td>27.7</td><td>22</td><td>29</td><td> 58.33</td><td>19.3</td></tr>\n",
       "</tbody>\n",
       "</table>\n"
      ],
      "text/latex": [
       "A data.frame: 47 × 6\n",
       "\\begin{tabular}{r|llllll}\n",
       "  & Fertility & Agriculture & Examination & Education & Catholic & Infant.Mortality\\\\\n",
       "  & <dbl> & <dbl> & <int> & <int> & <dbl> & <dbl>\\\\\n",
       "\\hline\n",
       "\tCourtelary & 80.2 & 17.0 & 15 & 12 &   9.96 & 22.2\\\\\n",
       "\tDelemont & 83.1 & 45.1 &  6 &  9 &  84.84 & 22.2\\\\\n",
       "\tFranches-Mnt & 92.5 & 39.7 &  5 &  5 &  93.40 & 20.2\\\\\n",
       "\tMoutier & 85.8 & 36.5 & 12 &  7 &  33.77 & 20.3\\\\\n",
       "\tNeuveville & 76.9 & 43.5 & 17 & 15 &   5.16 & 20.6\\\\\n",
       "\tPorrentruy & 76.1 & 35.3 &  9 &  7 &  90.57 & 26.6\\\\\n",
       "\tBroye & 83.8 & 70.2 & 16 &  7 &  92.85 & 23.6\\\\\n",
       "\tGlane & 92.4 & 67.8 & 14 &  8 &  97.16 & 24.9\\\\\n",
       "\tGruyere & 82.4 & 53.3 & 12 &  7 &  97.67 & 21.0\\\\\n",
       "\tSarine & 82.9 & 45.2 & 16 & 13 &  91.38 & 24.4\\\\\n",
       "\tVeveyse & 87.1 & 64.5 & 14 &  6 &  98.61 & 24.5\\\\\n",
       "\tAigle & 64.1 & 62.0 & 21 & 12 &   8.52 & 16.5\\\\\n",
       "\tAubonne & 66.9 & 67.5 & 14 &  7 &   2.27 & 19.1\\\\\n",
       "\tAvenches & 68.9 & 60.7 & 19 & 12 &   4.43 & 22.7\\\\\n",
       "\tCossonay & 61.7 & 69.3 & 22 &  5 &   2.82 & 18.7\\\\\n",
       "\tEchallens & 68.3 & 72.6 & 18 &  2 &  24.20 & 21.2\\\\\n",
       "\tGrandson & 71.7 & 34.0 & 17 &  8 &   3.30 & 20.0\\\\\n",
       "\tLausanne & 55.7 & 19.4 & 26 & 28 &  12.11 & 20.2\\\\\n",
       "\tLa Vallee & 54.3 & 15.2 & 31 & 20 &   2.15 & 10.8\\\\\n",
       "\tLavaux & 65.1 & 73.0 & 19 &  9 &   2.84 & 20.0\\\\\n",
       "\tMorges & 65.5 & 59.8 & 22 & 10 &   5.23 & 18.0\\\\\n",
       "\tMoudon & 65.0 & 55.1 & 14 &  3 &   4.52 & 22.4\\\\\n",
       "\tNyone & 56.6 & 50.9 & 22 & 12 &  15.14 & 16.7\\\\\n",
       "\tOrbe & 57.4 & 54.1 & 20 &  6 &   4.20 & 15.3\\\\\n",
       "\tOron & 72.5 & 71.2 & 12 &  1 &   2.40 & 21.0\\\\\n",
       "\tPayerne & 74.2 & 58.1 & 14 &  8 &   5.23 & 23.8\\\\\n",
       "\tPaysd'enhaut & 72.0 & 63.5 &  6 &  3 &   2.56 & 18.0\\\\\n",
       "\tRolle & 60.5 & 60.8 & 16 & 10 &   7.72 & 16.3\\\\\n",
       "\tVevey & 58.3 & 26.8 & 25 & 19 &  18.46 & 20.9\\\\\n",
       "\tYverdon & 65.4 & 49.5 & 15 &  8 &   6.10 & 22.5\\\\\n",
       "\tConthey & 75.5 & 85.9 &  3 &  2 &  99.71 & 15.1\\\\\n",
       "\tEntremont & 69.3 & 84.9 &  7 &  6 &  99.68 & 19.8\\\\\n",
       "\tHerens & 77.3 & 89.7 &  5 &  2 & 100.00 & 18.3\\\\\n",
       "\tMartigwy & 70.5 & 78.2 & 12 &  6 &  98.96 & 19.4\\\\\n",
       "\tMonthey & 79.4 & 64.9 &  7 &  3 &  98.22 & 20.2\\\\\n",
       "\tSt Maurice & 65.0 & 75.9 &  9 &  9 &  99.06 & 17.8\\\\\n",
       "\tSierre & 92.2 & 84.6 &  3 &  3 &  99.46 & 16.3\\\\\n",
       "\tSion & 79.3 & 63.1 & 13 & 13 &  96.83 & 18.1\\\\\n",
       "\tBoudry & 70.4 & 38.4 & 26 & 12 &   5.62 & 20.3\\\\\n",
       "\tLa Chauxdfnd & 65.7 &  7.7 & 29 & 11 &  13.79 & 20.5\\\\\n",
       "\tLe Locle & 72.7 & 16.7 & 22 & 13 &  11.22 & 18.9\\\\\n",
       "\tNeuchatel & 64.4 & 17.6 & 35 & 32 &  16.92 & 23.0\\\\\n",
       "\tVal de Ruz & 77.6 & 37.6 & 15 &  7 &   4.97 & 20.0\\\\\n",
       "\tValdeTravers & 67.6 & 18.7 & 25 &  7 &   8.65 & 19.5\\\\\n",
       "\tV. De Geneve & 35.0 &  1.2 & 37 & 53 &  42.34 & 18.0\\\\\n",
       "\tRive Droite & 44.7 & 46.6 & 16 & 29 &  50.43 & 18.2\\\\\n",
       "\tRive Gauche & 42.8 & 27.7 & 22 & 29 &  58.33 & 19.3\\\\\n",
       "\\end{tabular}\n"
      ],
      "text/markdown": [
       "\n",
       "A data.frame: 47 × 6\n",
       "\n",
       "| <!--/--> | Fertility &lt;dbl&gt; | Agriculture &lt;dbl&gt; | Examination &lt;int&gt; | Education &lt;int&gt; | Catholic &lt;dbl&gt; | Infant.Mortality &lt;dbl&gt; |\n",
       "|---|---|---|---|---|---|---|\n",
       "| Courtelary | 80.2 | 17.0 | 15 | 12 |   9.96 | 22.2 |\n",
       "| Delemont | 83.1 | 45.1 |  6 |  9 |  84.84 | 22.2 |\n",
       "| Franches-Mnt | 92.5 | 39.7 |  5 |  5 |  93.40 | 20.2 |\n",
       "| Moutier | 85.8 | 36.5 | 12 |  7 |  33.77 | 20.3 |\n",
       "| Neuveville | 76.9 | 43.5 | 17 | 15 |   5.16 | 20.6 |\n",
       "| Porrentruy | 76.1 | 35.3 |  9 |  7 |  90.57 | 26.6 |\n",
       "| Broye | 83.8 | 70.2 | 16 |  7 |  92.85 | 23.6 |\n",
       "| Glane | 92.4 | 67.8 | 14 |  8 |  97.16 | 24.9 |\n",
       "| Gruyere | 82.4 | 53.3 | 12 |  7 |  97.67 | 21.0 |\n",
       "| Sarine | 82.9 | 45.2 | 16 | 13 |  91.38 | 24.4 |\n",
       "| Veveyse | 87.1 | 64.5 | 14 |  6 |  98.61 | 24.5 |\n",
       "| Aigle | 64.1 | 62.0 | 21 | 12 |   8.52 | 16.5 |\n",
       "| Aubonne | 66.9 | 67.5 | 14 |  7 |   2.27 | 19.1 |\n",
       "| Avenches | 68.9 | 60.7 | 19 | 12 |   4.43 | 22.7 |\n",
       "| Cossonay | 61.7 | 69.3 | 22 |  5 |   2.82 | 18.7 |\n",
       "| Echallens | 68.3 | 72.6 | 18 |  2 |  24.20 | 21.2 |\n",
       "| Grandson | 71.7 | 34.0 | 17 |  8 |   3.30 | 20.0 |\n",
       "| Lausanne | 55.7 | 19.4 | 26 | 28 |  12.11 | 20.2 |\n",
       "| La Vallee | 54.3 | 15.2 | 31 | 20 |   2.15 | 10.8 |\n",
       "| Lavaux | 65.1 | 73.0 | 19 |  9 |   2.84 | 20.0 |\n",
       "| Morges | 65.5 | 59.8 | 22 | 10 |   5.23 | 18.0 |\n",
       "| Moudon | 65.0 | 55.1 | 14 |  3 |   4.52 | 22.4 |\n",
       "| Nyone | 56.6 | 50.9 | 22 | 12 |  15.14 | 16.7 |\n",
       "| Orbe | 57.4 | 54.1 | 20 |  6 |   4.20 | 15.3 |\n",
       "| Oron | 72.5 | 71.2 | 12 |  1 |   2.40 | 21.0 |\n",
       "| Payerne | 74.2 | 58.1 | 14 |  8 |   5.23 | 23.8 |\n",
       "| Paysd'enhaut | 72.0 | 63.5 |  6 |  3 |   2.56 | 18.0 |\n",
       "| Rolle | 60.5 | 60.8 | 16 | 10 |   7.72 | 16.3 |\n",
       "| Vevey | 58.3 | 26.8 | 25 | 19 |  18.46 | 20.9 |\n",
       "| Yverdon | 65.4 | 49.5 | 15 |  8 |   6.10 | 22.5 |\n",
       "| Conthey | 75.5 | 85.9 |  3 |  2 |  99.71 | 15.1 |\n",
       "| Entremont | 69.3 | 84.9 |  7 |  6 |  99.68 | 19.8 |\n",
       "| Herens | 77.3 | 89.7 |  5 |  2 | 100.00 | 18.3 |\n",
       "| Martigwy | 70.5 | 78.2 | 12 |  6 |  98.96 | 19.4 |\n",
       "| Monthey | 79.4 | 64.9 |  7 |  3 |  98.22 | 20.2 |\n",
       "| St Maurice | 65.0 | 75.9 |  9 |  9 |  99.06 | 17.8 |\n",
       "| Sierre | 92.2 | 84.6 |  3 |  3 |  99.46 | 16.3 |\n",
       "| Sion | 79.3 | 63.1 | 13 | 13 |  96.83 | 18.1 |\n",
       "| Boudry | 70.4 | 38.4 | 26 | 12 |   5.62 | 20.3 |\n",
       "| La Chauxdfnd | 65.7 |  7.7 | 29 | 11 |  13.79 | 20.5 |\n",
       "| Le Locle | 72.7 | 16.7 | 22 | 13 |  11.22 | 18.9 |\n",
       "| Neuchatel | 64.4 | 17.6 | 35 | 32 |  16.92 | 23.0 |\n",
       "| Val de Ruz | 77.6 | 37.6 | 15 |  7 |   4.97 | 20.0 |\n",
       "| ValdeTravers | 67.6 | 18.7 | 25 |  7 |   8.65 | 19.5 |\n",
       "| V. De Geneve | 35.0 |  1.2 | 37 | 53 |  42.34 | 18.0 |\n",
       "| Rive Droite | 44.7 | 46.6 | 16 | 29 |  50.43 | 18.2 |\n",
       "| Rive Gauche | 42.8 | 27.7 | 22 | 29 |  58.33 | 19.3 |\n",
       "\n"
      ],
      "text/plain": [
       "             Fertility Agriculture Examination Education Catholic\n",
       "Courtelary   80.2      17.0        15          12          9.96  \n",
       "Delemont     83.1      45.1         6           9         84.84  \n",
       "Franches-Mnt 92.5      39.7         5           5         93.40  \n",
       "Moutier      85.8      36.5        12           7         33.77  \n",
       "Neuveville   76.9      43.5        17          15          5.16  \n",
       "Porrentruy   76.1      35.3         9           7         90.57  \n",
       "Broye        83.8      70.2        16           7         92.85  \n",
       "Glane        92.4      67.8        14           8         97.16  \n",
       "Gruyere      82.4      53.3        12           7         97.67  \n",
       "Sarine       82.9      45.2        16          13         91.38  \n",
       "Veveyse      87.1      64.5        14           6         98.61  \n",
       "Aigle        64.1      62.0        21          12          8.52  \n",
       "Aubonne      66.9      67.5        14           7          2.27  \n",
       "Avenches     68.9      60.7        19          12          4.43  \n",
       "Cossonay     61.7      69.3        22           5          2.82  \n",
       "Echallens    68.3      72.6        18           2         24.20  \n",
       "Grandson     71.7      34.0        17           8          3.30  \n",
       "Lausanne     55.7      19.4        26          28         12.11  \n",
       "La Vallee    54.3      15.2        31          20          2.15  \n",
       "Lavaux       65.1      73.0        19           9          2.84  \n",
       "Morges       65.5      59.8        22          10          5.23  \n",
       "Moudon       65.0      55.1        14           3          4.52  \n",
       "Nyone        56.6      50.9        22          12         15.14  \n",
       "Orbe         57.4      54.1        20           6          4.20  \n",
       "Oron         72.5      71.2        12           1          2.40  \n",
       "Payerne      74.2      58.1        14           8          5.23  \n",
       "Paysd'enhaut 72.0      63.5         6           3          2.56  \n",
       "Rolle        60.5      60.8        16          10          7.72  \n",
       "Vevey        58.3      26.8        25          19         18.46  \n",
       "Yverdon      65.4      49.5        15           8          6.10  \n",
       "Conthey      75.5      85.9         3           2         99.71  \n",
       "Entremont    69.3      84.9         7           6         99.68  \n",
       "Herens       77.3      89.7         5           2        100.00  \n",
       "Martigwy     70.5      78.2        12           6         98.96  \n",
       "Monthey      79.4      64.9         7           3         98.22  \n",
       "St Maurice   65.0      75.9         9           9         99.06  \n",
       "Sierre       92.2      84.6         3           3         99.46  \n",
       "Sion         79.3      63.1        13          13         96.83  \n",
       "Boudry       70.4      38.4        26          12          5.62  \n",
       "La Chauxdfnd 65.7       7.7        29          11         13.79  \n",
       "Le Locle     72.7      16.7        22          13         11.22  \n",
       "Neuchatel    64.4      17.6        35          32         16.92  \n",
       "Val de Ruz   77.6      37.6        15           7          4.97  \n",
       "ValdeTravers 67.6      18.7        25           7          8.65  \n",
       "V. De Geneve 35.0       1.2        37          53         42.34  \n",
       "Rive Droite  44.7      46.6        16          29         50.43  \n",
       "Rive Gauche  42.8      27.7        22          29         58.33  \n",
       "             Infant.Mortality\n",
       "Courtelary   22.2            \n",
       "Delemont     22.2            \n",
       "Franches-Mnt 20.2            \n",
       "Moutier      20.3            \n",
       "Neuveville   20.6            \n",
       "Porrentruy   26.6            \n",
       "Broye        23.6            \n",
       "Glane        24.9            \n",
       "Gruyere      21.0            \n",
       "Sarine       24.4            \n",
       "Veveyse      24.5            \n",
       "Aigle        16.5            \n",
       "Aubonne      19.1            \n",
       "Avenches     22.7            \n",
       "Cossonay     18.7            \n",
       "Echallens    21.2            \n",
       "Grandson     20.0            \n",
       "Lausanne     20.2            \n",
       "La Vallee    10.8            \n",
       "Lavaux       20.0            \n",
       "Morges       18.0            \n",
       "Moudon       22.4            \n",
       "Nyone        16.7            \n",
       "Orbe         15.3            \n",
       "Oron         21.0            \n",
       "Payerne      23.8            \n",
       "Paysd'enhaut 18.0            \n",
       "Rolle        16.3            \n",
       "Vevey        20.9            \n",
       "Yverdon      22.5            \n",
       "Conthey      15.1            \n",
       "Entremont    19.8            \n",
       "Herens       18.3            \n",
       "Martigwy     19.4            \n",
       "Monthey      20.2            \n",
       "St Maurice   17.8            \n",
       "Sierre       16.3            \n",
       "Sion         18.1            \n",
       "Boudry       20.3            \n",
       "La Chauxdfnd 20.5            \n",
       "Le Locle     18.9            \n",
       "Neuchatel    23.0            \n",
       "Val de Ruz   20.0            \n",
       "ValdeTravers 19.5            \n",
       "V. De Geneve 18.0            \n",
       "Rive Droite  18.2            \n",
       "Rive Gauche  19.3            "
      ]
     },
     "metadata": {},
     "output_type": "display_data"
    }
   ],
   "source": [
    "# Выводим данные\n",
    "data"
   ]
  },
  {
   "cell_type": "raw",
   "id": "849accbd-a08b-49cd-8020-96a8effafff7",
   "metadata": {},
   "source": [
    "Пункт 1. Оцените среднее значение, дисперсию и СКО переменных, указанных во втором и третьем столбце (Catholic и Agriculture)"
   ]
  },
  {
   "cell_type": "code",
   "execution_count": 3,
   "id": "84ab8cfd-a4dd-41d8-8b68-f61f908a2dc1",
   "metadata": {
    "collapsed": true,
    "jupyter": {
     "outputs_hidden": true
    },
    "tags": []
   },
   "outputs": [
    {
     "name": "stdout",
     "output_type": "stream",
     "text": [
      "[1] \"среднее значение Catholic = 41.143829787234\"\n",
      "[1] \"среднее значение Agriculture = 50.6595744680851\"\n",
      "[1] \"среднее значение Examination = 16.4893617021277\"\n",
      "[1] \"дисперсия Catholic = 1739.29453718779\"\n",
      "[1] \"дисперсия Agriculture = 515.799417206291\"\n",
      "[1] \"дисперсия Examination = 63.6466234967623\"\n",
      "[1] \"СКО Catholic = 41.7048502837235\"\n",
      "[1] \"СКО Agriculture = 22.7112178714901\"\n",
      "[1] \"СКО Examination = 7.97788339703973\"\n"
     ]
    }
   ],
   "source": [
    "# Среднее значение\n",
    "print(paste(\"среднее значение Catholic =\",  mean(data$Catholic)))\n",
    "print(paste(\"среднее значение Agriculture =\",  mean(data$Agriculture)))\n",
    "print(paste(\"среднее значение Examination =\",  mean(data$Examination)))\n",
    "# Дисперсия\n",
    "print(paste(\"дисперсия Catholic =\",  var(data$Catholic)))\n",
    "print(paste(\"дисперсия Agriculture =\",  var(data$Agriculture)))\n",
    "print(paste(\"дисперсия Examination =\",  var(data$Examination)))\n",
    "# СКО\n",
    "print(paste(\"СКО Catholic =\",  sd(data$Catholic)))\n",
    "print(paste(\"СКО Agriculture =\",  sd(data$Agriculture)))\n",
    "print(paste(\"СКО Examination =\",  sd(data$Examination)))"
   ]
  },
  {
   "cell_type": "raw",
   "id": "a0eae92f-f942-4671-8593-86190e37fc9e",
   "metadata": {},
   "source": [
    "Пункт 2. Постройте зависимости вида y = a + bx, где y – объясняемая переменная, x – регрессор"
   ]
  },
  {
   "cell_type": "code",
   "execution_count": 4,
   "id": "7068473a-da0c-4ca7-ad76-6354b7647066",
   "metadata": {
    "collapsed": true,
    "jupyter": {
     "outputs_hidden": true
    },
    "tags": []
   },
   "outputs": [
    {
     "data": {
      "text/plain": [
       "\n",
       "Call:\n",
       "lm(formula = Catholic ~ Agriculture, data = data)\n",
       "\n",
       "Coefficients:\n",
       "(Intercept)  Agriculture  \n",
       "     3.8313       0.7365  \n"
      ]
     },
     "metadata": {},
     "output_type": "display_data"
    },
    {
     "data": {
      "text/plain": [
       "\n",
       "Call:\n",
       "lm(formula = Catholic ~ Examination, data = data)\n",
       "\n",
       "Coefficients:\n",
       "(Intercept)  Examination  \n",
       "     90.514       -2.994  \n"
      ]
     },
     "metadata": {},
     "output_type": "display_data"
    }
   ],
   "source": [
    "model1 = lm(Catholic~Agriculture, data)\n",
    "model2 = lm(Catholic~Examination, data)\n",
    "\n",
    "model1 # y = 3.8313 + 0.7365x\n",
    "model2 # y = 90.514 - 2.994x"
   ]
  },
  {
   "cell_type": "raw",
   "id": "04575e13-5b6c-42c1-afa0-16982f75bfd9",
   "metadata": {},
   "source": [
    "Пункт 3. Оцените, насколько «хороша» модель по коэффициенту детерминации R^2"
   ]
  },
  {
   "cell_type": "code",
   "execution_count": 5,
   "id": "c14a3cdd-9ad0-4864-97a2-857fe4208834",
   "metadata": {
    "collapsed": true,
    "jupyter": {
     "outputs_hidden": true
    },
    "tags": []
   },
   "outputs": [
    {
     "data": {
      "text/plain": [
       "\n",
       "Call:\n",
       "lm(formula = Catholic ~ Agriculture, data = data)\n",
       "\n",
       "Residuals:\n",
       "   Min     1Q Median     3Q    Max \n",
       "-54.76 -36.83  -5.11  37.42  60.74 \n",
       "\n",
       "Coefficients:\n",
       "            Estimate Std. Error t value Pr(>|t|)   \n",
       "(Intercept)   3.8313    13.8966   0.276   0.7840   \n",
       "Agriculture   0.7365     0.2508   2.937   0.0052 **\n",
       "---\n",
       "Signif. codes:  0 ‘***’ 0.001 ‘**’ 0.01 ‘*’ 0.05 ‘.’ 0.1 ‘ ’ 1\n",
       "\n",
       "Residual standard error: 38.63 on 45 degrees of freedom\n",
       "Multiple R-squared:  0.1609,\tAdjusted R-squared:  0.1422 \n",
       "F-statistic: 8.627 on 1 and 45 DF,  p-value: 0.005204\n"
      ]
     },
     "metadata": {},
     "output_type": "display_data"
    },
    {
     "data": {
      "text/plain": [
       "\n",
       "Call:\n",
       "lm(formula = Catholic ~ Examination, data = data)\n",
       "\n",
       "Residuals:\n",
       "    Min      1Q  Median      3Q     Max \n",
       "-69.989 -29.992  -0.559  29.395  62.606 \n",
       "\n",
       "Coefficients:\n",
       "            Estimate Std. Error t value Pr(>|t|)    \n",
       "(Intercept)  90.5137    11.6779   7.751 7.96e-10 ***\n",
       "Examination  -2.9940     0.6388  -4.687 2.59e-05 ***\n",
       "---\n",
       "Signif. codes:  0 ‘***’ 0.001 ‘**’ 0.01 ‘*’ 0.05 ‘.’ 0.1 ‘ ’ 1\n",
       "\n",
       "Residual standard error: 34.56 on 45 degrees of freedom\n",
       "Multiple R-squared:  0.328,\tAdjusted R-squared:  0.3131 \n",
       "F-statistic: 21.97 on 1 and 45 DF,  p-value: 2.588e-05\n"
      ]
     },
     "metadata": {},
     "output_type": "display_data"
    }
   ],
   "source": [
    "summary(model1) #R^2 = 0.1609 - Показатель R^2 крайне низкий, значит, модель очень плоха (объясняет 16% колебаний Agriculture)\n",
    "summary(model2) #R^2 = 0.328 - Показатель R^2 низкий, значит, модель плохая (объясняет 33% колебаний Agriculture)"
   ]
  },
  {
   "cell_type": "raw",
   "id": "681ab1fb-2776-4d52-855c-ab81ed33a095",
   "metadata": {},
   "source": [
    "Пункт 4. Оцените, есть ли взаимосвязь между объясняемой переменной и объясняющей переменной\n",
    "В model1 у параметров 0 и 2 звездочки. Взаимозвясь крайней слабая\n",
    "В model2 у параметров по 3 звездочки. Взаимозвязь очень сильная"
   ]
  },
  {
   "cell_type": "raw",
   "id": "af699c9e-70e8-4582-87d6-d1539ca9f27e",
   "metadata": {},
   "source": [
    "Вывод\n",
    "В model1 прчинно-следственная связь между переменными крайне слабая, также она нелинейна и/или требует дополнительных регрессоров\n",
    "В model2 присутсвует очень сильная причинно-следственная связь между переменными, но она нелинейна и/или требует дополнительных регрессоров"
   ]
  }
 ],
 "metadata": {
  "kernelspec": {
   "display_name": "R",
   "language": "R",
   "name": "ir"
  },
  "language_info": {
   "codemirror_mode": "r",
   "file_extension": ".r",
   "mimetype": "text/x-r-source",
   "name": "R",
   "pygments_lexer": "r",
   "version": "4.1.2"
  }
 },
 "nbformat": 4,
 "nbformat_minor": 5
}
