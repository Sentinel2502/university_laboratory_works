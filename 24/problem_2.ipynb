{
 "cells": [
  {
   "cell_type": "code",
   "execution_count": 1,
   "id": "85c18372-2479-466f-8a3f-a370038b711f",
   "metadata": {
    "collapsed": true,
    "jupyter": {
     "outputs_hidden": true
    }
   },
   "outputs": [
    {
     "name": "stderr",
     "output_type": "stream",
     "text": [
      "Loading required package: zoo\n",
      "\n",
      "\n",
      "Attaching package: ‘zoo’\n",
      "\n",
      "\n",
      "The following objects are masked from ‘package:base’:\n",
      "\n",
      "    as.Date, as.Date.numeric\n",
      "\n",
      "\n",
      "Loading required package: ggplot2\n",
      "\n",
      "Registered S3 method overwritten by 'GGally':\n",
      "  method from   \n",
      "  +.gg   ggplot2\n",
      "\n",
      "Loading required package: carData\n",
      "\n"
     ]
    }
   ],
   "source": [
    "library(\"lmtest\")\n",
    "library(\"GGally\") \n",
    "library(\"car\")"
   ]
  },
  {
   "cell_type": "code",
   "execution_count": 2,
   "id": "1e09c078-a679-4bb5-a97a-27cd0dc60279",
   "metadata": {
    "tags": []
   },
   "outputs": [
    {
     "data": {
      "text/html": [
       "<table class=\"dataframe\">\n",
       "<caption>A data.frame: 30 × 7</caption>\n",
       "<thead>\n",
       "\t<tr><th></th><th scope=col>rating</th><th scope=col>complaints</th><th scope=col>privileges</th><th scope=col>learning</th><th scope=col>raises</th><th scope=col>critical</th><th scope=col>advance</th></tr>\n",
       "\t<tr><th></th><th scope=col>&lt;dbl&gt;</th><th scope=col>&lt;dbl&gt;</th><th scope=col>&lt;dbl&gt;</th><th scope=col>&lt;dbl&gt;</th><th scope=col>&lt;dbl&gt;</th><th scope=col>&lt;dbl&gt;</th><th scope=col>&lt;dbl&gt;</th></tr>\n",
       "</thead>\n",
       "<tbody>\n",
       "\t<tr><th scope=row>1</th><td>43</td><td>51</td><td>30</td><td>39</td><td>61</td><td>92</td><td>45</td></tr>\n",
       "\t<tr><th scope=row>2</th><td>63</td><td>64</td><td>51</td><td>54</td><td>63</td><td>73</td><td>47</td></tr>\n",
       "\t<tr><th scope=row>3</th><td>71</td><td>70</td><td>68</td><td>69</td><td>76</td><td>86</td><td>48</td></tr>\n",
       "\t<tr><th scope=row>4</th><td>61</td><td>63</td><td>45</td><td>47</td><td>54</td><td>84</td><td>35</td></tr>\n",
       "\t<tr><th scope=row>5</th><td>81</td><td>78</td><td>56</td><td>66</td><td>71</td><td>83</td><td>47</td></tr>\n",
       "\t<tr><th scope=row>6</th><td>43</td><td>55</td><td>49</td><td>44</td><td>54</td><td>49</td><td>34</td></tr>\n",
       "\t<tr><th scope=row>7</th><td>58</td><td>67</td><td>42</td><td>56</td><td>66</td><td>68</td><td>35</td></tr>\n",
       "\t<tr><th scope=row>8</th><td>71</td><td>75</td><td>50</td><td>55</td><td>70</td><td>66</td><td>41</td></tr>\n",
       "\t<tr><th scope=row>9</th><td>72</td><td>82</td><td>72</td><td>67</td><td>71</td><td>83</td><td>31</td></tr>\n",
       "\t<tr><th scope=row>10</th><td>67</td><td>61</td><td>45</td><td>47</td><td>62</td><td>80</td><td>41</td></tr>\n",
       "\t<tr><th scope=row>11</th><td>64</td><td>53</td><td>53</td><td>58</td><td>58</td><td>67</td><td>34</td></tr>\n",
       "\t<tr><th scope=row>12</th><td>67</td><td>60</td><td>47</td><td>39</td><td>59</td><td>74</td><td>41</td></tr>\n",
       "\t<tr><th scope=row>13</th><td>69</td><td>62</td><td>57</td><td>42</td><td>55</td><td>63</td><td>25</td></tr>\n",
       "\t<tr><th scope=row>14</th><td>68</td><td>83</td><td>83</td><td>45</td><td>59</td><td>77</td><td>35</td></tr>\n",
       "\t<tr><th scope=row>15</th><td>77</td><td>77</td><td>54</td><td>72</td><td>79</td><td>77</td><td>46</td></tr>\n",
       "\t<tr><th scope=row>16</th><td>81</td><td>90</td><td>50</td><td>72</td><td>60</td><td>54</td><td>36</td></tr>\n",
       "\t<tr><th scope=row>17</th><td>74</td><td>85</td><td>64</td><td>69</td><td>79</td><td>79</td><td>63</td></tr>\n",
       "\t<tr><th scope=row>18</th><td>65</td><td>60</td><td>65</td><td>75</td><td>55</td><td>80</td><td>60</td></tr>\n",
       "\t<tr><th scope=row>19</th><td>65</td><td>70</td><td>46</td><td>57</td><td>75</td><td>85</td><td>46</td></tr>\n",
       "\t<tr><th scope=row>20</th><td>50</td><td>58</td><td>68</td><td>54</td><td>64</td><td>78</td><td>52</td></tr>\n",
       "\t<tr><th scope=row>21</th><td>50</td><td>40</td><td>33</td><td>34</td><td>43</td><td>64</td><td>33</td></tr>\n",
       "\t<tr><th scope=row>22</th><td>64</td><td>61</td><td>52</td><td>62</td><td>66</td><td>80</td><td>41</td></tr>\n",
       "\t<tr><th scope=row>23</th><td>53</td><td>66</td><td>52</td><td>50</td><td>63</td><td>80</td><td>37</td></tr>\n",
       "\t<tr><th scope=row>24</th><td>40</td><td>37</td><td>42</td><td>58</td><td>50</td><td>57</td><td>49</td></tr>\n",
       "\t<tr><th scope=row>25</th><td>63</td><td>54</td><td>42</td><td>48</td><td>66</td><td>75</td><td>33</td></tr>\n",
       "\t<tr><th scope=row>26</th><td>66</td><td>77</td><td>66</td><td>63</td><td>88</td><td>76</td><td>72</td></tr>\n",
       "\t<tr><th scope=row>27</th><td>78</td><td>75</td><td>58</td><td>74</td><td>80</td><td>78</td><td>49</td></tr>\n",
       "\t<tr><th scope=row>28</th><td>48</td><td>57</td><td>44</td><td>45</td><td>51</td><td>83</td><td>38</td></tr>\n",
       "\t<tr><th scope=row>29</th><td>85</td><td>85</td><td>71</td><td>71</td><td>77</td><td>74</td><td>55</td></tr>\n",
       "\t<tr><th scope=row>30</th><td>82</td><td>82</td><td>39</td><td>59</td><td>64</td><td>78</td><td>39</td></tr>\n",
       "</tbody>\n",
       "</table>\n"
      ],
      "text/latex": [
       "A data.frame: 30 × 7\n",
       "\\begin{tabular}{r|lllllll}\n",
       "  & rating & complaints & privileges & learning & raises & critical & advance\\\\\n",
       "  & <dbl> & <dbl> & <dbl> & <dbl> & <dbl> & <dbl> & <dbl>\\\\\n",
       "\\hline\n",
       "\t1 & 43 & 51 & 30 & 39 & 61 & 92 & 45\\\\\n",
       "\t2 & 63 & 64 & 51 & 54 & 63 & 73 & 47\\\\\n",
       "\t3 & 71 & 70 & 68 & 69 & 76 & 86 & 48\\\\\n",
       "\t4 & 61 & 63 & 45 & 47 & 54 & 84 & 35\\\\\n",
       "\t5 & 81 & 78 & 56 & 66 & 71 & 83 & 47\\\\\n",
       "\t6 & 43 & 55 & 49 & 44 & 54 & 49 & 34\\\\\n",
       "\t7 & 58 & 67 & 42 & 56 & 66 & 68 & 35\\\\\n",
       "\t8 & 71 & 75 & 50 & 55 & 70 & 66 & 41\\\\\n",
       "\t9 & 72 & 82 & 72 & 67 & 71 & 83 & 31\\\\\n",
       "\t10 & 67 & 61 & 45 & 47 & 62 & 80 & 41\\\\\n",
       "\t11 & 64 & 53 & 53 & 58 & 58 & 67 & 34\\\\\n",
       "\t12 & 67 & 60 & 47 & 39 & 59 & 74 & 41\\\\\n",
       "\t13 & 69 & 62 & 57 & 42 & 55 & 63 & 25\\\\\n",
       "\t14 & 68 & 83 & 83 & 45 & 59 & 77 & 35\\\\\n",
       "\t15 & 77 & 77 & 54 & 72 & 79 & 77 & 46\\\\\n",
       "\t16 & 81 & 90 & 50 & 72 & 60 & 54 & 36\\\\\n",
       "\t17 & 74 & 85 & 64 & 69 & 79 & 79 & 63\\\\\n",
       "\t18 & 65 & 60 & 65 & 75 & 55 & 80 & 60\\\\\n",
       "\t19 & 65 & 70 & 46 & 57 & 75 & 85 & 46\\\\\n",
       "\t20 & 50 & 58 & 68 & 54 & 64 & 78 & 52\\\\\n",
       "\t21 & 50 & 40 & 33 & 34 & 43 & 64 & 33\\\\\n",
       "\t22 & 64 & 61 & 52 & 62 & 66 & 80 & 41\\\\\n",
       "\t23 & 53 & 66 & 52 & 50 & 63 & 80 & 37\\\\\n",
       "\t24 & 40 & 37 & 42 & 58 & 50 & 57 & 49\\\\\n",
       "\t25 & 63 & 54 & 42 & 48 & 66 & 75 & 33\\\\\n",
       "\t26 & 66 & 77 & 66 & 63 & 88 & 76 & 72\\\\\n",
       "\t27 & 78 & 75 & 58 & 74 & 80 & 78 & 49\\\\\n",
       "\t28 & 48 & 57 & 44 & 45 & 51 & 83 & 38\\\\\n",
       "\t29 & 85 & 85 & 71 & 71 & 77 & 74 & 55\\\\\n",
       "\t30 & 82 & 82 & 39 & 59 & 64 & 78 & 39\\\\\n",
       "\\end{tabular}\n"
      ],
      "text/markdown": [
       "\n",
       "A data.frame: 30 × 7\n",
       "\n",
       "| <!--/--> | rating &lt;dbl&gt; | complaints &lt;dbl&gt; | privileges &lt;dbl&gt; | learning &lt;dbl&gt; | raises &lt;dbl&gt; | critical &lt;dbl&gt; | advance &lt;dbl&gt; |\n",
       "|---|---|---|---|---|---|---|---|\n",
       "| 1 | 43 | 51 | 30 | 39 | 61 | 92 | 45 |\n",
       "| 2 | 63 | 64 | 51 | 54 | 63 | 73 | 47 |\n",
       "| 3 | 71 | 70 | 68 | 69 | 76 | 86 | 48 |\n",
       "| 4 | 61 | 63 | 45 | 47 | 54 | 84 | 35 |\n",
       "| 5 | 81 | 78 | 56 | 66 | 71 | 83 | 47 |\n",
       "| 6 | 43 | 55 | 49 | 44 | 54 | 49 | 34 |\n",
       "| 7 | 58 | 67 | 42 | 56 | 66 | 68 | 35 |\n",
       "| 8 | 71 | 75 | 50 | 55 | 70 | 66 | 41 |\n",
       "| 9 | 72 | 82 | 72 | 67 | 71 | 83 | 31 |\n",
       "| 10 | 67 | 61 | 45 | 47 | 62 | 80 | 41 |\n",
       "| 11 | 64 | 53 | 53 | 58 | 58 | 67 | 34 |\n",
       "| 12 | 67 | 60 | 47 | 39 | 59 | 74 | 41 |\n",
       "| 13 | 69 | 62 | 57 | 42 | 55 | 63 | 25 |\n",
       "| 14 | 68 | 83 | 83 | 45 | 59 | 77 | 35 |\n",
       "| 15 | 77 | 77 | 54 | 72 | 79 | 77 | 46 |\n",
       "| 16 | 81 | 90 | 50 | 72 | 60 | 54 | 36 |\n",
       "| 17 | 74 | 85 | 64 | 69 | 79 | 79 | 63 |\n",
       "| 18 | 65 | 60 | 65 | 75 | 55 | 80 | 60 |\n",
       "| 19 | 65 | 70 | 46 | 57 | 75 | 85 | 46 |\n",
       "| 20 | 50 | 58 | 68 | 54 | 64 | 78 | 52 |\n",
       "| 21 | 50 | 40 | 33 | 34 | 43 | 64 | 33 |\n",
       "| 22 | 64 | 61 | 52 | 62 | 66 | 80 | 41 |\n",
       "| 23 | 53 | 66 | 52 | 50 | 63 | 80 | 37 |\n",
       "| 24 | 40 | 37 | 42 | 58 | 50 | 57 | 49 |\n",
       "| 25 | 63 | 54 | 42 | 48 | 66 | 75 | 33 |\n",
       "| 26 | 66 | 77 | 66 | 63 | 88 | 76 | 72 |\n",
       "| 27 | 78 | 75 | 58 | 74 | 80 | 78 | 49 |\n",
       "| 28 | 48 | 57 | 44 | 45 | 51 | 83 | 38 |\n",
       "| 29 | 85 | 85 | 71 | 71 | 77 | 74 | 55 |\n",
       "| 30 | 82 | 82 | 39 | 59 | 64 | 78 | 39 |\n",
       "\n"
      ],
      "text/plain": [
       "   rating complaints privileges learning raises critical advance\n",
       "1  43     51         30         39       61     92       45     \n",
       "2  63     64         51         54       63     73       47     \n",
       "3  71     70         68         69       76     86       48     \n",
       "4  61     63         45         47       54     84       35     \n",
       "5  81     78         56         66       71     83       47     \n",
       "6  43     55         49         44       54     49       34     \n",
       "7  58     67         42         56       66     68       35     \n",
       "8  71     75         50         55       70     66       41     \n",
       "9  72     82         72         67       71     83       31     \n",
       "10 67     61         45         47       62     80       41     \n",
       "11 64     53         53         58       58     67       34     \n",
       "12 67     60         47         39       59     74       41     \n",
       "13 69     62         57         42       55     63       25     \n",
       "14 68     83         83         45       59     77       35     \n",
       "15 77     77         54         72       79     77       46     \n",
       "16 81     90         50         72       60     54       36     \n",
       "17 74     85         64         69       79     79       63     \n",
       "18 65     60         65         75       55     80       60     \n",
       "19 65     70         46         57       75     85       46     \n",
       "20 50     58         68         54       64     78       52     \n",
       "21 50     40         33         34       43     64       33     \n",
       "22 64     61         52         62       66     80       41     \n",
       "23 53     66         52         50       63     80       37     \n",
       "24 40     37         42         58       50     57       49     \n",
       "25 63     54         42         48       66     75       33     \n",
       "26 66     77         66         63       88     76       72     \n",
       "27 78     75         58         74       80     78       49     \n",
       "28 48     57         44         45       51     83       38     \n",
       "29 85     85         71         71       77     74       55     \n",
       "30 82     82         39         59       64     78       39     "
      ]
     },
     "metadata": {},
     "output_type": "display_data"
    }
   ],
   "source": [
    "data = na.omit(attitude)\n",
    "data"
   ]
  },
  {
   "cell_type": "raw",
   "id": "6721b223-d159-48db-8721-ccfabd2f2c86",
   "metadata": {},
   "source": [
    "Пункт 1. Проверьте отсутсвие зависимости между регрессорами перед построением модели"
   ]
  },
  {
   "cell_type": "code",
   "execution_count": 3,
   "id": "e9dfe2fc-2cb2-4003-8896-cc732ee20390",
   "metadata": {
    "collapsed": true,
    "jupyter": {
     "outputs_hidden": true
    }
   },
   "outputs": [
    {
     "data": {
      "text/plain": [
       "\n",
       "Call:\n",
       "lm(formula = raises ~ critical, data = data)\n",
       "\n",
       "Residuals:\n",
       "     Min       1Q   Median       3Q      Max \n",
       "-17.3696  -5.2407  -0.8198   5.7472  22.8782 \n",
       "\n",
       "Coefficients:\n",
       "            Estimate Std. Error t value Pr(>|t|)  \n",
       "(Intercept)  35.0246    13.8680   2.526   0.0175 *\n",
       "critical      0.3960     0.1839   2.153   0.0401 *\n",
       "---\n",
       "Signif. codes:  0 ‘***’ 0.001 ‘**’ 0.01 ‘*’ 0.05 ‘.’ 0.1 ‘ ’ 1\n",
       "\n",
       "Residual standard error: 9.801 on 28 degrees of freedom\n",
       "Multiple R-squared:  0.142,\tAdjusted R-squared:  0.1114 \n",
       "F-statistic: 4.636 on 1 and 28 DF,  p-value: 0.04008\n"
      ]
     },
     "metadata": {},
     "output_type": "display_data"
    }
   ],
   "source": [
    "# (attitude) rating ~ raises, critical, advance \n",
    "check = lm(raises~critical, data)\n",
    "summary(check) # R^2 = 14% (нет зависимости)"
   ]
  },
  {
   "cell_type": "code",
   "execution_count": 4,
   "id": "e747ce53-ba20-4a61-bec7-b17e41dc954d",
   "metadata": {
    "collapsed": true,
    "jupyter": {
     "outputs_hidden": true
    }
   },
   "outputs": [
    {
     "data": {
      "text/plain": [
       "\n",
       "Call:\n",
       "lm(formula = raises ~ advance, data = data)\n",
       "\n",
       "Residuals:\n",
       "    Min      1Q  Median      3Q     Max \n",
       "-19.536  -4.752   1.211   6.359  13.291 \n",
       "\n",
       "Coefficients:\n",
       "            Estimate Std. Error t value Pr(>|t|)    \n",
       "(Intercept)  39.7216     6.8967   5.759  3.5e-06 ***\n",
       "advance       0.5802     0.1564   3.711 0.000907 ***\n",
       "---\n",
       "Signif. codes:  0 ‘***’ 0.001 ‘**’ 0.01 ‘*’ 0.05 ‘.’ 0.1 ‘ ’ 1\n",
       "\n",
       "Residual standard error: 8.663 on 28 degrees of freedom\n",
       "Multiple R-squared:  0.3297,\tAdjusted R-squared:  0.3058 \n",
       "F-statistic: 13.77 on 1 and 28 DF,  p-value: 0.0009068\n"
      ]
     },
     "metadata": {},
     "output_type": "display_data"
    }
   ],
   "source": [
    "check = lm(raises~advance, data)\n",
    "summary(check) # R^2 = 33% (нет зависимости)"
   ]
  },
  {
   "cell_type": "code",
   "execution_count": 5,
   "id": "8a4c5384-72e4-402e-858e-9a2fd8860fe1",
   "metadata": {
    "collapsed": true,
    "jupyter": {
     "outputs_hidden": true
    }
   },
   "outputs": [
    {
     "data": {
      "text/plain": [
       "\n",
       "Call:\n",
       "lm(formula = advance ~ critical, data = data)\n",
       "\n",
       "Residuals:\n",
       "    Min      1Q  Median      3Q     Max \n",
       "-14.467  -6.732  -1.525   4.043  28.703 \n",
       "\n",
       "Coefficients:\n",
       "            Estimate Std. Error t value Pr(>|t|)\n",
       "(Intercept)  20.9056    14.2086   1.471    0.152\n",
       "critical      0.2946     0.1885   1.563    0.129\n",
       "\n",
       "Residual standard error: 10.04 on 28 degrees of freedom\n",
       "Multiple R-squared:  0.08028,\tAdjusted R-squared:  0.04744 \n",
       "F-statistic: 2.444 on 1 and 28 DF,  p-value: 0.1292\n"
      ]
     },
     "metadata": {},
     "output_type": "display_data"
    }
   ],
   "source": [
    "check = lm(advance~critical, data)\n",
    "summary(check) # R^2 = 8% (нет зависимости)"
   ]
  },
  {
   "cell_type": "raw",
   "id": "7d756a47-a4ae-48c7-850e-501885157f04",
   "metadata": {},
   "source": [
    "Пункт 2. Постройте линейную модель и оцените ее"
   ]
  },
  {
   "cell_type": "code",
   "execution_count": 6,
   "id": "06fc647e-0a01-435c-a6c7-a43d1dcf81d1",
   "metadata": {
    "collapsed": true,
    "jupyter": {
     "outputs_hidden": true
    }
   },
   "outputs": [
    {
     "data": {
      "text/plain": [
       "\n",
       "Call:\n",
       "lm(formula = rating ~ raises + critical + advance, data = data)\n",
       "\n",
       "Residuals:\n",
       "     Min       1Q   Median       3Q      Max \n",
       "-16.7162  -6.9329   0.7381   5.6540  16.9070 \n",
       "\n",
       "Coefficients:\n",
       "            Estimate Std. Error t value Pr(>|t|)    \n",
       "(Intercept) 25.50063   15.60204   1.634 0.114218    \n",
       "raises       0.89612    0.22555   3.973 0.000501 ***\n",
       "critical    -0.06882    0.20233  -0.340 0.736483    \n",
       "advance     -0.31773    0.22014  -1.443 0.160870    \n",
       "---\n",
       "Signif. codes:  0 ‘***’ 0.001 ‘**’ 0.01 ‘*’ 0.05 ‘.’ 0.1 ‘ ’ 1\n",
       "\n",
       "Residual standard error: 9.947 on 26 degrees of freedom\n",
       "Multiple R-squared:  0.4013,\tAdjusted R-squared:  0.3322 \n",
       "F-statistic: 5.809 on 3 and 26 DF,  p-value: 0.003537\n"
      ]
     },
     "metadata": {},
     "output_type": "display_data"
    }
   ],
   "source": [
    "# (attitude) rating ~ raises, critical, advance\n",
    "model = lm(rating ~ raises + critical + advance, data)\n",
    "summary(model)\n",
    "# R^2 ~ 0,4, p-значения critical и advance > 0.1 (не имеют звездочек). \n",
    "# Коэффицент детерминации низкий и модель имеет много переменных не нее не влияющих, она плохая"
   ]
  },
  {
   "cell_type": "code",
   "execution_count": 7,
   "id": "ee9d573a-bc0e-4f99-901c-4714affbb67a",
   "metadata": {
    "collapsed": true,
    "jupyter": {
     "outputs_hidden": true
    }
   },
   "outputs": [
    {
     "data": {
      "text/plain": [
       "\n",
       "Call:\n",
       "lm(formula = rating ~ raises + advance, data = data)\n",
       "\n",
       "Residuals:\n",
       "    Min      1Q  Median      3Q     Max \n",
       "-17.783  -7.359   1.060   5.304  18.173 \n",
       "\n",
       "Coefficients:\n",
       "            Estimate Std. Error t value Pr(>|t|)    \n",
       "(Intercept)  21.9917    11.5114   1.910 0.066753 .  \n",
       "raises        0.8752     0.2134   4.101 0.000339 ***\n",
       "advance      -0.3243     0.2157  -1.504 0.144200    \n",
       "---\n",
       "Signif. codes:  0 ‘***’ 0.001 ‘**’ 0.01 ‘*’ 0.05 ‘.’ 0.1 ‘ ’ 1\n",
       "\n",
       "Residual standard error: 9.783 on 27 degrees of freedom\n",
       "Multiple R-squared:  0.3986,\tAdjusted R-squared:  0.3541 \n",
       "F-statistic: 8.949 on 2 and 27 DF,  p-value: 0.001043\n"
      ]
     },
     "metadata": {},
     "output_type": "display_data"
    }
   ],
   "source": [
    "# Уберем из модели регрессор critical как незначительный\n",
    "model = lm(rating ~ raises + advance, data)\n",
    "summary(model)\n",
    "# R^2 ~ 0,4 - R^2 практически не изменился"
   ]
  },
  {
   "cell_type": "code",
   "execution_count": 8,
   "id": "9af39bac-8ab4-490e-a50e-dff5e98ca808",
   "metadata": {
    "collapsed": true,
    "jupyter": {
     "outputs_hidden": true
    }
   },
   "outputs": [
    {
     "data": {
      "text/plain": [
       "\n",
       "Call:\n",
       "lm(formula = rating ~ raises + critical, data = data)\n",
       "\n",
       "Residuals:\n",
       "     Min       1Q   Median       3Q      Max \n",
       "-17.3695  -6.1277   0.8381   6.0199  18.1316 \n",
       "\n",
       "Coefficients:\n",
       "            Estimate Std. Error t value Pr(>|t|)    \n",
       "(Intercept)  24.8575    15.9054   1.563 0.129738    \n",
       "raises        0.7248     0.1956   3.706 0.000959 ***\n",
       "critical     -0.0946     0.2055  -0.460 0.649030    \n",
       "---\n",
       "Signif. codes:  0 ‘***’ 0.001 ‘**’ 0.01 ‘*’ 0.05 ‘.’ 0.1 ‘ ’ 1\n",
       "\n",
       "Residual standard error: 10.14 on 27 degrees of freedom\n",
       "Multiple R-squared:  0.3533,\tAdjusted R-squared:  0.3054 \n",
       "F-statistic: 7.376 on 2 and 27 DF,  p-value: 0.002781\n"
      ]
     },
     "metadata": {},
     "output_type": "display_data"
    }
   ],
   "source": [
    "# Уберем из модели регрессор advance как незначительный\n",
    "model = lm(rating ~ raises + critical, data)\n",
    "summary(model)\n",
    "# R^2 ~ 0,35 - значение R^2 значительно ухудшилось"
   ]
  },
  {
   "cell_type": "code",
   "execution_count": 9,
   "id": "c720f84d-222f-4c6d-aad3-a46a2dfd0623",
   "metadata": {
    "collapsed": true,
    "jupyter": {
     "outputs_hidden": true
    }
   },
   "outputs": [
    {
     "data": {
      "text/plain": [
       "\n",
       "Call:\n",
       "lm(formula = rating ~ raises, data = data)\n",
       "\n",
       "Residuals:\n",
       "    Min      1Q  Median      3Q     Max \n",
       "-19.123  -7.109   1.377   5.741  19.568 \n",
       "\n",
       "Coefficients:\n",
       "            Estimate Std. Error t value Pr(>|t|)    \n",
       "(Intercept)  19.9778    11.6881   1.709 0.098468 .  \n",
       "raises        0.6909     0.1786   3.868 0.000598 ***\n",
       "---\n",
       "Signif. codes:  0 ‘***’ 0.001 ‘**’ 0.01 ‘*’ 0.05 ‘.’ 0.1 ‘ ’ 1\n",
       "\n",
       "Residual standard error: 10 on 28 degrees of freedom\n",
       "Multiple R-squared:  0.3483,\tAdjusted R-squared:  0.325 \n",
       "F-statistic: 14.96 on 1 and 28 DF,  p-value: 0.0005978\n"
      ]
     },
     "metadata": {},
     "output_type": "display_data"
    }
   ],
   "source": [
    "# Уберем из модели регрессоры critical и advance как незначительные\n",
    "model = lm(rating ~ raises, data)\n",
    "summary(model)\n",
    "# R^2 ~ 0,35 - значение R^2 значительно ухудшилось"
   ]
  },
  {
   "cell_type": "code",
   "execution_count": 10,
   "id": "a57dcd4e-8fca-40fb-8fc9-30bef030546a",
   "metadata": {
    "collapsed": true,
    "jupyter": {
     "outputs_hidden": true
    }
   },
   "outputs": [],
   "source": [
    "# Эта модель сохранила эффективность изначальной модели, используя меньшее количество регрессоров\n",
    "# В дальнейшем будем работать с этой моделью\n",
    "model = lm(rating ~ raises + advance, data)"
   ]
  },
  {
   "cell_type": "raw",
   "id": "16b7db27-7e6c-403c-bd87-321ee231c7ba",
   "metadata": {},
   "source": [
    "Пункт 3. Введите в модель логарифмы регрессоров (если возможно). Сравните модели и выберете наилучшую"
   ]
  },
  {
   "cell_type": "code",
   "execution_count": 11,
   "id": "1a1f9132-7ef7-4a67-a0e0-75adc324221b",
   "metadata": {
    "collapsed": true,
    "jupyter": {
     "outputs_hidden": true
    }
   },
   "outputs": [
    {
     "data": {
      "text/html": [
       "<style>\n",
       ".dl-inline {width: auto; margin:0; padding: 0}\n",
       ".dl-inline>dt, .dl-inline>dd {float: none; width: auto; display: inline-block}\n",
       ".dl-inline>dt::after {content: \":\\0020\"; padding-right: .5ex}\n",
       ".dl-inline>dt:not(:first-of-type) {padding-left: .5ex}\n",
       "</style><dl class=dl-inline><dt>I(log(raises))</dt><dd>1.39811343736555</dd><dt>I(log(advance))</dt><dd>1.39811343736555</dd></dl>\n"
      ],
      "text/latex": [
       "\\begin{description*}\n",
       "\\item[I(log(raises))] 1.39811343736555\n",
       "\\item[I(log(advance))] 1.39811343736555\n",
       "\\end{description*}\n"
      ],
      "text/markdown": [
       "I(log(raises))\n",
       ":   1.39811343736555I(log(advance))\n",
       ":   1.39811343736555\n",
       "\n"
      ],
      "text/plain": [
       " I(log(raises)) I(log(advance)) \n",
       "       1.398113        1.398113 "
      ]
     },
     "metadata": {},
     "output_type": "display_data"
    },
    {
     "data": {
      "text/plain": [
       "\n",
       "Call:\n",
       "lm(formula = I(log(rating)) ~ I(log(raises)) + I(log(advance)), \n",
       "    data = data)\n",
       "\n",
       "Residuals:\n",
       "     Min       1Q   Median       3Q      Max \n",
       "-0.32906 -0.10128  0.02745  0.09411  0.26622 \n",
       "\n",
       "Coefficients:\n",
       "                Estimate Std. Error t value Pr(>|t|)    \n",
       "(Intercept)       1.1650     0.7642   1.524 0.139023    \n",
       "I(log(raises))    0.9332     0.2157   4.325 0.000186 ***\n",
       "I(log(advance))  -0.2393     0.1524  -1.571 0.127916    \n",
       "---\n",
       "Signif. codes:  0 ‘***’ 0.001 ‘**’ 0.01 ‘*’ 0.05 ‘.’ 0.1 ‘ ’ 1\n",
       "\n",
       "Residual standard error: 0.1597 on 27 degrees of freedom\n",
       "Multiple R-squared:  0.419,\tAdjusted R-squared:  0.3759 \n",
       "F-statistic: 9.735 on 2 and 27 DF,  p-value: 0.0006555\n"
      ]
     },
     "metadata": {},
     "output_type": "display_data"
    }
   ],
   "source": [
    "model = lm(I(log(rating)) ~ I(log(raises)) + I(log(advance)), data)\n",
    "vif(model) # Корреляцией между перменными можно пренебречь (1<корреляция<5)\n",
    "summary(model) \n",
    "# R^2 ~ 0,42 - значение R^2 немного повысилось при логарифмировании\n",
    "# p-статистика не изменилась при логарифмировании"
   ]
  },
  {
   "cell_type": "code",
   "execution_count": 12,
   "id": "190f450c-d7f3-4989-87be-f95affcec66c",
   "metadata": {
    "collapsed": true,
    "jupyter": {
     "outputs_hidden": true
    }
   },
   "outputs": [
    {
     "data": {
      "text/html": [
       "<style>\n",
       ".dl-inline {width: auto; margin:0; padding: 0}\n",
       ".dl-inline>dt, .dl-inline>dd {float: none; width: auto; display: inline-block}\n",
       ".dl-inline>dt::after {content: \":\\0020\"; padding-right: .5ex}\n",
       ".dl-inline>dt:not(:first-of-type) {padding-left: .5ex}\n",
       "</style><dl class=dl-inline><dt>I(log(raises))</dt><dd>1.39811343736555</dd><dt>I(log(advance))</dt><dd>1.39811343736555</dd></dl>\n"
      ],
      "text/latex": [
       "\\begin{description*}\n",
       "\\item[I(log(raises))] 1.39811343736555\n",
       "\\item[I(log(advance))] 1.39811343736555\n",
       "\\end{description*}\n"
      ],
      "text/markdown": [
       "I(log(raises))\n",
       ":   1.39811343736555I(log(advance))\n",
       ":   1.39811343736555\n",
       "\n"
      ],
      "text/plain": [
       " I(log(raises)) I(log(advance)) \n",
       "       1.398113        1.398113 "
      ]
     },
     "metadata": {},
     "output_type": "display_data"
    },
    {
     "data": {
      "text/plain": [
       "\n",
       "Call:\n",
       "lm(formula = rating ~ I(log(raises)) + I(log(advance)), data = data)\n",
       "\n",
       "Residuals:\n",
       "    Min      1Q  Median      3Q     Max \n",
       "-18.198  -7.097   1.444   5.037  17.818 \n",
       "\n",
       "Coefficients:\n",
       "                Estimate Std. Error t value Pr(>|t|)    \n",
       "(Intercept)     -115.572     46.471  -2.487 0.019361 *  \n",
       "I(log(raises))    55.004     13.119   4.193 0.000265 ***\n",
       "I(log(advance))  -12.963      9.264  -1.399 0.173132    \n",
       "---\n",
       "Signif. codes:  0 ‘***’ 0.001 ‘**’ 0.01 ‘*’ 0.05 ‘.’ 0.1 ‘ ’ 1\n",
       "\n",
       "Residual standard error: 9.711 on 27 degrees of freedom\n",
       "Multiple R-squared:  0.4074,\tAdjusted R-squared:  0.3635 \n",
       "F-statistic: 9.281 on 2 and 27 DF,  p-value: 0.0008557\n"
      ]
     },
     "metadata": {},
     "output_type": "display_data"
    }
   ],
   "source": [
    "model = lm(rating ~ I(log(raises)) + I(log(advance)), data)\n",
    "vif(model) # Корреляцией между перменными можно пренебречь (1<корреляция<5)\n",
    "summary(model)  \n",
    "# R^2 ~ 0,41 - R^2 немного понизился\n",
    "# p-статистика практически не изменилась"
   ]
  },
  {
   "cell_type": "code",
   "execution_count": 13,
   "id": "55e7f81b-93de-42f0-aca9-fd25bc3f4091",
   "metadata": {
    "collapsed": true,
    "jupyter": {
     "outputs_hidden": true
    }
   },
   "outputs": [
    {
     "data": {
      "text/html": [
       "<style>\n",
       ".dl-inline {width: auto; margin:0; padding: 0}\n",
       ".dl-inline>dt, .dl-inline>dd {float: none; width: auto; display: inline-block}\n",
       ".dl-inline>dt::after {content: \":\\0020\"; padding-right: .5ex}\n",
       ".dl-inline>dt:not(:first-of-type) {padding-left: .5ex}\n",
       "</style><dl class=dl-inline><dt>raises</dt><dd>1.46270092523703</dd><dt>I(log(advance))</dt><dd>1.46270092523703</dd></dl>\n"
      ],
      "text/latex": [
       "\\begin{description*}\n",
       "\\item[raises] 1.46270092523703\n",
       "\\item[I(log(advance))] 1.46270092523703\n",
       "\\end{description*}\n"
      ],
      "text/markdown": [
       "raises\n",
       ":   1.46270092523703I(log(advance))\n",
       ":   1.46270092523703\n",
       "\n"
      ],
      "text/plain": [
       "         raises I(log(advance)) \n",
       "       1.462701        1.462701 "
      ]
     },
     "metadata": {},
     "output_type": "display_data"
    },
    {
     "data": {
      "text/plain": [
       "\n",
       "Call:\n",
       "lm(formula = I(log(rating)) ~ raises + I(log(advance)), data = data)\n",
       "\n",
       "Residuals:\n",
       "     Min       1Q   Median       3Q      Max \n",
       "-0.31604 -0.10331  0.02028  0.09052  0.27347 \n",
       "\n",
       "Coefficients:\n",
       "                 Estimate Std. Error t value Pr(>|t|)    \n",
       "(Intercept)      4.175877   0.497242   8.398 5.21e-09 ***\n",
       "raises           0.014738   0.003479   4.237 0.000236 ***\n",
       "I(log(advance)) -0.262084   0.157143  -1.668 0.106914    \n",
       "---\n",
       "Signif. codes:  0 ‘***’ 0.001 ‘**’ 0.01 ‘*’ 0.05 ‘.’ 0.1 ‘ ’ 1\n",
       "\n",
       "Residual standard error: 0.161 on 27 degrees of freedom\n",
       "Multiple R-squared:  0.4092,\tAdjusted R-squared:  0.3654 \n",
       "F-statistic: 9.349 on 2 and 27 DF,  p-value: 0.0008221\n"
      ]
     },
     "metadata": {},
     "output_type": "display_data"
    }
   ],
   "source": [
    "model = lm(I(log(rating)) ~ raises + I(log(advance)), data)\n",
    "vif(model) # Корреляцией между перменными можно пренебречь (1<корреляция<5)\n",
    "summary(model)\n",
    "# R^2 ~ 0,41 - R^2 немного понизился\n",
    "# p-значение повысилось до 3-х звездочек для y-пересечения"
   ]
  },
  {
   "cell_type": "code",
   "execution_count": 14,
   "id": "d89a73f8-b06e-417f-ac1d-83297adc1afd",
   "metadata": {
    "collapsed": true,
    "jupyter": {
     "outputs_hidden": true
    }
   },
   "outputs": [
    {
     "data": {
      "text/html": [
       "<style>\n",
       ".dl-inline {width: auto; margin:0; padding: 0}\n",
       ".dl-inline>dt, .dl-inline>dd {float: none; width: auto; display: inline-block}\n",
       ".dl-inline>dt::after {content: \":\\0020\"; padding-right: .5ex}\n",
       ".dl-inline>dt:not(:first-of-type) {padding-left: .5ex}\n",
       "</style><dl class=dl-inline><dt>I(log(raises))</dt><dd>1.41042632115624</dd><dt>advance</dt><dd>1.41042632115624</dd></dl>\n"
      ],
      "text/latex": [
       "\\begin{description*}\n",
       "\\item[I(log(raises))] 1.41042632115624\n",
       "\\item[advance] 1.41042632115624\n",
       "\\end{description*}\n"
      ],
      "text/markdown": [
       "I(log(raises))\n",
       ":   1.41042632115624advance\n",
       ":   1.41042632115624\n",
       "\n"
      ],
      "text/plain": [
       "I(log(raises))        advance \n",
       "      1.410426       1.410426 "
      ]
     },
     "metadata": {},
     "output_type": "display_data"
    },
    {
     "data": {
      "text/plain": [
       "\n",
       "Call:\n",
       "lm(formula = I(log(rating)) ~ I(log(raises)) + advance, data = data)\n",
       "\n",
       "Residuals:\n",
       "     Min       1Q   Median       3Q      Max \n",
       "-0.33611 -0.10550  0.02158  0.09556  0.26607 \n",
       "\n",
       "Coefficients:\n",
       "                Estimate Std. Error t value Pr(>|t|)    \n",
       "(Intercept)     0.512717   0.834104   0.615 0.543904    \n",
       "I(log(raises))  0.928424   0.217477   4.269 0.000216 ***\n",
       "advance        -0.005156   0.003436  -1.501 0.145005    \n",
       "---\n",
       "Signif. codes:  0 ‘***’ 0.001 ‘**’ 0.01 ‘*’ 0.05 ‘.’ 0.1 ‘ ’ 1\n",
       "\n",
       "Residual standard error: 0.1603 on 27 degrees of freedom\n",
       "Multiple R-squared:  0.4147,\tAdjusted R-squared:  0.3714 \n",
       "F-statistic: 9.566 on 2 and 27 DF,  p-value: 0.0007234\n"
      ]
     },
     "metadata": {},
     "output_type": "display_data"
    }
   ],
   "source": [
    "model = lm(I(log(rating)) ~ I(log(raises)) + advance, data)\n",
    "vif(model) # Корреляцией между перменными можно пренебречь (1<корреляция<5)\n",
    "summary(model)\n",
    "# R^2 ~ 0,415 - R^2 незначительно понизился\n",
    "# p-статистика не изменилась"
   ]
  },
  {
   "cell_type": "code",
   "execution_count": 15,
   "id": "160ff9a8-9c11-48eb-8419-c6548ed967f4",
   "metadata": {
    "collapsed": true,
    "jupyter": {
     "outputs_hidden": true
    }
   },
   "outputs": [],
   "source": [
    "# Самой эффективной является данная модель\n",
    "# R^2 ~ 0,42 - значение R^2 немного выросло благодаря логарифмированию\n",
    "# p-статистика не притерпела значительного изменения\n",
    "model = lm(I(log(rating)) ~ I(log(raises)) + I(log(advance)), data)"
   ]
  },
  {
   "cell_type": "raw",
   "id": "2091782c-bf93-47ca-9535-d993b87c632d",
   "metadata": {},
   "source": [
    "Пункт 4. Введите в модель всевозможные произведения пар регрессоров, в том числе квадраты регрессоров. Найдите одну или несколько наилучших моделей по доле объясненного разброса в данных R^2"
   ]
  },
  {
   "cell_type": "code",
   "execution_count": 16,
   "id": "9dc617af-4364-4bd7-a9f2-afbaa7c346a6",
   "metadata": {
    "collapsed": true,
    "jupyter": {
     "outputs_hidden": true
    }
   },
   "outputs": [
    {
     "data": {
      "text/html": [
       "<style>\n",
       ".dl-inline {width: auto; margin:0; padding: 0}\n",
       ".dl-inline>dt, .dl-inline>dd {float: none; width: auto; display: inline-block}\n",
       ".dl-inline>dt::after {content: \":\\0020\"; padding-right: .5ex}\n",
       ".dl-inline>dt:not(:first-of-type) {padding-left: .5ex}\n",
       "</style><dl class=dl-inline><dt>I(raises)</dt><dd>182.640921066323</dd><dt>I(advance)</dt><dd>70.9418917734938</dd><dt>I(raises^2)</dt><dd>306.227635639057</dd><dt>I(advance^2)</dt><dd>106.450718587695</dd><dt>I(advance * raises)</dt><dd>253.371314557254</dd></dl>\n"
      ],
      "text/latex": [
       "\\begin{description*}\n",
       "\\item[I(raises)] 182.640921066323\n",
       "\\item[I(advance)] 70.9418917734938\n",
       "\\item[I(raises\\textbackslash{}textasciicircum\\{\\}2)] 306.227635639057\n",
       "\\item[I(advance\\textbackslash{}textasciicircum\\{\\}2)] 106.450718587695\n",
       "\\item[I(advance * raises)] 253.371314557254\n",
       "\\end{description*}\n"
      ],
      "text/markdown": [
       "I(raises)\n",
       ":   182.640921066323I(advance)\n",
       ":   70.9418917734938I(raises^2)\n",
       ":   306.227635639057I(advance^2)\n",
       ":   106.450718587695I(advance * raises)\n",
       ":   253.371314557254\n",
       "\n"
      ],
      "text/plain": [
       "          I(raises)          I(advance)         I(raises^2)        I(advance^2) \n",
       "          182.64092            70.94189           306.22764           106.45072 \n",
       "I(advance * raises) \n",
       "          253.37131 "
      ]
     },
     "metadata": {},
     "output_type": "display_data"
    },
    {
     "data": {
      "text/plain": [
       "\n",
       "Call:\n",
       "lm(formula = I(rating) ~ I(raises) + I(advance) + I(raises^2) + \n",
       "    I(advance^2) + I(advance * raises), data = data)\n",
       "\n",
       "Residuals:\n",
       "    Min      1Q  Median      3Q     Max \n",
       "-18.424  -7.313   1.326   5.558  17.832 \n",
       "\n",
       "Coefficients:\n",
       "                      Estimate Std. Error t value Pr(>|t|)\n",
       "(Intercept)         -21.077045  69.815765  -0.302    0.765\n",
       "I(raises)             2.272894   2.478812   0.917    0.368\n",
       "I(advance)           -0.423989   1.561179  -0.272    0.788\n",
       "I(raises^2)          -0.008586   0.024317  -0.353    0.727\n",
       "I(advance^2)          0.006484   0.019933   0.325    0.748\n",
       "I(advance * raises)  -0.006648   0.028489  -0.233    0.817\n",
       "\n",
       "Residual standard error: 10.27 on 24 degrees of freedom\n",
       "Multiple R-squared:  0.4109,\tAdjusted R-squared:  0.2882 \n",
       "F-statistic: 3.348 on 5 and 24 DF,  p-value: 0.01957\n"
      ]
     },
     "metadata": {},
     "output_type": "display_data"
    }
   ],
   "source": [
    "model = lm(I(rating) ~ I(raises) + I(advance) + I(raises^2) + I(advance^2) + I(advance*raises), data)\n",
    "vif(model) # Есть сильная линейная зависимость, уберем регрессор, VIF которого максимален\n",
    "summary(model)"
   ]
  },
  {
   "cell_type": "code",
   "execution_count": 17,
   "id": "1adb482e-b87a-44ad-91f0-268eacee4e9a",
   "metadata": {
    "collapsed": true,
    "jupyter": {
     "outputs_hidden": true
    }
   },
   "outputs": [
    {
     "data": {
      "text/html": [
       "<style>\n",
       ".dl-inline {width: auto; margin:0; padding: 0}\n",
       ".dl-inline>dt, .dl-inline>dd {float: none; width: auto; display: inline-block}\n",
       ".dl-inline>dt::after {content: \":\\0020\"; padding-right: .5ex}\n",
       ".dl-inline>dt:not(:first-of-type) {padding-left: .5ex}\n",
       "</style><dl class=dl-inline><dt>I(raises)</dt><dd>31.0298854352822</dd><dt>I(advance)</dt><dd>47.5949541536298</dd><dt>I(advance^2)</dt><dd>105.26333883222</dd><dt>I(advance * raises)</dt><dd>148.708648678556</dd></dl>\n"
      ],
      "text/latex": [
       "\\begin{description*}\n",
       "\\item[I(raises)] 31.0298854352822\n",
       "\\item[I(advance)] 47.5949541536298\n",
       "\\item[I(advance\\textbackslash{}textasciicircum\\{\\}2)] 105.26333883222\n",
       "\\item[I(advance * raises)] 148.708648678556\n",
       "\\end{description*}\n"
      ],
      "text/markdown": [
       "I(raises)\n",
       ":   31.0298854352822I(advance)\n",
       ":   47.5949541536298I(advance^2)\n",
       ":   105.26333883222I(advance * raises)\n",
       ":   148.708648678556\n",
       "\n"
      ],
      "text/plain": [
       "          I(raises)          I(advance)        I(advance^2) I(advance * raises) \n",
       "           31.02989            47.59495           105.26334           148.70865 "
      ]
     },
     "metadata": {},
     "output_type": "display_data"
    },
    {
     "data": {
      "text/plain": [
       "\n",
       "Call:\n",
       "lm(formula = I(rating) ~ I(raises) + I(advance) + I(advance^2) + \n",
       "    I(advance * raises), data = data)\n",
       "\n",
       "Residuals:\n",
       "     Min       1Q   Median       3Q      Max \n",
       "-17.7946  -7.3824   0.8636   5.4885  18.3085 \n",
       "\n",
       "Coefficients:\n",
       "                     Estimate Std. Error t value Pr(>|t|)\n",
       "(Intercept)         -3.000162  46.627020  -0.064    0.949\n",
       "I(raises)            1.475492   1.003680   1.470    0.154\n",
       "I(advance)          -0.107774   1.256152  -0.086    0.932\n",
       "I(advance^2)         0.007228   0.019471   0.371    0.714\n",
       "I(advance * raises) -0.013113   0.021440  -0.612    0.546\n",
       "\n",
       "Residual standard error: 10.09 on 25 degrees of freedom\n",
       "Multiple R-squared:  0.4079,\tAdjusted R-squared:  0.3131 \n",
       "F-statistic: 4.305 on 4 and 25 DF,  p-value: 0.008719\n"
      ]
     },
     "metadata": {},
     "output_type": "display_data"
    }
   ],
   "source": [
    "model = lm(I(rating) ~ I(raises) + I(advance) + I(advance^2) + I(advance*raises), data)\n",
    "vif(model) # Есть сильная линейная зависимость, уберем регрессор, VIF которого максимален\n",
    "summary(model)"
   ]
  },
  {
   "cell_type": "code",
   "execution_count": 18,
   "id": "7cd2841d-ab78-47c0-a8b2-d48dbc624808",
   "metadata": {
    "collapsed": true,
    "jupyter": {
     "outputs_hidden": true
    }
   },
   "outputs": [
    {
     "data": {
      "text/html": [
       "<style>\n",
       ".dl-inline {width: auto; margin:0; padding: 0}\n",
       ".dl-inline>dt, .dl-inline>dd {float: none; width: auto; display: inline-block}\n",
       ".dl-inline>dt::after {content: \":\\0020\"; padding-right: .5ex}\n",
       ".dl-inline>dt:not(:first-of-type) {padding-left: .5ex}\n",
       "</style><dl class=dl-inline><dt>I(raises)</dt><dd>1.49580811852207</dd><dt>I(advance)</dt><dd>47.2612906870384</dd><dt>I(advance^2)</dt><dd>47.2624040278005</dd></dl>\n"
      ],
      "text/latex": [
       "\\begin{description*}\n",
       "\\item[I(raises)] 1.49580811852207\n",
       "\\item[I(advance)] 47.2612906870384\n",
       "\\item[I(advance\\textbackslash{}textasciicircum\\{\\}2)] 47.2624040278005\n",
       "\\end{description*}\n"
      ],
      "text/markdown": [
       "I(raises)\n",
       ":   1.49580811852207I(advance)\n",
       ":   47.2612906870384I(advance^2)\n",
       ":   47.2624040278005\n",
       "\n"
      ],
      "text/plain": [
       "   I(raises)   I(advance) I(advance^2) \n",
       "    1.495808    47.261291    47.262404 "
      ]
     },
     "metadata": {},
     "output_type": "display_data"
    },
    {
     "data": {
      "text/plain": [
       "\n",
       "Call:\n",
       "lm(formula = I(rating) ~ I(raises) + I(advance) + I(advance^2), \n",
       "    data = data)\n",
       "\n",
       "Residuals:\n",
       "    Min      1Q  Median      3Q     Max \n",
       "-17.965  -7.524   0.913   5.312  18.188 \n",
       "\n",
       "Coefficients:\n",
       "              Estimate Std. Error t value Pr(>|t|)    \n",
       "(Intercept)  18.502131  30.257965   0.611 0.546192    \n",
       "I(raises)     0.876597   0.217697   4.027 0.000436 ***\n",
       "I(advance)   -0.172102   1.236583  -0.139 0.890384    \n",
       "I(advance^2) -0.001612   0.012889  -0.125 0.901403    \n",
       "---\n",
       "Signif. codes:  0 ‘***’ 0.001 ‘**’ 0.01 ‘*’ 0.05 ‘.’ 0.1 ‘ ’ 1\n",
       "\n",
       "Residual standard error: 9.966 on 26 degrees of freedom\n",
       "Multiple R-squared:  0.399,\tAdjusted R-squared:  0.3297 \n",
       "F-statistic: 5.754 on 3 and 26 DF,  p-value: 0.003709\n"
      ]
     },
     "metadata": {},
     "output_type": "display_data"
    }
   ],
   "source": [
    "model = lm(I(rating) ~ I(raises) + I(advance) + I(advance^2), data)\n",
    "vif(model) # Есть сильная линейная зависимость, поочередно уберем регрессоры с максимальными VIF\n",
    "summary(model)"
   ]
  },
  {
   "cell_type": "code",
   "execution_count": 19,
   "id": "8d662812-f32a-412e-958f-77c4814ef071",
   "metadata": {
    "collapsed": true,
    "jupyter": {
     "outputs_hidden": true
    }
   },
   "outputs": [
    {
     "data": {
      "text/html": [
       "<style>\n",
       ".dl-inline {width: auto; margin:0; padding: 0}\n",
       ".dl-inline>dt, .dl-inline>dd {float: none; width: auto; display: inline-block}\n",
       ".dl-inline>dt::after {content: \":\\0020\"; padding-right: .5ex}\n",
       ".dl-inline>dt:not(:first-of-type) {padding-left: .5ex}\n",
       "</style><dl class=dl-inline><dt>I(raises)</dt><dd>1.49188163624827</dd><dt>I(advance^2)</dt><dd>1.49188163624827</dd></dl>\n"
      ],
      "text/latex": [
       "\\begin{description*}\n",
       "\\item[I(raises)] 1.49188163624827\n",
       "\\item[I(advance\\textbackslash{}textasciicircum\\{\\}2)] 1.49188163624827\n",
       "\\end{description*}\n"
      ],
      "text/markdown": [
       "I(raises)\n",
       ":   1.49188163624827I(advance^2)\n",
       ":   1.49188163624827\n",
       "\n"
      ],
      "text/plain": [
       "   I(raises) I(advance^2) \n",
       "    1.491882     1.491882 "
      ]
     },
     "metadata": {},
     "output_type": "display_data"
    },
    {
     "data": {
      "text/plain": [
       "\n",
       "Call:\n",
       "lm(formula = I(rating) ~ I(raises) + I(advance^2), data = data)\n",
       "\n",
       "Residuals:\n",
       "     Min       1Q   Median       3Q      Max \n",
       "-18.1858  -7.6963   0.7312   5.3408  18.2268 \n",
       "\n",
       "Coefficients:\n",
       "              Estimate Std. Error t value Pr(>|t|)    \n",
       "(Intercept)  14.648145  11.971628   1.224  0.23169    \n",
       "I(raises)     0.875045   0.213426   4.100  0.00034 ***\n",
       "I(advance^2) -0.003378   0.002248  -1.503  0.14456    \n",
       "---\n",
       "Signif. codes:  0 ‘***’ 0.001 ‘**’ 0.01 ‘*’ 0.05 ‘.’ 0.1 ‘ ’ 1\n",
       "\n",
       "Residual standard error: 9.784 on 27 degrees of freedom\n",
       "Multiple R-squared:  0.3986,\tAdjusted R-squared:  0.354 \n",
       "F-statistic: 8.946 on 2 and 27 DF,  p-value: 0.001045\n"
      ]
     },
     "metadata": {},
     "output_type": "display_data"
    }
   ],
   "source": [
    "model = lm(I(rating) ~ I(raises) + I(advance^2), data)\n",
    "vif(model) # Корреляцией между перменными можно пренебречь (1<корреляция<5)\n",
    "summary(model)"
   ]
  },
  {
   "cell_type": "code",
   "execution_count": 20,
   "id": "f9849e07-d355-4dc6-83e0-14d4fb1fa6b2",
   "metadata": {
    "collapsed": true,
    "jupyter": {
     "outputs_hidden": true
    }
   },
   "outputs": [
    {
     "data": {
      "text/html": [
       "<style>\n",
       ".dl-inline {width: auto; margin:0; padding: 0}\n",
       ".dl-inline>dt, .dl-inline>dd {float: none; width: auto; display: inline-block}\n",
       ".dl-inline>dt::after {content: \":\\0020\"; padding-right: .5ex}\n",
       ".dl-inline>dt:not(:first-of-type) {padding-left: .5ex}\n",
       "</style><dl class=dl-inline><dt>I(raises)</dt><dd>1.49184649261409</dd><dt>I(advance)</dt><dd>1.49184649261409</dd></dl>\n"
      ],
      "text/latex": [
       "\\begin{description*}\n",
       "\\item[I(raises)] 1.49184649261409\n",
       "\\item[I(advance)] 1.49184649261409\n",
       "\\end{description*}\n"
      ],
      "text/markdown": [
       "I(raises)\n",
       ":   1.49184649261409I(advance)\n",
       ":   1.49184649261409\n",
       "\n"
      ],
      "text/plain": [
       " I(raises) I(advance) \n",
       "  1.491846   1.491846 "
      ]
     },
     "metadata": {},
     "output_type": "display_data"
    },
    {
     "data": {
      "text/plain": [
       "\n",
       "Call:\n",
       "lm(formula = I(rating) ~ I(raises) + I(advance), data = data)\n",
       "\n",
       "Residuals:\n",
       "    Min      1Q  Median      3Q     Max \n",
       "-17.783  -7.359   1.060   5.304  18.173 \n",
       "\n",
       "Coefficients:\n",
       "            Estimate Std. Error t value Pr(>|t|)    \n",
       "(Intercept)  21.9917    11.5114   1.910 0.066753 .  \n",
       "I(raises)     0.8752     0.2134   4.101 0.000339 ***\n",
       "I(advance)   -0.3243     0.2157  -1.504 0.144200    \n",
       "---\n",
       "Signif. codes:  0 ‘***’ 0.001 ‘**’ 0.01 ‘*’ 0.05 ‘.’ 0.1 ‘ ’ 1\n",
       "\n",
       "Residual standard error: 9.783 on 27 degrees of freedom\n",
       "Multiple R-squared:  0.3986,\tAdjusted R-squared:  0.3541 \n",
       "F-statistic: 8.949 on 2 and 27 DF,  p-value: 0.001043\n"
      ]
     },
     "metadata": {},
     "output_type": "display_data"
    }
   ],
   "source": [
    "model = lm(I(rating) ~ I(raises) + I(advance), data)\n",
    "vif(model) # Корреляцией между перменными можно пренебречь (1<корреляция<5)\n",
    "summary(model)"
   ]
  },
  {
   "cell_type": "code",
   "execution_count": 26,
   "id": "9cd79ca6-13c0-4e48-a328-ecb8da692e16",
   "metadata": {
    "tags": []
   },
   "outputs": [
    {
     "data": {
      "text/plain": [
       "\n",
       "Call:\n",
       "lm(formula = I(rating) ~ I(raises) + I(advance^2), data = data)\n",
       "\n",
       "Residuals:\n",
       "     Min       1Q   Median       3Q      Max \n",
       "-18.1858  -7.6963   0.7312   5.3408  18.2268 \n",
       "\n",
       "Coefficients:\n",
       "              Estimate Std. Error t value Pr(>|t|)    \n",
       "(Intercept)  14.648145  11.971628   1.224  0.23169    \n",
       "I(raises)     0.875045   0.213426   4.100  0.00034 ***\n",
       "I(advance^2) -0.003378   0.002248  -1.503  0.14456    \n",
       "---\n",
       "Signif. codes:  0 ‘***’ 0.001 ‘**’ 0.01 ‘*’ 0.05 ‘.’ 0.1 ‘ ’ 1\n",
       "\n",
       "Residual standard error: 9.784 on 27 degrees of freedom\n",
       "Multiple R-squared:  0.3986,\tAdjusted R-squared:  0.354 \n",
       "F-statistic: 8.946 on 2 and 27 DF,  p-value: 0.001045\n"
      ]
     },
     "metadata": {},
     "output_type": "display_data"
    },
    {
     "data": {
      "text/plain": [
       "\n",
       "Call:\n",
       "lm(formula = I(rating) ~ I(raises) + I(advance), data = data)\n",
       "\n",
       "Residuals:\n",
       "    Min      1Q  Median      3Q     Max \n",
       "-17.783  -7.359   1.060   5.304  18.173 \n",
       "\n",
       "Coefficients:\n",
       "            Estimate Std. Error t value Pr(>|t|)    \n",
       "(Intercept)  21.9917    11.5114   1.910 0.066753 .  \n",
       "I(raises)     0.8752     0.2134   4.101 0.000339 ***\n",
       "I(advance)   -0.3243     0.2157  -1.504 0.144200    \n",
       "---\n",
       "Signif. codes:  0 ‘***’ 0.001 ‘**’ 0.01 ‘*’ 0.05 ‘.’ 0.1 ‘ ’ 1\n",
       "\n",
       "Residual standard error: 9.783 on 27 degrees of freedom\n",
       "Multiple R-squared:  0.3986,\tAdjusted R-squared:  0.3541 \n",
       "F-statistic: 8.949 on 2 and 27 DF,  p-value: 0.001043\n"
      ]
     },
     "metadata": {},
     "output_type": "display_data"
    }
   ],
   "source": [
    "# Наилучшиии модели. Они показали одинаковые резултаты\n",
    "# R^2 ~ 0,4\n",
    "model = lm(I(rating) ~ I(raises) + I(advance^2), data)\n",
    "summary(model)\n",
    "model = lm(I(rating) ~ I(raises) + I(advance), data)\n",
    "summary(model)"
   ]
  },
  {
   "cell_type": "code",
   "execution_count": null,
   "id": "d189b312-c7aa-4608-8d6c-aab05bcb817a",
   "metadata": {},
   "outputs": [],
   "source": []
  }
 ],
 "metadata": {
  "kernelspec": {
   "display_name": "R",
   "language": "R",
   "name": "ir"
  },
  "language_info": {
   "codemirror_mode": "r",
   "file_extension": ".r",
   "mimetype": "text/x-r-source",
   "name": "R",
   "pygments_lexer": "r",
   "version": "4.1.2"
  }
 },
 "nbformat": 4,
 "nbformat_minor": 5
}
