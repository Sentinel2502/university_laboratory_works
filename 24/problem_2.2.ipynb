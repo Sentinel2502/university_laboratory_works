{
 "cells": [
  {
   "cell_type": "code",
   "execution_count": 1,
   "id": "67b2fed2-9574-4ba7-837e-b36492a7a8a5",
   "metadata": {
    "collapsed": true,
    "jupyter": {
     "outputs_hidden": true
    }
   },
   "outputs": [
    {
     "name": "stderr",
     "output_type": "stream",
     "text": [
      "Loading required package: zoo\n",
      "\n",
      "\n",
      "Attaching package: ‘zoo’\n",
      "\n",
      "\n",
      "The following objects are masked from ‘package:base’:\n",
      "\n",
      "    as.Date, as.Date.numeric\n",
      "\n",
      "\n",
      "Loading required package: ggplot2\n",
      "\n",
      "Registered S3 method overwritten by 'GGally':\n",
      "  method from   \n",
      "  +.gg   ggplot2\n",
      "\n",
      "Loading required package: carData\n",
      "\n"
     ]
    }
   ],
   "source": [
    "library(\"lmtest\")\n",
    "library(\"GGally\") \n",
    "library(\"car\")"
   ]
  },
  {
   "cell_type": "code",
   "execution_count": 3,
   "id": "6ef92670-791c-46fa-95fd-0ccd9da72afb",
   "metadata": {
    "collapsed": true,
    "jupyter": {
     "outputs_hidden": true
    },
    "tags": []
   },
   "outputs": [
    {
     "data": {
      "text/plain": [
       "\n",
       "Call:\n",
       "lm(formula = rating ~ raises + critical + advance, data = data)\n",
       "\n",
       "Residuals:\n",
       "     Min       1Q   Median       3Q      Max \n",
       "-16.7162  -6.9329   0.7381   5.6540  16.9070 \n",
       "\n",
       "Coefficients:\n",
       "            Estimate Std. Error t value Pr(>|t|)    \n",
       "(Intercept) 25.50063   15.60204   1.634 0.114218    \n",
       "raises       0.89612    0.22555   3.973 0.000501 ***\n",
       "critical    -0.06882    0.20233  -0.340 0.736483    \n",
       "advance     -0.31773    0.22014  -1.443 0.160870    \n",
       "---\n",
       "Signif. codes:  0 ‘***’ 0.001 ‘**’ 0.01 ‘*’ 0.05 ‘.’ 0.1 ‘ ’ 1\n",
       "\n",
       "Residual standard error: 9.947 on 26 degrees of freedom\n",
       "Multiple R-squared:  0.4013,\tAdjusted R-squared:  0.3322 \n",
       "F-statistic: 5.809 on 3 and 26 DF,  p-value: 0.003537\n"
      ]
     },
     "metadata": {},
     "output_type": "display_data"
    }
   ],
   "source": [
    "# attitude, rating ~ raises + critical + advance\n",
    "data = na.omit(attitude)\n",
    "model = lm(rating ~ raises + critical + advance, data)\n",
    "summary(model)"
   ]
  },
  {
   "cell_type": "raw",
   "id": "66ba354f-fa31-4f23-a615-75e4b0d70f7d",
   "metadata": {},
   "source": [
    "Пункт 1. Оцените доверительные интервалы для всех коэффицентов модели, p=95%."
   ]
  },
  {
   "cell_type": "code",
   "execution_count": 4,
   "id": "a2459253-f997-4400-9d86-13deee680c74",
   "metadata": {
    "collapsed": true,
    "jupyter": {
     "outputs_hidden": true
    }
   },
   "outputs": [],
   "source": [
    "# Количество степеней свободы в обучающей выборке - 26\n",
    "# Рассчитано 4 коэффицента\n",
    "# Рассчитаем t-критерий Стьюдента общий для всех коэффицентов\n",
    "t_critical = qt(0.975, df=22)\n",
    "\n",
    "# Стандартные ошибки коэффицентов\n",
    "Std_Error_Intercept = 15.60204\n",
    "Std_Error_raises = 0.22555\n",
    "Std_Error_critical = 0.20233\n",
    "Std_Error_advance = 0.22014"
   ]
  },
  {
   "cell_type": "code",
   "execution_count": 7,
   "id": "a197477b-2bed-4a67-872f-22de18f4d489",
   "metadata": {
    "collapsed": true,
    "jupyter": {
     "outputs_hidden": true
    }
   },
   "outputs": [
    {
     "name": "stdout",
     "output_type": "stream",
     "text": [
      "[1] \"Доверительный интервал свободного коэффициента: [ -6.85602307721549 , 57.8572780435072 ]\"\n",
      "[1] \"Доверительный интервал raises: [ 0.428361278233955 , 1.36388541916546 ]\"\n",
      "[1] \"Доверительный интервал critical: [ -0.488426056898476 , 0.350787418759567 ]\"\n",
      "[1] \"Доверительный интервал advance: [ -0.774275542129823 , 0.138809292206961 ]\"\n"
     ]
    }
   ],
   "source": [
    "# Доверительные интервалы коэффицентов\n",
    "print(paste(\"Доверительный интервал свободного коэффициента: [\", model$coefficients[1] - t_critical * Std_Error_Intercept, \n",
    "            \",\", model$coefficients[1] + t_critical * Std_Error_Intercept, \"]\"))\n",
    "\n",
    "print(paste(\"Доверительный интервал raises: [\", model$coefficients[2] - t_critical * Std_Error_raises, \n",
    "            \",\", model$coefficients[2] + t_critical * Std_Error_raises, \"]\"))\n",
    "\n",
    "print(paste(\"Доверительный интервал critical: [\", model$coefficients[3] - t_critical * Std_Error_critical, \n",
    "            \",\", model$coefficients[3] + t_critical * Std_Error_critical, \"]\"))\n",
    "\n",
    "print(paste(\"Доверительный интервал advance: [\", model$coefficients[4] - t_critical * Std_Error_advance, \n",
    "            \",\", model$coefficients[4] + t_critical * Std_Error_advance, \"]\"))\n"
   ]
  },
  {
   "cell_type": "raw",
   "id": "530fa951-4c90-4dbf-8f98-fcd6f3013757",
   "metadata": {},
   "source": [
    "Пункт 2. Сделайте вывод о отвержении или невозможности отвергнуть статистическую гипотезу о том, что коэффициент равен 0.\n",
    "\n",
    "Доверительный интервал свободного коэффициента: [ -6.85602307721549 , 57.8572780435072 ]\n",
    "0 попадает в данный интервал => невозможно отвергнуть статистическую гипотезу о том, что этот коэффицент может быть равен 0, на уровне значимости 5%\n",
    "\n",
    "Доверительный интервал raises: [ 0.428361278233955 , 1.36388541916546 ]\n",
    "0 не попадает в данный интервал => отвергаем статистическую гипотезу о том, что этот коэффицент может быть равен 0, на уровне значимости 5%\n",
    "\n",
    "Доверительный интервал critical: [ -0.488426056898476 , 0.350787418759567 ]\n",
    "0 попадает в данный интервал => невозможно отвергнуть статистическую гипотезу о том, что этот коэффицент может быть равен 0, на уровне значимости 5%\n",
    "\n",
    "Доверительный интервал advance: [ -0.774275542129823 , 0.138809292206961 ]\n",
    "0 попадает в данный интервал => невозможно отвергнуть статистическую гипотезу о том, что этот коэффицент может быть равен 0, на уровне значимости 5%"
   ]
  },
  {
   "cell_type": "raw",
   "id": "0295bd5f-16eb-43d1-bf06-6f3adc0246e2",
   "metadata": {},
   "source": [
    "Пункт 3. Доверительный интервал для одного прогноза (p = 95%, набор значений регрессоров выбираете сами)."
   ]
  },
  {
   "cell_type": "code",
   "execution_count": 9,
   "id": "1625b822-e5ce-419c-8b1e-0b4d3a9f20e8",
   "metadata": {
    "collapsed": true,
    "jupyter": {
     "outputs_hidden": true
    }
   },
   "outputs": [
    {
     "data": {
      "text/html": [
       "<table class=\"dataframe\">\n",
       "<caption>A matrix: 1 × 3 of type dbl</caption>\n",
       "<thead>\n",
       "\t<tr><th></th><th scope=col>fit</th><th scope=col>lwr</th><th scope=col>upr</th></tr>\n",
       "</thead>\n",
       "<tbody>\n",
       "\t<tr><th scope=row>1</th><td>39.55757</td><td>13.28483</td><td>65.83031</td></tr>\n",
       "</tbody>\n",
       "</table>\n"
      ],
      "text/latex": [
       "A matrix: 1 × 3 of type dbl\n",
       "\\begin{tabular}{r|lll}\n",
       "  & fit & lwr & upr\\\\\n",
       "\\hline\n",
       "\t1 & 39.55757 & 13.28483 & 65.83031\\\\\n",
       "\\end{tabular}\n"
      ],
      "text/markdown": [
       "\n",
       "A matrix: 1 × 3 of type dbl\n",
       "\n",
       "| <!--/--> | fit | lwr | upr |\n",
       "|---|---|---|---|\n",
       "| 1 | 39.55757 | 13.28483 | 65.83031 |\n",
       "\n"
      ],
      "text/plain": [
       "  fit      lwr      upr     \n",
       "1 39.55757 13.28483 65.83031"
      ]
     },
     "metadata": {},
     "output_type": "display_data"
    }
   ],
   "source": [
    "new.data = data.frame(raises = 20, critical = 10, advance = 10)\n",
    "predict(model, new.data, interval = \"confidence\")\n",
    "# Доверительный интервал: [13.28483; 65.83031]"
   ]
  }
 ],
 "metadata": {
  "kernelspec": {
   "display_name": "R",
   "language": "R",
   "name": "ir"
  },
  "language_info": {
   "codemirror_mode": "r",
   "file_extension": ".r",
   "mimetype": "text/x-r-source",
   "name": "R",
   "pygments_lexer": "r",
   "version": "4.1.2"
  }
 },
 "nbformat": 4,
 "nbformat_minor": 5
}
