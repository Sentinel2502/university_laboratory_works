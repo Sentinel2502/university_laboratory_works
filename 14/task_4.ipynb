{
 "cells": [
  {
   "cell_type": "raw",
   "id": "3e208401-9681-439e-80c0-fc5a5ba72f98",
   "metadata": {},
   "source": [
    "Набор данных - Students performance in exams (https://www.kaggle.com/spscientist/students-performance-in-exams)\n",
    "Тип классификатора - DecisionTreeClassifier (решающее дерево)\n",
    "Классификация по столбцу - Test preparation course"
   ]
  },
  {
   "cell_type": "code",
   "execution_count": 1,
   "id": "5cfc409f-7b61-47c8-b3f6-ebdb38d8b180",
   "metadata": {
    "collapsed": true,
    "jupyter": {
     "outputs_hidden": true
    }
   },
   "outputs": [
    {
     "name": "stdout",
     "output_type": "stream",
     "text": [
      "Defaulting to user installation because normal site-packages is not writeable\n",
      "Requirement already satisfied: pandas in /home/sentinel/.local/lib/python3.9/site-packages (1.3.5)\n",
      "Requirement already satisfied: pytz>=2017.3 in /home/sentinel/.local/lib/python3.9/site-packages (from pandas) (2021.3)\n",
      "Requirement already satisfied: numpy>=1.17.3 in /home/sentinel/.local/lib/python3.9/site-packages (from pandas) (1.21.4)\n",
      "Requirement already satisfied: python-dateutil>=2.7.3 in /home/sentinel/.local/lib/python3.9/site-packages (from pandas) (2.8.2)\n",
      "Requirement already satisfied: six>=1.5 in /usr/lib/python3.9/site-packages (from python-dateutil>=2.7.3->pandas) (1.16.0)\n",
      "Defaulting to user installation because normal site-packages is not writeable\n",
      "Requirement already satisfied: sklearn in /home/sentinel/.local/lib/python3.9/site-packages (0.0)\n",
      "Requirement already satisfied: scikit-learn in /home/sentinel/.local/lib/python3.9/site-packages (from sklearn) (1.0.1)\n",
      "Requirement already satisfied: scipy>=1.1.0 in /home/sentinel/.local/lib/python3.9/site-packages (from scikit-learn->sklearn) (1.7.3)\n",
      "Requirement already satisfied: joblib>=0.11 in /home/sentinel/.local/lib/python3.9/site-packages (from scikit-learn->sklearn) (1.1.0)\n",
      "Requirement already satisfied: threadpoolctl>=2.0.0 in /home/sentinel/.local/lib/python3.9/site-packages (from scikit-learn->sklearn) (3.0.0)\n",
      "Requirement already satisfied: numpy>=1.14.6 in /home/sentinel/.local/lib/python3.9/site-packages (from scikit-learn->sklearn) (1.21.4)\n"
     ]
    }
   ],
   "source": [
    "!pip install pandas\n",
    "!pip install sklearn"
   ]
  },
  {
   "cell_type": "code",
   "execution_count": 24,
   "id": "2ffea17d-1bf5-4c8f-b400-f9cc5cc74d7e",
   "metadata": {
    "collapsed": true,
    "jupyter": {
     "outputs_hidden": true
    }
   },
   "outputs": [],
   "source": [
    "import pandas as pd\n",
    "import numpy as np\n",
    "\n",
    "# подгружаем датасет\n",
    "data = pd.read_csv('StudentsPerformance.csv')\n",
    "\n",
    "# удаляем строки с NA\n",
    "data = data.dropna()\n",
    "\n",
    "# преобразуем значения столбцов, которые имеют только два разных значения в бинарное представление\n",
    "data['gender'] = np.where(data['gender'] == \"female\", 1, 0) # female - 1, male - 1\n",
    "data['test_preparation_course'] = np.where(data['test_preparation_course'] == \"completed\", 1, 0) # completed - 1, none - 0\n",
    "data['lunch'] = np.where(data['lunch'] == \"standard\", 1, 0)"
   ]
  },
  {
   "cell_type": "code",
   "execution_count": 25,
   "id": "9eb2e05e-f21e-47af-937d-4cad262101a2",
   "metadata": {
    "collapsed": true,
    "jupyter": {
     "outputs_hidden": true
    }
   },
   "outputs": [],
   "source": [
    "# отделим значение 'test preparation course' от остальных данных\n",
    "test_preparation_course = data.loc[:, data.columns.isin(['test_preparation_course'])]\n",
    "data = data.loc[:, data.columns.isin(['gender', 'race', 'parental_level_of_education', 'lunch', 'math_score', 'reading_score', 'writing_score'])]"
   ]
  },
  {
   "cell_type": "code",
   "execution_count": 26,
   "id": "b21f73bd-6b68-40fc-9cf3-cf29e4194e74",
   "metadata": {
    "collapsed": true,
    "jupyter": {
     "outputs_hidden": true
    }
   },
   "outputs": [],
   "source": [
    "# переведем категориальные переменные в one hot encoding\n",
    "race = pd.get_dummies(data.race, prefix='race')\n",
    "educ = pd.get_dummies(data.parental_level_of_education, prefix='educ')\n",
    "\n",
    "# удалим их из основых данных\n",
    "data = data.drop(columns = ['race', 'parental_level_of_education'])\n",
    "\n",
    "# добавим ohe датафреймы к основным данным\n",
    "frames = [data, race, educ]\n",
    "data = pd.concat(frames, axis = 1)\n",
    "\n",
    "# удалим по одному столбцу из каждой eho переменной\n",
    "data = data.drop(columns = ['race_group E', 'educ_some high school'])"
   ]
  },
  {
   "cell_type": "code",
   "execution_count": 27,
   "id": "eb49327c-377e-42ff-a854-6303bfafefde",
   "metadata": {
    "collapsed": true,
    "jupyter": {
     "outputs_hidden": true
    }
   },
   "outputs": [
    {
     "data": {
      "text/html": [
       "<div>\n",
       "<style scoped>\n",
       "    .dataframe tbody tr th:only-of-type {\n",
       "        vertical-align: middle;\n",
       "    }\n",
       "\n",
       "    .dataframe tbody tr th {\n",
       "        vertical-align: top;\n",
       "    }\n",
       "\n",
       "    .dataframe thead th {\n",
       "        text-align: right;\n",
       "    }\n",
       "</style>\n",
       "<table border=\"1\" class=\"dataframe\">\n",
       "  <thead>\n",
       "    <tr style=\"text-align: right;\">\n",
       "      <th></th>\n",
       "      <th>gender</th>\n",
       "      <th>lunch</th>\n",
       "      <th>math_score</th>\n",
       "      <th>reading_score</th>\n",
       "      <th>writing_score</th>\n",
       "      <th>race_group A</th>\n",
       "      <th>race_group B</th>\n",
       "      <th>race_group C</th>\n",
       "      <th>race_group D</th>\n",
       "      <th>educ_associate's degree</th>\n",
       "      <th>educ_bachelor's degree</th>\n",
       "      <th>educ_high school</th>\n",
       "      <th>educ_master's degree</th>\n",
       "      <th>educ_some college</th>\n",
       "    </tr>\n",
       "  </thead>\n",
       "  <tbody>\n",
       "    <tr>\n",
       "      <th>0</th>\n",
       "      <td>1</td>\n",
       "      <td>1</td>\n",
       "      <td>72</td>\n",
       "      <td>72</td>\n",
       "      <td>74</td>\n",
       "      <td>0</td>\n",
       "      <td>1</td>\n",
       "      <td>0</td>\n",
       "      <td>0</td>\n",
       "      <td>0</td>\n",
       "      <td>1</td>\n",
       "      <td>0</td>\n",
       "      <td>0</td>\n",
       "      <td>0</td>\n",
       "    </tr>\n",
       "    <tr>\n",
       "      <th>1</th>\n",
       "      <td>1</td>\n",
       "      <td>1</td>\n",
       "      <td>69</td>\n",
       "      <td>90</td>\n",
       "      <td>88</td>\n",
       "      <td>0</td>\n",
       "      <td>0</td>\n",
       "      <td>1</td>\n",
       "      <td>0</td>\n",
       "      <td>0</td>\n",
       "      <td>0</td>\n",
       "      <td>0</td>\n",
       "      <td>0</td>\n",
       "      <td>1</td>\n",
       "    </tr>\n",
       "    <tr>\n",
       "      <th>2</th>\n",
       "      <td>1</td>\n",
       "      <td>1</td>\n",
       "      <td>90</td>\n",
       "      <td>95</td>\n",
       "      <td>93</td>\n",
       "      <td>0</td>\n",
       "      <td>1</td>\n",
       "      <td>0</td>\n",
       "      <td>0</td>\n",
       "      <td>0</td>\n",
       "      <td>0</td>\n",
       "      <td>0</td>\n",
       "      <td>1</td>\n",
       "      <td>0</td>\n",
       "    </tr>\n",
       "    <tr>\n",
       "      <th>3</th>\n",
       "      <td>0</td>\n",
       "      <td>0</td>\n",
       "      <td>47</td>\n",
       "      <td>57</td>\n",
       "      <td>44</td>\n",
       "      <td>1</td>\n",
       "      <td>0</td>\n",
       "      <td>0</td>\n",
       "      <td>0</td>\n",
       "      <td>1</td>\n",
       "      <td>0</td>\n",
       "      <td>0</td>\n",
       "      <td>0</td>\n",
       "      <td>0</td>\n",
       "    </tr>\n",
       "    <tr>\n",
       "      <th>4</th>\n",
       "      <td>0</td>\n",
       "      <td>1</td>\n",
       "      <td>76</td>\n",
       "      <td>78</td>\n",
       "      <td>75</td>\n",
       "      <td>0</td>\n",
       "      <td>0</td>\n",
       "      <td>1</td>\n",
       "      <td>0</td>\n",
       "      <td>0</td>\n",
       "      <td>0</td>\n",
       "      <td>0</td>\n",
       "      <td>0</td>\n",
       "      <td>1</td>\n",
       "    </tr>\n",
       "  </tbody>\n",
       "</table>\n",
       "</div>"
      ],
      "text/plain": [
       "   gender  lunch  math_score  reading_score  writing_score  race_group A  \\\n",
       "0       1      1          72             72             74             0   \n",
       "1       1      1          69             90             88             0   \n",
       "2       1      1          90             95             93             0   \n",
       "3       0      0          47             57             44             1   \n",
       "4       0      1          76             78             75             0   \n",
       "\n",
       "   race_group B  race_group C  race_group D  educ_associate's degree  \\\n",
       "0             1             0             0                        0   \n",
       "1             0             1             0                        0   \n",
       "2             1             0             0                        0   \n",
       "3             0             0             0                        1   \n",
       "4             0             1             0                        0   \n",
       "\n",
       "   educ_bachelor's degree  educ_high school  educ_master's degree  \\\n",
       "0                       1                 0                     0   \n",
       "1                       0                 0                     0   \n",
       "2                       0                 0                     1   \n",
       "3                       0                 0                     0   \n",
       "4                       0                 0                     0   \n",
       "\n",
       "   educ_some college  \n",
       "0                  0  \n",
       "1                  1  \n",
       "2                  0  \n",
       "3                  0  \n",
       "4                  1  "
      ]
     },
     "execution_count": 27,
     "metadata": {},
     "output_type": "execute_result"
    }
   ],
   "source": [
    "data.head()"
   ]
  },
  {
   "cell_type": "code",
   "execution_count": 28,
   "id": "1f181751-b2fd-45bc-9b5d-9fab64e10f1b",
   "metadata": {
    "collapsed": true,
    "jupyter": {
     "outputs_hidden": true
    }
   },
   "outputs": [],
   "source": [
    "# разделим датасет на обучающую и тестовую выборку\n",
    "from sklearn.model_selection import train_test_split\n",
    "\n",
    "x_train, x_test, y_train, y_test = train_test_split(data, test_preparation_course, test_size = 0.33, random_state=1)"
   ]
  },
  {
   "cell_type": "code",
   "execution_count": 29,
   "id": "0fa2abe3-9904-437a-bf81-3d7a91d2dc93",
   "metadata": {
    "collapsed": true,
    "jupyter": {
     "outputs_hidden": true
    }
   },
   "outputs": [],
   "source": [
    "# построим классификатор типа решающее дерево (decision tree classifier)\n",
    "from sklearn import tree\n",
    "\n",
    "dtc = tree.DecisionTreeClassifier()\n",
    "dtc = dtc.fit(x_train, y_train)"
   ]
  },
  {
   "cell_type": "code",
   "execution_count": 30,
   "id": "f335ccd1-9334-4046-be96-96201c2bab97",
   "metadata": {
    "collapsed": true,
    "jupyter": {
     "outputs_hidden": true
    },
    "tags": []
   },
   "outputs": [
    {
     "name": "stdout",
     "output_type": "stream",
     "text": [
      "f1: 0.5072194970035502\n",
      "precision: 0.4680948616600791\n",
      "recall: 0.46268115942028987\n"
     ]
    }
   ],
   "source": [
    "# оценим точность классификатора с помощью метрик precision, recall и F1 на тестовой выборке\n",
    "from sklearn.model_selection import cross_val_score\n",
    "\n",
    "print(\"f1:\", str(np.average(cross_val_score(dtc, x_test, y_test, scoring='f1'))))\n",
    "print(\"precision:\", str(np.average(cross_val_score(dtc, x_test, y_test, scoring='precision'))))\n",
    "print(\"recall:\", str(np.average(cross_val_score(dtc, x_test, y_test, scoring='recall'))))"
   ]
  },
  {
   "cell_type": "code",
   "execution_count": 31,
   "id": "7a469d81-88b1-46bb-8afa-d869a9730c38",
   "metadata": {
    "collapsed": true,
    "jupyter": {
     "outputs_hidden": true
    }
   },
   "outputs": [],
   "source": [
    "# построим классификатор типа случайный лес (random forest classifier)\n",
    "from sklearn.ensemble import RandomForestClassifier\n",
    "\n",
    "rfc = RandomForestClassifier()\n",
    "# используем методы .values.ravel(), чтобы привести y_train к нужному формату\n",
    "rfc = rfc.fit(x_train, y_train.values.ravel())"
   ]
  },
  {
   "cell_type": "code",
   "execution_count": 32,
   "id": "5d26fc3d-69af-4efd-bac6-1b2431894995",
   "metadata": {
    "collapsed": true,
    "jupyter": {
     "outputs_hidden": true
    }
   },
   "outputs": [
    {
     "name": "stdout",
     "output_type": "stream",
     "text": [
      "f1: 0.39473269278147327\n",
      "precision: 0.49316849816849817\n",
      "recall: 0.35289855072463766\n"
     ]
    }
   ],
   "source": [
    "# оценим точность классификатора с помощью метрик precision, recall и F1 на тестовой выборке\n",
    "\n",
    "# используем методы .values.ravel(), чтобы привести y_test к нужному формату\n",
    "print(\"f1:\", str(np.average(cross_val_score(rfc, x_test, y_test.values.ravel(), scoring='f1'))))\n",
    "print(\"precision:\", str(np.average(cross_val_score(rfc, x_test, y_test.values.ravel(), scoring='precision'))))\n",
    "print(\"recall:\", str(np.average(cross_val_score(rfc, x_test, y_test.values.ravel(), scoring='recall'))))"
   ]
  },
  {
   "cell_type": "raw",
   "id": "c4f3f8ba-1484-46c4-8160-c4819fddd445",
   "metadata": {},
   "source": [
    "Сравнив метрики для двух классификаторов, мы можем увидить, что результат decision tree лучше, чем у random forest"
   ]
  }
 ],
 "metadata": {
  "kernelspec": {
   "display_name": "Python 3 (ipykernel)",
   "language": "python",
   "name": "python3"
  },
  "language_info": {
   "codemirror_mode": {
    "name": "ipython",
    "version": 3
   },
   "file_extension": ".py",
   "mimetype": "text/x-python",
   "name": "python",
   "nbconvert_exporter": "python",
   "pygments_lexer": "ipython3",
   "version": "3.9.9"
  }
 },
 "nbformat": 4,
 "nbformat_minor": 5
}
