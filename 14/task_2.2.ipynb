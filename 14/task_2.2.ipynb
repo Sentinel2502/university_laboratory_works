{
 "cells": [
  {
   "cell_type": "code",
   "execution_count": 1,
   "id": "07cd8afa-d208-4451-ac4b-897f514dc1b6",
   "metadata": {
    "collapsed": true,
    "jupyter": {
     "outputs_hidden": true
    },
    "tags": []
   },
   "outputs": [
    {
     "name": "stderr",
     "output_type": "stream",
     "text": [
      "Loading required package: zoo\n",
      "\n",
      "\n",
      "Attaching package: ‘zoo’\n",
      "\n",
      "\n",
      "The following objects are masked from ‘package:base’:\n",
      "\n",
      "    as.Date, as.Date.numeric\n",
      "\n",
      "\n",
      "Loading required package: ggplot2\n",
      "\n",
      "Registered S3 method overwritten by 'GGally':\n",
      "  method from   \n",
      "  +.gg   ggplot2\n",
      "\n",
      "Loading required package: carData\n",
      "\n"
     ]
    }
   ],
   "source": [
    "library(\"lmtest\")\n",
    "library(\"GGally\") \n",
    "library(\"car\")"
   ]
  },
  {
   "cell_type": "code",
   "execution_count": 2,
   "id": "bcebb313-3538-498a-b379-730f8b49c21f",
   "metadata": {
    "collapsed": true,
    "jupyter": {
     "outputs_hidden": true
    },
    "tags": []
   },
   "outputs": [
    {
     "data": {
      "text/plain": [
       "\n",
       "Call:\n",
       "lm(formula = Fertility ~ Agriculture + Education + Catholic, \n",
       "    data = data)\n",
       "\n",
       "Residuals:\n",
       "    Min      1Q  Median      3Q     Max \n",
       "-15.178  -6.548   1.379   5.822  14.840 \n",
       "\n",
       "Coefficients:\n",
       "            Estimate Std. Error t value Pr(>|t|)    \n",
       "(Intercept) 86.22502    4.73472  18.211  < 2e-16 ***\n",
       "Agriculture -0.20304    0.07115  -2.854  0.00662 ** \n",
       "Education   -1.07215    0.15580  -6.881 1.91e-08 ***\n",
       "Catholic     0.14520    0.03015   4.817 1.84e-05 ***\n",
       "---\n",
       "Signif. codes:  0 ‘***’ 0.001 ‘**’ 0.01 ‘*’ 0.05 ‘.’ 0.1 ‘ ’ 1\n",
       "\n",
       "Residual standard error: 7.728 on 43 degrees of freedom\n",
       "Multiple R-squared:  0.6423,\tAdjusted R-squared:  0.6173 \n",
       "F-statistic: 25.73 on 3 and 43 DF,  p-value: 1.089e-09\n"
      ]
     },
     "metadata": {},
     "output_type": "display_data"
    }
   ],
   "source": [
    "# (swiss)  Fertility ~ Agriculture + Education + Catholic\n",
    "data = na.omit(swiss)\n",
    "model = lm(Fertility ~ Agriculture + Education + Catholic, data)\n",
    "summary(model)"
   ]
  },
  {
   "cell_type": "raw",
   "id": "91472337-f344-403e-8766-e5ad99d4f2ee",
   "metadata": {},
   "source": [
    "1) Оцените доверительные интервалы для всех коэффицентов модели, p=95%."
   ]
  },
  {
   "cell_type": "code",
   "execution_count": 3,
   "id": "eb6ca0ae-9d8e-41d0-a25f-c07b9e9c3c00",
   "metadata": {
    "collapsed": true,
    "jupyter": {
     "outputs_hidden": true
    }
   },
   "outputs": [],
   "source": [
    "# Количество степеней свободы в обучающей выборке - 43\n",
    "# Рассчитано 4 коэффицента\n",
    "# Рассчитаем t-критерий Стьюдента общий для всех коэффицентов\n",
    "t_critical = qt(0.975, df = 39)\n",
    "\n",
    "# Стандартные ошибки коэффицентов\n",
    "Std_Error_Intercept = 4.73472\n",
    "Std_Error_Agriculture = 0.07115\n",
    "Std_Error_Education = 0.15580\n",
    "Std_Error_Catholic = 0.03015"
   ]
  },
  {
   "cell_type": "code",
   "execution_count": 4,
   "id": "8fc5e815-df94-4c56-9e3d-67784a2d80ff",
   "metadata": {
    "collapsed": true,
    "jupyter": {
     "outputs_hidden": true
    }
   },
   "outputs": [
    {
     "name": "stdout",
     "output_type": "stream",
     "text": [
      "[1] \"Доверительный интервал свободного коэффициента: [ 76.6481446583174 , 95.8018949641504 ]\"\n",
      "[1] \"Доверительный интервал Agriculture: [ -0.346952136885507 , -0.0591232189642759 ]\"\n",
      "[1] \"Доверительный интервал Education: [ -1.38728207939508 , -0.757011588711622 ]\"\n",
      "[1] \"Доверительный интервал Catholic: [ 0.0842172103868956 , 0.206185472865112 ]\"\n"
     ]
    }
   ],
   "source": [
    "# Доверительные интервалы коэффицентов\n",
    "print(paste(\"Доверительный интервал свободного коэффициента: [\", model$coefficients[1] - t_critical * Std_Error_Intercept, \n",
    "            \",\", model$coefficients[1] + t_critical * Std_Error_Intercept, \"]\"))\n",
    "\n",
    "print(paste(\"Доверительный интервал Agriculture: [\", model$coefficients[2] - t_critical * Std_Error_Agriculture, \n",
    "            \",\", model$coefficients[2] + t_critical * Std_Error_Agriculture, \"]\"))\n",
    "\n",
    "print(paste(\"Доверительный интервал Education: [\", model$coefficients[3] - t_critical * Std_Error_Education, \n",
    "            \",\", model$coefficients[3] + t_critical * Std_Error_Education, \"]\"))\n",
    "\n",
    "print(paste(\"Доверительный интервал Catholic: [\", model$coefficients[4] - t_critical * Std_Error_Catholic, \n",
    "            \",\", model$coefficients[4] + t_critical * Std_Error_Catholic, \"]\"))\n"
   ]
  },
  {
   "cell_type": "raw",
   "id": "06a6f6ac-3b05-429c-90c4-5a90d1218a4d",
   "metadata": {},
   "source": [
    "2) Сделайте вывод о отвержении или невозможности отвергнуть статистическую гипотезу о том, что коэффициент равен 0."
   ]
  },
  {
   "cell_type": "raw",
   "id": "51da0686-1756-4e3b-bf46-cb4b086a4162",
   "metadata": {},
   "source": [
    "Доверительный интервал свободного коэффициента: [76.6481446583174, 95.8018949641504]\n",
    "0 не попадает в данный интервал => отвергаем статистическую гипотезу о том, что этот коэффицент может быть равен 0, на уровне значимости 5%\n",
    "\n",
    "Доверительный интервал Agriculture: [ -0.346952136885507 , -0.0591232189642759 ]\n",
    "0 не попадает в данный интервал => отвергаем статистическую гипотезу о том, что этот коэффицент может быть равен 0, на уровне значимости 5%\n",
    "\n",
    "Доверительный интервал Education: [ -1.38728207939508 , -0.757011588711622 ]\n",
    "0 не попадает в данный интервал => отвергаем статистическую гипотезу о том, что этот коэффицент может быть равен 0, на уровне значимости 5%\n",
    "\n",
    "Доверительный интервал Catholic: [ 0.0842172103868956 , 0.206185472865112 ]\n",
    "0 не попадает в данный интервал => отвергаем статистическую гипотезу о том, что этот коэффицент может быть равен 0, на уровне значимости 5%"
   ]
  },
  {
   "cell_type": "raw",
   "id": "73b062ab-fa30-4cd5-a420-a31e3a42b3ec",
   "metadata": {},
   "source": [
    "3) Доверительный интервал для одного прогноза (p = 95%, набор значений регрессоров выбираете сами)."
   ]
  },
  {
   "cell_type": "code",
   "execution_count": 5,
   "id": "96963baa-8df8-4970-b7bf-3b0b517bfdc2",
   "metadata": {
    "collapsed": true,
    "jupyter": {
     "outputs_hidden": true
    },
    "tags": []
   },
   "outputs": [
    {
     "data": {
      "text/html": [
       "<table class=\"dataframe\">\n",
       "<caption>A matrix: 1 × 3 of type dbl</caption>\n",
       "<thead>\n",
       "\t<tr><th></th><th scope=col>fit</th><th scope=col>lwr</th><th scope=col>upr</th></tr>\n",
       "</thead>\n",
       "<tbody>\n",
       "\t<tr><th scope=row>1</th><td>72.89481</td><td>68.08643</td><td>77.70319</td></tr>\n",
       "</tbody>\n",
       "</table>\n"
      ],
      "text/latex": [
       "A matrix: 1 × 3 of type dbl\n",
       "\\begin{tabular}{r|lll}\n",
       "  & fit & lwr & upr\\\\\n",
       "\\hline\n",
       "\t1 & 72.89481 & 68.08643 & 77.70319\\\\\n",
       "\\end{tabular}\n"
      ],
      "text/markdown": [
       "\n",
       "A matrix: 1 × 3 of type dbl\n",
       "\n",
       "| <!--/--> | fit | lwr | upr |\n",
       "|---|---|---|---|\n",
       "| 1 | 72.89481 | 68.08643 | 77.70319 |\n",
       "\n"
      ],
      "text/plain": [
       "  fit      lwr      upr     \n",
       "1 72.89481 68.08643 77.70319"
      ]
     },
     "metadata": {},
     "output_type": "display_data"
    }
   ],
   "source": [
    "new.data = data.frame(Agriculture = 20, Education = 10, Catholic = 10)\n",
    "predict(model, new.data, interval = \"confidence\")\n",
    "# Доверительный интервал: [68.08643; 77.70319]"
   ]
  }
 ],
 "metadata": {
  "kernelspec": {
   "display_name": "R",
   "language": "R",
   "name": "ir"
  },
  "language_info": {
   "codemirror_mode": "r",
   "file_extension": ".r",
   "mimetype": "text/x-r-source",
   "name": "R",
   "pygments_lexer": "r",
   "version": "4.1.2"
  }
 },
 "nbformat": 4,
 "nbformat_minor": 5
}
