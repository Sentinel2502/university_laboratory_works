{
 "cells": [
  {
   "cell_type": "code",
   "execution_count": null,
   "id": "a2cee753-6c2f-4613-87b3-7b96d55d34ba",
   "metadata": {
    "collapsed": true,
    "jupyter": {
     "outputs_hidden": true
    }
   },
   "outputs": [],
   "source": [
    "library(\"lmtest\")\n",
    "library(\"GGally\")\n",
    "library(\"car\")\n",
    "library(\"rlms\")\n",
    "library(\"dplyr\")\n",
    "library(\"sandwich\")"
   ]
  },
  {
   "cell_type": "code",
   "execution_count": null,
   "id": "a30e09e7-0cd3-4926-9a5c-f17562c41ae5",
   "metadata": {
    "collapsed": true,
    "jupyter": {
     "outputs_hidden": true
    }
   },
   "outputs": [],
   "source": [
    "data <- rlms_read(\"r23i_os26c.sav\")"
   ]
  },
  {
   "cell_type": "code",
   "execution_count": 11,
   "id": "5630617e-564b-4676-848e-1e1da7db1253",
   "metadata": {
    "collapsed": true,
    "jupyter": {
     "outputs_hidden": true
    }
   },
   "outputs": [
    {
     "name": "stdout",
     "output_type": "stream",
     "text": [
      "Rows: 4,572\n",
      "Columns: 7\n",
      "$ sh5      \u001b[3m\u001b[90m<dbl+lbl>\u001b[39m\u001b[23m 2, 2, 2, 1, 2, 2, 2, 1, 2, 1, 1, 2, 1, 1, 2, 2, 2, 2, 2, …\n",
      "$ s_age    \u001b[3m\u001b[90m<dbl+lbl>\u001b[39m\u001b[23m 59, 46, 56, 60, 61, 60, 61, 59, 51, 45, 33, 52, 51, 52, 5…\n",
      "$ s_marst  \u001b[3m\u001b[90m<dbl+lbl>\u001b[39m\u001b[23m 5, 2, 2, 2, 5, 2, 2, 2, 2, 2, 1, 2, 2, 2, 2, 4, 5, 2, 5, …\n",
      "$ s_diplom \u001b[3m\u001b[90m<dbl+lbl>\u001b[39m\u001b[23m 4, 4, 4, 4, 5, 5, 4, 2, 4, 4, 3, 6, 6, 4, 5, 5, 4, 6, 5, …\n",
      "$ status   \u001b[3m\u001b[90m<dbl+lbl>\u001b[39m\u001b[23m 3, 3, 4, 4, 4, 4, 4, 4, 4, 4, 4, 4, 4, 4, 4, 4, 4, 1, 1, …\n",
      "$ sj13.2   \u001b[3m\u001b[90m<dbl+lbl>\u001b[39m\u001b[23m 25000, 15000, 16000, 23000, 13000,  8000, 20000, 12000, 2…\n",
      "$ sj6.2    \u001b[3m\u001b[90m<dbl+lbl>\u001b[39m\u001b[23m 48, 40, 37, 50, 48, 33, 60, 48, 36, 40, 40, 40, 40, 48, 2…\n"
     ]
    }
   ],
   "source": [
    "data = select(\n",
    "    data,\n",
    "    sh5,      # пол\n",
    "    s_age,    # возраст\n",
    "    s_marst,  # семейное положение\n",
    "    s_diplom, # образование\n",
    "    status,   # тип населенного пункта\n",
    "    sj13.2,   # средняя зарплата за последний год\n",
    "    sj6.2)    # средняя рабочая неделя\n",
    "data = na.omit(data)\n",
    "glimpse(data)"
   ]
  },
  {
   "cell_type": "code",
   "execution_count": 13,
   "id": "4ebb1855-cfc9-42a0-ba8a-35f99f237f04",
   "metadata": {
    "collapsed": true,
    "jupyter": {
     "outputs_hidden": true
    }
   },
   "outputs": [],
   "source": [
    "data_normalized = select(data,) # База данных для нормализованных значений"
   ]
  },
  {
   "cell_type": "code",
   "execution_count": 14,
   "id": "d7dfa959-7ab7-47b4-84c5-ff8d2ab3c182",
   "metadata": {
    "collapsed": true,
    "jupyter": {
     "outputs_hidden": true
    }
   },
   "outputs": [],
   "source": [
    "# пол\n",
    "data_normalized[\"sex\"] = 0\n",
    "data_normalized$sex[which(data$sh5 == 1)] <- 1"
   ]
  },
  {
   "cell_type": "code",
   "execution_count": 15,
   "id": "252d7961-d89c-487e-8891-628c561f0c4c",
   "metadata": {
    "collapsed": true,
    "jupyter": {
     "outputs_hidden": true
    }
   },
   "outputs": [],
   "source": [
    "# возраст\n",
    "age = data$s_age\n",
    "data_normalized[\"age\"] = (age - mean(age)) / sqrt(var(age))"
   ]
  },
  {
   "cell_type": "code",
   "execution_count": 16,
   "id": "8a8c2543-804d-4180-9296-a07bc5e33213",
   "metadata": {
    "collapsed": true,
    "jupyter": {
     "outputs_hidden": true
    }
   },
   "outputs": [
    {
     "data": {
      "text/html": [
       "<style>\n",
       ".dl-inline {width: auto; margin:0; padding: 0}\n",
       ".dl-inline>dt, .dl-inline>dd {float: none; width: auto; display: inline-block}\n",
       ".dl-inline>dt::after {content: \":\\0020\"; padding-right: .5ex}\n",
       ".dl-inline>dt:not(:first-of-type) {padding-left: .5ex}\n",
       "</style><dl class=dl-inline><dt>data_normalized$wed1</dt><dd>2.37629698699943</dd><dt>data_normalized$wed2</dt><dd>1.88893493576461</dd><dt>data_normalized$wed3</dt><dd>1.83916478641924</dd></dl>\n"
      ],
      "text/latex": [
       "\\begin{description*}\n",
       "\\item[data\\textbackslash{}\\_normalized\\textbackslash{}\\$wed1] 2.37629698699943\n",
       "\\item[data\\textbackslash{}\\_normalized\\textbackslash{}\\$wed2] 1.88893493576461\n",
       "\\item[data\\textbackslash{}\\_normalized\\textbackslash{}\\$wed3] 1.83916478641924\n",
       "\\end{description*}\n"
      ],
      "text/markdown": [
       "data_normalized$wed1\n",
       ":   2.37629698699943data_normalized$wed2\n",
       ":   1.88893493576461data_normalized$wed3\n",
       ":   1.83916478641924\n",
       "\n"
      ],
      "text/plain": [
       "data_normalized$wed1 data_normalized$wed2 data_normalized$wed3 \n",
       "            2.376297             1.888935             1.839165 "
      ]
     },
     "metadata": {},
     "output_type": "display_data"
    }
   ],
   "source": [
    "# семейное положение\n",
    "\n",
    "# в браке/не в браке\n",
    "data_normalized$wed1 = 0\n",
    "data_normalized$wed1[which(data$s_marst==2)] <- 1\n",
    "data_normalized$wed1[which(data$s_marst==6)] <- 1\n",
    "\n",
    "# разведен/вдовец\n",
    "data_normalized$wed2 = 0\n",
    "data_normalized$wed2[which(data$s_marst==4)] <- 1\n",
    "data_normalized$wed2[which(data$s_marst==5)] <- 1\n",
    "\n",
    "# состоял/не состоял в браке\n",
    "data_normalized$wed3 = 0\n",
    "data_normalized$wed3[which(data$s_marst==1)] <- 1\n",
    "\n",
    "# проверяем наличие линейной зависимости между переменными\n",
    "vif(lm(data$sj13.2 ~ data_normalized$wed1 + data_normalized$wed2 + data_normalized$wed3)) "
   ]
  },
  {
   "cell_type": "code",
   "execution_count": 17,
   "id": "17796f11-2618-4a50-a9c9-421a5aa510ec",
   "metadata": {
    "collapsed": true,
    "jupyter": {
     "outputs_hidden": true
    }
   },
   "outputs": [],
   "source": [
    "# есть/нет высшее образование\n",
    "data_normalized$higher_educ = 0\n",
    "data_normalized$higher_educ[which(data$s_diplom==6)] <- 1"
   ]
  },
  {
   "cell_type": "code",
   "execution_count": 18,
   "id": "c7cfc0e3-4599-4ba3-952f-b7d3cd66d7ac",
   "metadata": {
    "collapsed": true,
    "jupyter": {
     "outputs_hidden": true
    }
   },
   "outputs": [],
   "source": [
    "# живет/не живет в городе\n",
    "data_normalized$city_status = 0\n",
    "data_normalized$city_status[which(data$status==1)] <- 1\n",
    "data_normalized$city_status[which(data$status==2)] <- 1"
   ]
  },
  {
   "cell_type": "code",
   "execution_count": 19,
   "id": "9a28a552-61ab-4562-af8f-b0f037588b0a",
   "metadata": {
    "collapsed": true,
    "jupyter": {
     "outputs_hidden": true
    }
   },
   "outputs": [],
   "source": [
    "# среднее количество рабочих часов в неделю (нормализованное)\n",
    "working_hours = data$sj6.2\n",
    "data_normalized$working_hours = (working_hours - mean(working_hours)) / sqrt(var(working_hours))"
   ]
  },
  {
   "cell_type": "code",
   "execution_count": 20,
   "id": "74a32c98-96f0-4245-ade5-e90387cf3447",
   "metadata": {
    "collapsed": true,
    "jupyter": {
     "outputs_hidden": true
    }
   },
   "outputs": [],
   "source": [
    "# средняя зарплата (нормализованная)\n",
    "salary = data$sj13.2\n",
    "data_normalized$salary = (salary - mean(salary)) / sqrt(var(salary))"
   ]
  },
  {
   "cell_type": "raw",
   "id": "31df3f16-ea5c-4c59-98ed-4bc4f8c37f64",
   "metadata": {},
   "source": [
    "Пункт 1. Постройте линейную регрессию зарплаты на все параметры, которые Вы выделили из данных мониторинга. Не забудьте оценить коэффициент вздутия дисперсии VIF."
   ]
  },
  {
   "cell_type": "code",
   "execution_count": 22,
   "id": "d86cb8c6-cc58-4b2e-b05d-1c4a93f27a51",
   "metadata": {
    "collapsed": true,
    "jupyter": {
     "outputs_hidden": true
    }
   },
   "outputs": [
    {
     "data": {
      "text/html": [
       "<style>\n",
       ".dl-inline {width: auto; margin:0; padding: 0}\n",
       ".dl-inline>dt, .dl-inline>dd {float: none; width: auto; display: inline-block}\n",
       ".dl-inline>dt::after {content: \":\\0020\"; padding-right: .5ex}\n",
       ".dl-inline>dt:not(:first-of-type) {padding-left: .5ex}\n",
       "</style><dl class=dl-inline><dt>sex</dt><dd>1.12405600766524</dd><dt>age</dt><dd>1.26626736903498</dd><dt>wed1</dt><dd>2.43086764169875</dd><dt>wed2</dt><dd>2.07519577114964</dd><dt>wed3</dt><dd>1.92400466146538</dd><dt>higher_educ</dt><dd>1.05611521338648</dd><dt>city_status</dt><dd>1.02141753619586</dd><dt>working_hours</dt><dd>1.06418275439221</dd></dl>\n"
      ],
      "text/latex": [
       "\\begin{description*}\n",
       "\\item[sex] 1.12405600766524\n",
       "\\item[age] 1.26626736903498\n",
       "\\item[wed1] 2.43086764169875\n",
       "\\item[wed2] 2.07519577114964\n",
       "\\item[wed3] 1.92400466146538\n",
       "\\item[higher\\textbackslash{}\\_educ] 1.05611521338648\n",
       "\\item[city\\textbackslash{}\\_status] 1.02141753619586\n",
       "\\item[working\\textbackslash{}\\_hours] 1.06418275439221\n",
       "\\end{description*}\n"
      ],
      "text/markdown": [
       "sex\n",
       ":   1.12405600766524age\n",
       ":   1.26626736903498wed1\n",
       ":   2.43086764169875wed2\n",
       ":   2.07519577114964wed3\n",
       ":   1.92400466146538higher_educ\n",
       ":   1.05611521338648city_status\n",
       ":   1.02141753619586working_hours\n",
       ":   1.06418275439221\n",
       "\n"
      ],
      "text/plain": [
       "          sex           age          wed1          wed2          wed3 \n",
       "     1.124056      1.266267      2.430868      2.075196      1.924005 \n",
       "  higher_educ   city_status working_hours \n",
       "     1.056115      1.021418      1.064183 "
      ]
     },
     "metadata": {},
     "output_type": "display_data"
    },
    {
     "data": {
      "text/plain": [
       "\n",
       "Call:\n",
       "lm(formula = salary ~ sex + age + wed1 + wed2 + wed3 + higher_educ + \n",
       "    city_status + working_hours, data = data_normalized)\n",
       "\n",
       "Residuals:\n",
       "    Min      1Q  Median      3Q     Max \n",
       "-2.0993 -0.4952 -0.1422  0.2731 15.3665 \n",
       "\n",
       "Coefficients:\n",
       "              Estimate Std. Error t value Pr(>|t|)    \n",
       "(Intercept)   -0.63161    0.04817 -13.113  < 2e-16 ***\n",
       "sex            0.42071    0.02906  14.479  < 2e-16 ***\n",
       "age           -0.04542    0.01532  -2.964  0.00305 ** \n",
       "wed1           0.03503    0.04300   0.815  0.41535    \n",
       "wed2           0.02429    0.05441   0.446  0.65531    \n",
       "wed3          -0.13327    0.05398  -2.469  0.01358 *  \n",
       "higher_educ    0.55315    0.02960  18.687  < 2e-16 ***\n",
       "city_status    0.34525    0.03116  11.080  < 2e-16 ***\n",
       "working_hours  0.13145    0.01405   9.357  < 2e-16 ***\n",
       "---\n",
       "Signif. codes:  0 ‘***’ 0.001 ‘**’ 0.01 ‘*’ 0.05 ‘.’ 0.1 ‘ ’ 1\n",
       "\n",
       "Residual standard error: 0.9207 on 4563 degrees of freedom\n",
       "Multiple R-squared:  0.1539,\tAdjusted R-squared:  0.1524 \n",
       "F-statistic: 103.7 on 8 and 4563 DF,  p-value: < 2.2e-16\n"
      ]
     },
     "metadata": {},
     "output_type": "display_data"
    }
   ],
   "source": [
    "model1 = lm(data = data_normalized, salary ~ sex + age + wed1 + wed2 + wed3 + higher_educ + city_status + working_hours)\n",
    "vif(model1) # корреляцией между перменными можно пренебречь (1<корреляция<5)\n",
    "summary(model1)\n",
    "# R^2 ~ 0,154\n",
    "# p-статистика очень плохая для переменных wed1 и wed2"
   ]
  },
  {
   "cell_type": "code",
   "execution_count": 23,
   "id": "370162a4-0c7a-4695-8af4-d8ea647f58c1",
   "metadata": {
    "collapsed": true,
    "jupyter": {
     "outputs_hidden": true
    }
   },
   "outputs": [
    {
     "data": {
      "text/html": [
       "<style>\n",
       ".dl-inline {width: auto; margin:0; padding: 0}\n",
       ".dl-inline>dt, .dl-inline>dd {float: none; width: auto; display: inline-block}\n",
       ".dl-inline>dt::after {content: \":\\0020\"; padding-right: .5ex}\n",
       ".dl-inline>dt:not(:first-of-type) {padding-left: .5ex}\n",
       "</style><dl class=dl-inline><dt>sex</dt><dd>1.05211175218286</dd><dt>age</dt><dd>1.19205719121246</dd><dt>wed3</dt><dd>1.17627165922971</dd><dt>higher_educ</dt><dd>1.05059749877067</dd><dt>city_status</dt><dd>1.01615348881856</dd><dt>working_hours</dt><dd>1.06415944111058</dd></dl>\n"
      ],
      "text/latex": [
       "\\begin{description*}\n",
       "\\item[sex] 1.05211175218286\n",
       "\\item[age] 1.19205719121246\n",
       "\\item[wed3] 1.17627165922971\n",
       "\\item[higher\\textbackslash{}\\_educ] 1.05059749877067\n",
       "\\item[city\\textbackslash{}\\_status] 1.01615348881856\n",
       "\\item[working\\textbackslash{}\\_hours] 1.06415944111058\n",
       "\\end{description*}\n"
      ],
      "text/markdown": [
       "sex\n",
       ":   1.05211175218286age\n",
       ":   1.19205719121246wed3\n",
       ":   1.17627165922971higher_educ\n",
       ":   1.05059749877067city_status\n",
       ":   1.01615348881856working_hours\n",
       ":   1.06415944111058\n",
       "\n"
      ],
      "text/plain": [
       "          sex           age          wed3   higher_educ   city_status \n",
       "     1.052112      1.192057      1.176272      1.050597      1.016153 \n",
       "working_hours \n",
       "     1.064159 "
      ]
     },
     "metadata": {},
     "output_type": "display_data"
    },
    {
     "data": {
      "text/plain": [
       "\n",
       "Call:\n",
       "lm(formula = salary ~ sex + age + wed3 + higher_educ + city_status + \n",
       "    working_hours, data = data_normalized)\n",
       "\n",
       "Residuals:\n",
       "    Min      1Q  Median      3Q     Max \n",
       "-2.0925 -0.4960 -0.1426  0.2747 15.3723 \n",
       "\n",
       "Coefficients:\n",
       "              Estimate Std. Error t value Pr(>|t|)    \n",
       "(Intercept)   -0.60373    0.03096 -19.499  < 2e-16 ***\n",
       "sex            0.42217    0.02811  15.020  < 2e-16 ***\n",
       "age           -0.04431    0.01487  -2.981  0.00289 ** \n",
       "wed3          -0.16012    0.04220  -3.794  0.00015 ***\n",
       "higher_educ    0.55489    0.02952  18.797  < 2e-16 ***\n",
       "city_status    0.34353    0.03108  11.055  < 2e-16 ***\n",
       "working_hours  0.13140    0.01405   9.355  < 2e-16 ***\n",
       "---\n",
       "Signif. codes:  0 ‘***’ 0.001 ‘**’ 0.01 ‘*’ 0.05 ‘.’ 0.1 ‘ ’ 1\n",
       "\n",
       "Residual standard error: 0.9205 on 4565 degrees of freedom\n",
       "Multiple R-squared:  0.1538,\tAdjusted R-squared:  0.1526 \n",
       "F-statistic: 138.2 on 6 and 4565 DF,  p-value: < 2.2e-16\n"
      ]
     },
     "metadata": {},
     "output_type": "display_data"
    }
   ],
   "source": [
    "model1 = lm(data = data_normalized, salary ~ sex + age + wed3 + higher_educ + city_status + working_hours)\n",
    "vif(model1) # корреляцией между перменными можно пренебречь (1<корреляция<5)\n",
    "summary(model1)\n",
    "# R^2 ~ 0,154 - совершенно не изменился после удаления незначительных переменных\n",
    "# В дальнейшем будем использовать эту модель"
   ]
  },
  {
   "cell_type": "raw",
   "id": "4ed1af45-fbbf-44bd-b5ef-e60401a5dc77",
   "metadata": {},
   "source": [
    "Пункт 2. Поэкспериментируйте с функциями вещественных параметров: используйте логарифм и степени (хотя бы от 0.1 до 2 с шагом 0.1)."
   ]
  },
  {
   "cell_type": "code",
   "execution_count": 24,
   "id": "7909e98c-cdb9-4c59-a5de-1001269f28ae",
   "metadata": {
    "collapsed": true,
    "jupyter": {
     "outputs_hidden": true
    },
    "tags": []
   },
   "outputs": [
    {
     "name": "stderr",
     "output_type": "stream",
     "text": [
      "Warning message in log(working_hours):\n",
      "“NaNs produced”\n",
      "Warning message in log(age):\n",
      "“NaNs produced”\n"
     ]
    },
    {
     "data": {
      "text/html": [
       "<style>\n",
       ".dl-inline {width: auto; margin:0; padding: 0}\n",
       ".dl-inline>dt, .dl-inline>dd {float: none; width: auto; display: inline-block}\n",
       ".dl-inline>dt::after {content: \":\\0020\"; padding-right: .5ex}\n",
       ".dl-inline>dt:not(:first-of-type) {padding-left: .5ex}\n",
       "</style><dl class=dl-inline><dt>sex</dt><dd>1.03616610389646</dd><dt>working_hours</dt><dd>5.34758559550482</dd><dt>age</dt><dd>3.84967864372377</dd><dt>wed3</dt><dd>1.01584672988676</dd><dt>higher_educ</dt><dd>1.01669102485491</dd><dt>city_status</dt><dd>1.03056413173567</dd><dt>I(log(working_hours))</dt><dd>5.27850522533792</dd><dt>I(log(age))</dt><dd>3.81972142105838</dd></dl>\n"
      ],
      "text/latex": [
       "\\begin{description*}\n",
       "\\item[sex] 1.03616610389646\n",
       "\\item[working\\textbackslash{}\\_hours] 5.34758559550482\n",
       "\\item[age] 3.84967864372377\n",
       "\\item[wed3] 1.01584672988676\n",
       "\\item[higher\\textbackslash{}\\_educ] 1.01669102485491\n",
       "\\item[city\\textbackslash{}\\_status] 1.03056413173567\n",
       "\\item[I(log(working\\textbackslash{}\\_hours))] 5.27850522533792\n",
       "\\item[I(log(age))] 3.81972142105838\n",
       "\\end{description*}\n"
      ],
      "text/markdown": [
       "sex\n",
       ":   1.03616610389646working_hours\n",
       ":   5.34758559550482age\n",
       ":   3.84967864372377wed3\n",
       ":   1.01584672988676higher_educ\n",
       ":   1.01669102485491city_status\n",
       ":   1.03056413173567I(log(working_hours))\n",
       ":   5.27850522533792I(log(age))\n",
       ":   3.81972142105838\n",
       "\n"
      ],
      "text/plain": [
       "                  sex         working_hours                   age \n",
       "             1.036166              5.347586              3.849679 \n",
       "                 wed3           higher_educ           city_status \n",
       "             1.015847              1.016691              1.030564 \n",
       "I(log(working_hours))           I(log(age)) \n",
       "             5.278505              3.819721 "
      ]
     },
     "metadata": {},
     "output_type": "display_data"
    },
    {
     "data": {
      "text/plain": [
       "\n",
       "Call:\n",
       "lm(formula = salary ~ sex + working_hours + age + wed3 + higher_educ + \n",
       "    city_status + I(log(working_hours)) + I(log(age)), data = data_normalized)\n",
       "\n",
       "Residuals:\n",
       "    Min      1Q  Median      3Q     Max \n",
       "-1.8613 -0.4870 -0.1407  0.2778  5.5884 \n",
       "\n",
       "Coefficients:\n",
       "                       Estimate Std. Error t value Pr(>|t|)    \n",
       "(Intercept)           -0.400036   0.178717  -2.238 0.025509 *  \n",
       "sex                    0.394531   0.064386   6.128 1.49e-09 ***\n",
       "working_hours          0.150452   0.072520   2.075 0.038385 *  \n",
       "age                   -0.413392   0.115648  -3.575 0.000375 ***\n",
       "wed3                  -0.077339   0.184072  -0.420 0.674501    \n",
       "higher_educ            0.647010   0.084304   7.675 5.56e-14 ***\n",
       "city_status            0.409445   0.069111   5.924 4.91e-09 ***\n",
       "I(log(working_hours))  0.005042   0.076073   0.066 0.947177    \n",
       "I(log(age))            0.049540   0.054440   0.910 0.363135    \n",
       "---\n",
       "Signif. codes:  0 ‘***’ 0.001 ‘**’ 0.01 ‘*’ 0.05 ‘.’ 0.1 ‘ ’ 1\n",
       "\n",
       "Residual standard error: 0.8433 on 702 degrees of freedom\n",
       "  (3861 observations deleted due to missingness)\n",
       "Multiple R-squared:  0.213,\tAdjusted R-squared:  0.204 \n",
       "F-statistic: 23.75 on 8 and 702 DF,  p-value: < 2.2e-16\n"
      ]
     },
     "metadata": {},
     "output_type": "display_data"
    }
   ],
   "source": [
    "# логарифмы\n",
    "model1 = lm(data = data_normalized, salary ~ sex + working_hours + age + wed3 + higher_educ + city_status + I(log(working_hours)) + I(log(age)))\n",
    "data = na.omit(data)\n",
    "vif(model1)\n",
    "summary(model1)\n",
    "# R^2 ~ 0.21\n",
    "# Плохие VIF и p-статистика"
   ]
  },
  {
   "cell_type": "code",
   "execution_count": 25,
   "id": "cb1ca04a-00ec-40b2-8f23-81c60ce61cbe",
   "metadata": {
    "collapsed": true,
    "jupyter": {
     "outputs_hidden": true
    }
   },
   "outputs": [
    {
     "name": "stderr",
     "output_type": "stream",
     "text": [
      "Warning message in log(age):\n",
      "“NaNs produced”\n"
     ]
    },
    {
     "data": {
      "text/html": [
       "<style>\n",
       ".dl-inline {width: auto; margin:0; padding: 0}\n",
       ".dl-inline>dt, .dl-inline>dd {float: none; width: auto; display: inline-block}\n",
       ".dl-inline>dt::after {content: \":\\0020\"; padding-right: .5ex}\n",
       ".dl-inline>dt:not(:first-of-type) {padding-left: .5ex}\n",
       "</style><dl class=dl-inline><dt>sex</dt><dd>1.05598485351935</dd><dt>working_hours</dt><dd>1.09128510639876</dd><dt>age</dt><dd>3.6985792076018</dd><dt>wed3</dt><dd>1.01659970622491</dd><dt>higher_educ</dt><dd>1.04448974573736</dd><dt>city_status</dt><dd>1.00810451600801</dd><dt>I(log(age))</dt><dd>3.63263382098582</dd></dl>\n"
      ],
      "text/latex": [
       "\\begin{description*}\n",
       "\\item[sex] 1.05598485351935\n",
       "\\item[working\\textbackslash{}\\_hours] 1.09128510639876\n",
       "\\item[age] 3.6985792076018\n",
       "\\item[wed3] 1.01659970622491\n",
       "\\item[higher\\textbackslash{}\\_educ] 1.04448974573736\n",
       "\\item[city\\textbackslash{}\\_status] 1.00810451600801\n",
       "\\item[I(log(age))] 3.63263382098582\n",
       "\\end{description*}\n"
      ],
      "text/markdown": [
       "sex\n",
       ":   1.05598485351935working_hours\n",
       ":   1.09128510639876age\n",
       ":   3.6985792076018wed3\n",
       ":   1.01659970622491higher_educ\n",
       ":   1.04448974573736city_status\n",
       ":   1.00810451600801I(log(age))\n",
       ":   3.63263382098582\n",
       "\n"
      ],
      "text/plain": [
       "          sex working_hours           age          wed3   higher_educ \n",
       "     1.055985      1.091285      3.698579      1.016600      1.044490 \n",
       "  city_status   I(log(age)) \n",
       "     1.008105      3.632634 "
      ]
     },
     "metadata": {},
     "output_type": "display_data"
    },
    {
     "data": {
      "text/plain": [
       "\n",
       "Call:\n",
       "lm(formula = salary ~ sex + working_hours + age + wed3 + higher_educ + \n",
       "    city_status + I(log(age)), data = data_normalized)\n",
       "\n",
       "Residuals:\n",
       "    Min      1Q  Median      3Q     Max \n",
       "-1.8761 -0.4719 -0.1546  0.2382 12.7759 \n",
       "\n",
       "Coefficients:\n",
       "                Estimate Std. Error t value Pr(>|t|)    \n",
       "(Intercept)   -0.3862657  0.0762609  -5.065 4.42e-07 ***\n",
       "sex            0.3292445  0.0387949   8.487  < 2e-16 ***\n",
       "working_hours  0.1378853  0.0193108   7.140 1.25e-12 ***\n",
       "age           -0.2901435  0.0605743  -4.790 1.78e-06 ***\n",
       "wed3           0.0004961  0.0967844   0.005    0.996    \n",
       "higher_educ    0.6297315  0.0419518  15.011  < 2e-16 ***\n",
       "city_status    0.3908087  0.0410071   9.530  < 2e-16 ***\n",
       "I(log(age))    0.0270292  0.0328456   0.823    0.411    \n",
       "---\n",
       "Signif. codes:  0 ‘***’ 0.001 ‘**’ 0.01 ‘*’ 0.05 ‘.’ 0.1 ‘ ’ 1\n",
       "\n",
       "Residual standard error: 0.8778 on 2228 degrees of freedom\n",
       "  (2336 observations deleted due to missingness)\n",
       "Multiple R-squared:  0.1792,\tAdjusted R-squared:  0.1766 \n",
       "F-statistic: 69.48 on 7 and 2228 DF,  p-value: < 2.2e-16\n"
      ]
     },
     "metadata": {},
     "output_type": "display_data"
    }
   ],
   "source": [
    "model1 = lm(data = data_normalized, salary ~ sex + working_hours + age + wed3 + higher_educ + city_status + I(log(age)))\n",
    "vif(model1)\n",
    "summary(model1)\n",
    "# R^2 ~ 0.179\n",
    "# приемлемый VIF, плохая p-статистика для wed3 и log(age)"
   ]
  },
  {
   "cell_type": "code",
   "execution_count": 26,
   "id": "c7e1ec7c-3045-4414-bb91-1c1b44ea973d",
   "metadata": {
    "collapsed": true,
    "jupyter": {
     "outputs_hidden": true
    }
   },
   "outputs": [
    {
     "name": "stderr",
     "output_type": "stream",
     "text": [
      "Warning message in log(working_hours):\n",
      "“NaNs produced”\n",
      "Warning message in log(age):\n",
      "“NaNs produced”\n"
     ]
    },
    {
     "data": {
      "text/html": [
       "<style>\n",
       ".dl-inline {width: auto; margin:0; padding: 0}\n",
       ".dl-inline>dt, .dl-inline>dd {float: none; width: auto; display: inline-block}\n",
       ".dl-inline>dt::after {content: \":\\0020\"; padding-right: .5ex}\n",
       ".dl-inline>dt:not(:first-of-type) {padding-left: .5ex}\n",
       "</style><dl class=dl-inline><dt>sex</dt><dd>1.03042735981689</dd><dt>age</dt><dd>3.82572462971655</dd><dt>wed3</dt><dd>1.01543948941326</dd><dt>higher_educ</dt><dd>1.01286365034413</dd><dt>city_status</dt><dd>1.03045762521874</dd><dt>I(log(working_hours))</dt><dd>1.03258851610192</dd><dt>I(log(age))</dt><dd>3.80441483716748</dd></dl>\n"
      ],
      "text/latex": [
       "\\begin{description*}\n",
       "\\item[sex] 1.03042735981689\n",
       "\\item[age] 3.82572462971655\n",
       "\\item[wed3] 1.01543948941326\n",
       "\\item[higher\\textbackslash{}\\_educ] 1.01286365034413\n",
       "\\item[city\\textbackslash{}\\_status] 1.03045762521874\n",
       "\\item[I(log(working\\textbackslash{}\\_hours))] 1.03258851610192\n",
       "\\item[I(log(age))] 3.80441483716748\n",
       "\\end{description*}\n"
      ],
      "text/markdown": [
       "sex\n",
       ":   1.03042735981689age\n",
       ":   3.82572462971655wed3\n",
       ":   1.01543948941326higher_educ\n",
       ":   1.01286365034413city_status\n",
       ":   1.03045762521874I(log(working_hours))\n",
       ":   1.03258851610192I(log(age))\n",
       ":   3.80441483716748\n",
       "\n"
      ],
      "text/plain": [
       "                  sex                   age                  wed3 \n",
       "             1.030427              3.825725              1.015439 \n",
       "          higher_educ           city_status I(log(working_hours)) \n",
       "             1.012864              1.030458              1.032589 \n",
       "          I(log(age)) \n",
       "             3.804415 "
      ]
     },
     "metadata": {},
     "output_type": "display_data"
    },
    {
     "data": {
      "text/plain": [
       "\n",
       "Call:\n",
       "lm(formula = salary ~ sex + age + wed3 + higher_educ + city_status + \n",
       "    I(log(working_hours)) + I(log(age)), data = data_normalized)\n",
       "\n",
       "Residuals:\n",
       "    Min      1Q  Median      3Q     Max \n",
       "-1.8370 -0.4920 -0.1491  0.2900  5.6769 \n",
       "\n",
       "Coefficients:\n",
       "                      Estimate Std. Error t value Pr(>|t|)    \n",
       "(Intercept)           -0.16741    0.13949  -1.200 0.230491    \n",
       "sex                    0.40447    0.06436   6.285 5.76e-10 ***\n",
       "age                   -0.43232    0.11556  -3.741 0.000198 ***\n",
       "wed3                  -0.06969    0.18447  -0.378 0.705690    \n",
       "higher_educ            0.63628    0.08434   7.544 1.41e-13 ***\n",
       "city_status            0.40799    0.06927   5.890 5.99e-09 ***\n",
       "I(log(working_hours))  0.14659    0.03373   4.347 1.59e-05 ***\n",
       "I(log(age))            0.05669    0.05446   1.041 0.298244    \n",
       "---\n",
       "Signif. codes:  0 ‘***’ 0.001 ‘**’ 0.01 ‘*’ 0.05 ‘.’ 0.1 ‘ ’ 1\n",
       "\n",
       "Residual standard error: 0.8452 on 703 degrees of freedom\n",
       "  (3861 observations deleted due to missingness)\n",
       "Multiple R-squared:  0.2082,\tAdjusted R-squared:  0.2003 \n",
       "F-statistic:  26.4 on 7 and 703 DF,  p-value: < 2.2e-16\n"
      ]
     },
     "metadata": {},
     "output_type": "display_data"
    }
   ],
   "source": [
    "model1 = lm(data = data_normalized, salary ~ sex + age + wed3 + higher_educ + city_status + I(log(working_hours)) + I(log(age)))\n",
    "vif(model1)\n",
    "summary(model1)\n",
    "# R^2 ~ 0.2082\n",
    "# приемлемый VIF, плохая p-статистика для wed3 и log(age)"
   ]
  },
  {
   "cell_type": "code",
   "execution_count": 27,
   "id": "fa8238e2-a43e-4a47-92f8-e0c130a07d44",
   "metadata": {
    "collapsed": true,
    "jupyter": {
     "outputs_hidden": true
    }
   },
   "outputs": [
    {
     "name": "stderr",
     "output_type": "stream",
     "text": [
      "Warning message in log(working_hours):\n",
      "“NaNs produced”\n",
      "Warning message in log(age):\n",
      "“NaNs produced”\n"
     ]
    },
    {
     "data": {
      "text/html": [
       "<style>\n",
       ".dl-inline {width: auto; margin:0; padding: 0}\n",
       ".dl-inline>dt, .dl-inline>dd {float: none; width: auto; display: inline-block}\n",
       ".dl-inline>dt::after {content: \":\\0020\"; padding-right: .5ex}\n",
       ".dl-inline>dt:not(:first-of-type) {padding-left: .5ex}\n",
       "</style><dl class=dl-inline><dt>sex</dt><dd>1.02420294982342</dd><dt>higher_educ</dt><dd>1.0123997011318</dd><dt>city_status</dt><dd>1.02707588773303</dd><dt>I(log(working_hours))</dt><dd>1.02597841894868</dd><dt>I(log(age))</dt><dd>1.00938568008574</dd></dl>\n"
      ],
      "text/latex": [
       "\\begin{description*}\n",
       "\\item[sex] 1.02420294982342\n",
       "\\item[higher\\textbackslash{}\\_educ] 1.0123997011318\n",
       "\\item[city\\textbackslash{}\\_status] 1.02707588773303\n",
       "\\item[I(log(working\\textbackslash{}\\_hours))] 1.02597841894868\n",
       "\\item[I(log(age))] 1.00938568008574\n",
       "\\end{description*}\n"
      ],
      "text/markdown": [
       "sex\n",
       ":   1.02420294982342higher_educ\n",
       ":   1.0123997011318city_status\n",
       ":   1.02707588773303I(log(working_hours))\n",
       ":   1.02597841894868I(log(age))\n",
       ":   1.00938568008574\n",
       "\n"
      ],
      "text/plain": [
       "                  sex           higher_educ           city_status \n",
       "             1.024203              1.012400              1.027076 \n",
       "I(log(working_hours))           I(log(age)) \n",
       "             1.025978              1.009386 "
      ]
     },
     "metadata": {},
     "output_type": "display_data"
    },
    {
     "data": {
      "text/plain": [
       "\n",
       "Call:\n",
       "lm(formula = salary ~ sex + higher_educ + city_status + I(log(working_hours)) + \n",
       "    I(log(age)), data = data_normalized)\n",
       "\n",
       "Residuals:\n",
       "    Min      1Q  Median      3Q     Max \n",
       "-2.0121 -0.5129 -0.1591  0.2921  5.7837 \n",
       "\n",
       "Coefficients:\n",
       "                      Estimate Std. Error t value Pr(>|t|)    \n",
       "(Intercept)           -0.61335    0.07337  -8.360 3.34e-16 ***\n",
       "sex                    0.40160    0.06471   6.206 9.26e-10 ***\n",
       "higher_educ            0.63431    0.08504   7.459 2.57e-13 ***\n",
       "city_status            0.40314    0.06974   5.780 1.12e-08 ***\n",
       "I(log(working_hours))  0.15653    0.03390   4.617 4.63e-06 ***\n",
       "I(log(age))           -0.11755    0.02829  -4.155 3.65e-05 ***\n",
       "---\n",
       "Signif. codes:  0 ‘***’ 0.001 ‘**’ 0.01 ‘*’ 0.05 ‘.’ 0.1 ‘ ’ 1\n",
       "\n",
       "Residual standard error: 0.8524 on 705 degrees of freedom\n",
       "  (3861 observations deleted due to missingness)\n",
       "Multiple R-squared:  0.1924,\tAdjusted R-squared:  0.1866 \n",
       "F-statistic: 33.58 on 5 and 705 DF,  p-value: < 2.2e-16\n"
      ]
     },
     "metadata": {},
     "output_type": "display_data"
    }
   ],
   "source": [
    "model1 = lm(data = data_normalized, salary ~ sex + higher_educ + city_status + I(log(working_hours)) + I(log(age)))\n",
    "vif(model1)\n",
    "summary(model1)\n",
    "# R^2 ~ 0.1924\n",
    "# приемлемый VIF, отличная p-статистика"
   ]
  },
  {
   "cell_type": "code",
   "execution_count": 28,
   "id": "a4f3a812-1892-4c78-b467-6267b8ef6e4e",
   "metadata": {
    "collapsed": true,
    "jupyter": {
     "outputs_hidden": true
    },
    "tags": []
   },
   "outputs": [
    {
     "data": {
      "text/html": [
       "<style>\n",
       ".dl-inline {width: auto; margin:0; padding: 0}\n",
       ".dl-inline>dt, .dl-inline>dd {float: none; width: auto; display: inline-block}\n",
       ".dl-inline>dt::after {content: \":\\0020\"; padding-right: .5ex}\n",
       ".dl-inline>dt:not(:first-of-type) {padding-left: .5ex}\n",
       "</style><dl class=dl-inline><dt>sex</dt><dd>1.03628228527623</dd><dt>working_hours</dt><dd>6.8803987268284</dd><dt>age</dt><dd>4.77954343081394</dd><dt>wed3</dt><dd>1.01583913165885</dd><dt>higher_educ</dt><dd>1.01665478791871</dd><dt>city_status</dt><dd>1.03072571867495</dd><dt>I(working_hours^current_pow)</dt><dd>6.80997523045949</dd><dt>I(age^current_pow)</dt><dd>4.74831459380768</dd></dl>\n"
      ],
      "text/latex": [
       "\\begin{description*}\n",
       "\\item[sex] 1.03628228527623\n",
       "\\item[working\\textbackslash{}\\_hours] 6.8803987268284\n",
       "\\item[age] 4.77954343081394\n",
       "\\item[wed3] 1.01583913165885\n",
       "\\item[higher\\textbackslash{}\\_educ] 1.01665478791871\n",
       "\\item[city\\textbackslash{}\\_status] 1.03072571867495\n",
       "\\item[I(working\\textbackslash{}\\_hours\\textbackslash{}textasciicircum\\{\\}current\\textbackslash{}\\_pow)] 6.80997523045949\n",
       "\\item[I(age\\textbackslash{}textasciicircum\\{\\}current\\textbackslash{}\\_pow)] 4.74831459380768\n",
       "\\end{description*}\n"
      ],
      "text/markdown": [
       "sex\n",
       ":   1.03628228527623working_hours\n",
       ":   6.8803987268284age\n",
       ":   4.77954343081394wed3\n",
       ":   1.01583913165885higher_educ\n",
       ":   1.01665478791871city_status\n",
       ":   1.03072571867495I(working_hours^current_pow)\n",
       ":   6.80997523045949I(age^current_pow)\n",
       ":   4.74831459380768\n",
       "\n"
      ],
      "text/plain": [
       "                         sex                working_hours \n",
       "                    1.036282                     6.880399 \n",
       "                         age                         wed3 \n",
       "                    4.779543                     1.015839 \n",
       "                 higher_educ                  city_status \n",
       "                    1.016655                     1.030726 \n",
       "I(working_hours^current_pow)           I(age^current_pow) \n",
       "                    6.809975                     4.748315 "
      ]
     },
     "metadata": {},
     "output_type": "display_data"
    },
    {
     "data": {
      "text/plain": [
       "\n",
       "Call:\n",
       "lm(formula = salary ~ sex + working_hours + age + wed3 + higher_educ + \n",
       "    city_status + I(working_hours^current_pow) + I(age^current_pow), \n",
       "    data = data_normalized)\n",
       "\n",
       "Residuals:\n",
       "    Min      1Q  Median      3Q     Max \n",
       "-1.8641 -0.4866 -0.1413  0.2797  5.5844 \n",
       "\n",
       "Coefficients:\n",
       "                             Estimate Std. Error t value Pr(>|t|)    \n",
       "(Intercept)                  -1.17746    0.98953  -1.190 0.234479    \n",
       "sex                           0.39483    0.06439   6.132 1.45e-09 ***\n",
       "working_hours                 0.14071    0.08226   1.711 0.087592 .  \n",
       "age                          -0.42897    0.12886  -3.329 0.000917 ***\n",
       "wed3                         -0.07694    0.18406  -0.418 0.676076    \n",
       "higher_educ                   0.64689    0.08430   7.674 5.60e-14 ***\n",
       "city_status                   0.40972    0.06911   5.928 4.80e-09 ***\n",
       "I(working_hours^current_pow)  0.16587    0.89509   0.185 0.853036    \n",
       "I(age^current_pow)            0.64218    0.69312   0.927 0.354503    \n",
       "---\n",
       "Signif. codes:  0 ‘***’ 0.001 ‘**’ 0.01 ‘*’ 0.05 ‘.’ 0.1 ‘ ’ 1\n",
       "\n",
       "Residual standard error: 0.8432 on 702 degrees of freedom\n",
       "  (3861 observations deleted due to missingness)\n",
       "Multiple R-squared:  0.2131,\tAdjusted R-squared:  0.2041 \n",
       "F-statistic: 23.76 on 8 and 702 DF,  p-value: < 2.2e-16\n"
      ]
     },
     "metadata": {},
     "output_type": "display_data"
    }
   ],
   "source": [
    "# степени\n",
    "current_pow = 0.1\n",
    "model1 = lm(data = data_normalized, salary ~ sex + working_hours + age + wed3 + higher_educ + city_status + I(working_hours^current_pow) + I(age^current_pow))\n",
    "vif(model1)\n",
    "summary(model1) \n",
    "# R^2 ~  0.213\n",
    "# плохой VIF, плохая p-статистика"
   ]
  },
  {
   "cell_type": "code",
   "execution_count": 29,
   "id": "fd42c76b-3b82-4815-b58f-ab84ddc03a5f",
   "metadata": {
    "collapsed": true,
    "jupyter": {
     "outputs_hidden": true
    }
   },
   "outputs": [
    {
     "data": {
      "text/html": [
       "<style>\n",
       ".dl-inline {width: auto; margin:0; padding: 0}\n",
       ".dl-inline>dt, .dl-inline>dd {float: none; width: auto; display: inline-block}\n",
       ".dl-inline>dt::after {content: \":\\0020\"; padding-right: .5ex}\n",
       ".dl-inline>dt:not(:first-of-type) {padding-left: .5ex}\n",
       "</style><dl class=dl-inline><dt>sex</dt><dd>1.03087280532275</dd><dt>wed3</dt><dd>1.01395561413002</dd><dt>higher_educ</dt><dd>1.01346216963396</dd><dt>city_status</dt><dd>1.03021458498598</dd><dt>I(working_hours^current_pow)</dt><dd>1.02864382796236</dd><dt>I(age^current_pow)</dt><dd>1.01332800088298</dd></dl>\n"
      ],
      "text/latex": [
       "\\begin{description*}\n",
       "\\item[sex] 1.03087280532275\n",
       "\\item[wed3] 1.01395561413002\n",
       "\\item[higher\\textbackslash{}\\_educ] 1.01346216963396\n",
       "\\item[city\\textbackslash{}\\_status] 1.03021458498598\n",
       "\\item[I(working\\textbackslash{}\\_hours\\textbackslash{}textasciicircum\\{\\}current\\textbackslash{}\\_pow)] 1.02864382796236\n",
       "\\item[I(age\\textbackslash{}textasciicircum\\{\\}current\\textbackslash{}\\_pow)] 1.01332800088298\n",
       "\\end{description*}\n"
      ],
      "text/markdown": [
       "sex\n",
       ":   1.03087280532275wed3\n",
       ":   1.01395561413002higher_educ\n",
       ":   1.01346216963396city_status\n",
       ":   1.03021458498598I(working_hours^current_pow)\n",
       ":   1.02864382796236I(age^current_pow)\n",
       ":   1.01332800088298\n",
       "\n"
      ],
      "text/plain": [
       "                         sex                         wed3 \n",
       "                    1.030873                     1.013956 \n",
       "                 higher_educ                  city_status \n",
       "                    1.013462                     1.030215 \n",
       "I(working_hours^current_pow)           I(age^current_pow) \n",
       "                    1.028644                     1.013328 "
      ]
     },
     "metadata": {},
     "output_type": "display_data"
    },
    {
     "data": {
      "text/plain": [
       "\n",
       "Call:\n",
       "lm(formula = salary ~ sex + wed3 + higher_educ + city_status + \n",
       "    I(working_hours^current_pow) + I(age^current_pow), data = data_normalized)\n",
       "\n",
       "Residuals:\n",
       "    Min      1Q  Median      3Q     Max \n",
       "-2.0211 -0.5127 -0.1541  0.2967  5.7492 \n",
       "\n",
       "Coefficients:\n",
       "                             Estimate Std. Error t value Pr(>|t|)    \n",
       "(Intercept)                  -0.88509    0.47906  -1.848   0.0651 .  \n",
       "sex                           0.39844    0.06480   6.148 1.31e-09 ***\n",
       "wed3                         -0.04638    0.18557  -0.250   0.8027    \n",
       "higher_educ                   0.63733    0.08493   7.504 1.87e-13 ***\n",
       "city_status                   0.40380    0.06973   5.791 1.05e-08 ***\n",
       "I(working_hours^current_pow)  1.67312    0.35104   4.766 2.28e-06 ***\n",
       "I(age^current_pow)           -1.40726    0.32311  -4.355 1.53e-05 ***\n",
       "---\n",
       "Signif. codes:  0 ‘***’ 0.001 ‘**’ 0.01 ‘*’ 0.05 ‘.’ 0.1 ‘ ’ 1\n",
       "\n",
       "Residual standard error: 0.8509 on 704 degrees of freedom\n",
       "  (3861 observations deleted due to missingness)\n",
       "Multiple R-squared:  0.1964,\tAdjusted R-squared:  0.1895 \n",
       "F-statistic: 28.67 on 6 and 704 DF,  p-value: < 2.2e-16\n"
      ]
     },
     "metadata": {},
     "output_type": "display_data"
    }
   ],
   "source": [
    "model1 = lm(data = data_normalized, salary ~ sex + wed3 + higher_educ + city_status + I(working_hours^current_pow) + I(age^current_pow))\n",
    "vif(model1)\n",
    "summary(model1) \n",
    "# R^2 ~  0.196\n",
    "# отличный VIF, плохое p-значение у wed3"
   ]
  },
  {
   "cell_type": "code",
   "execution_count": 30,
   "id": "f00a63fd-91e3-4bd0-b656-c4f0143e1b67",
   "metadata": {
    "collapsed": true,
    "jupyter": {
     "outputs_hidden": true
    },
    "tags": []
   },
   "outputs": [
    {
     "data": {
      "text/html": [
       "<style>\n",
       ".dl-inline {width: auto; margin:0; padding: 0}\n",
       ".dl-inline>dt, .dl-inline>dd {float: none; width: auto; display: inline-block}\n",
       ".dl-inline>dt::after {content: \":\\0020\"; padding-right: .5ex}\n",
       ".dl-inline>dt:not(:first-of-type) {padding-left: .5ex}\n",
       "</style><dl class=dl-inline><dt>sex</dt><dd>1.024905482409</dd><dt>higher_educ</dt><dd>1.01301804296748</dd><dt>city_status</dt><dd>1.02708939191508</dd><dt>I(working_hours^current_pow)</dt><dd>1.02851819818489</dd><dt>I(age^current_pow)</dt><dd>1.01051636777306</dd></dl>\n"
      ],
      "text/latex": [
       "\\begin{description*}\n",
       "\\item[sex] 1.024905482409\n",
       "\\item[higher\\textbackslash{}\\_educ] 1.01301804296748\n",
       "\\item[city\\textbackslash{}\\_status] 1.02708939191508\n",
       "\\item[I(working\\textbackslash{}\\_hours\\textbackslash{}textasciicircum\\{\\}current\\textbackslash{}\\_pow)] 1.02851819818489\n",
       "\\item[I(age\\textbackslash{}textasciicircum\\{\\}current\\textbackslash{}\\_pow)] 1.01051636777306\n",
       "\\end{description*}\n"
      ],
      "text/markdown": [
       "sex\n",
       ":   1.024905482409higher_educ\n",
       ":   1.01301804296748city_status\n",
       ":   1.02708939191508I(working_hours^current_pow)\n",
       ":   1.02851819818489I(age^current_pow)\n",
       ":   1.01051636777306\n",
       "\n"
      ],
      "text/plain": [
       "                         sex                  higher_educ \n",
       "                    1.024905                     1.013018 \n",
       "                 city_status I(working_hours^current_pow) \n",
       "                    1.027089                     1.028518 \n",
       "          I(age^current_pow) \n",
       "                    1.010516 "
      ]
     },
     "metadata": {},
     "output_type": "display_data"
    },
    {
     "data": {
      "text/plain": [
       "\n",
       "Call:\n",
       "lm(formula = salary ~ sex + higher_educ + city_status + I(working_hours^current_pow) + \n",
       "    I(age^current_pow), data = data_normalized)\n",
       "\n",
       "Residuals:\n",
       "    Min      1Q  Median      3Q     Max \n",
       "-2.0188 -0.5103 -0.1557  0.2884  5.7506 \n",
       "\n",
       "Coefficients:\n",
       "                             Estimate Std. Error t value Pr(>|t|)    \n",
       "(Intercept)                  -0.88950    0.47842  -1.859   0.0634 .  \n",
       "sex                           0.39967    0.06457   6.190 1.02e-09 ***\n",
       "higher_educ                   0.63689    0.08486   7.505 1.85e-13 ***\n",
       "city_status                   0.40284    0.06957   5.790 1.06e-08 ***\n",
       "I(working_hours^current_pow)  1.67215    0.35079   4.767 2.27e-06 ***\n",
       "I(age^current_pow)           -1.40301    0.32245  -4.351 1.55e-05 ***\n",
       "---\n",
       "Signif. codes:  0 ‘***’ 0.001 ‘**’ 0.01 ‘*’ 0.05 ‘.’ 0.1 ‘ ’ 1\n",
       "\n",
       "Residual standard error: 0.8503 on 705 degrees of freedom\n",
       "  (3861 observations deleted due to missingness)\n",
       "Multiple R-squared:  0.1963,\tAdjusted R-squared:  0.1906 \n",
       "F-statistic: 34.44 on 5 and 705 DF,  p-value: < 2.2e-16\n"
      ]
     },
     "metadata": {},
     "output_type": "display_data"
    }
   ],
   "source": [
    "model1 = lm(data = data_normalized, salary ~ sex + higher_educ + city_status + I(working_hours^current_pow) + I(age^current_pow))\n",
    "vif(model1)\n",
    "summary(model1) \n",
    "# R^2 ~  0.196\n",
    "# отличный VIF, отличная p-статистика"
   ]
  },
  {
   "cell_type": "code",
   "execution_count": 31,
   "id": "ad8b54af-fc50-4368-b2f6-62d7799d4e87",
   "metadata": {
    "collapsed": true,
    "jupyter": {
     "outputs_hidden": true
    }
   },
   "outputs": [
    {
     "data": {
      "text/html": [
       "<style>\n",
       ".dl-inline {width: auto; margin:0; padding: 0}\n",
       ".dl-inline>dt, .dl-inline>dd {float: none; width: auto; display: inline-block}\n",
       ".dl-inline>dt::after {content: \":\\0020\"; padding-right: .5ex}\n",
       ".dl-inline>dt:not(:first-of-type) {padding-left: .5ex}\n",
       "</style><dl class=dl-inline><dt>sex</dt><dd>1.03638083964126</dd><dt>working_hours</dt><dd>9.09285176726448</dd><dt>age</dt><dd>6.13614929658764</dd><dt>wed3</dt><dd>1.01583133185554</dd><dt>higher_educ</dt><dd>1.01662177313627</dd><dt>city_status</dt><dd>1.03088850301728</dd><dt>I(working_hours^current_pow)</dt><dd>9.02139374970081</dd><dt>I(age^current_pow)</dt><dd>6.1032422478118</dd></dl>\n"
      ],
      "text/latex": [
       "\\begin{description*}\n",
       "\\item[sex] 1.03638083964126\n",
       "\\item[working\\textbackslash{}\\_hours] 9.09285176726448\n",
       "\\item[age] 6.13614929658764\n",
       "\\item[wed3] 1.01583133185554\n",
       "\\item[higher\\textbackslash{}\\_educ] 1.01662177313627\n",
       "\\item[city\\textbackslash{}\\_status] 1.03088850301728\n",
       "\\item[I(working\\textbackslash{}\\_hours\\textbackslash{}textasciicircum\\{\\}current\\textbackslash{}\\_pow)] 9.02139374970081\n",
       "\\item[I(age\\textbackslash{}textasciicircum\\{\\}current\\textbackslash{}\\_pow)] 6.1032422478118\n",
       "\\end{description*}\n"
      ],
      "text/markdown": [
       "sex\n",
       ":   1.03638083964126working_hours\n",
       ":   9.09285176726448age\n",
       ":   6.13614929658764wed3\n",
       ":   1.01583133185554higher_educ\n",
       ":   1.01662177313627city_status\n",
       ":   1.03088850301728I(working_hours^current_pow)\n",
       ":   9.02139374970081I(age^current_pow)\n",
       ":   6.1032422478118\n",
       "\n"
      ],
      "text/plain": [
       "                         sex                working_hours \n",
       "                    1.036381                     9.092852 \n",
       "                         age                         wed3 \n",
       "                    6.136149                     1.015831 \n",
       "                 higher_educ                  city_status \n",
       "                    1.016622                     1.030889 \n",
       "I(working_hours^current_pow)           I(age^current_pow) \n",
       "                    9.021394                     6.103242 "
      ]
     },
     "metadata": {},
     "output_type": "display_data"
    },
    {
     "data": {
      "text/plain": [
       "\n",
       "Call:\n",
       "lm(formula = salary ~ sex + working_hours + age + wed3 + higher_educ + \n",
       "    city_status + I(working_hours^current_pow) + I(age^current_pow), \n",
       "    data = data_normalized)\n",
       "\n",
       "Residuals:\n",
       "    Min      1Q  Median      3Q     Max \n",
       "-1.8675 -0.4855 -0.1418  0.2823  5.5802 \n",
       "\n",
       "Coefficients:\n",
       "                             Estimate Std. Error t value Pr(>|t|)    \n",
       "(Intercept)                  -0.90802    0.51566  -1.761  0.07869 .  \n",
       "sex                           0.39514    0.06439   6.137 1.41e-09 ***\n",
       "working_hours                 0.12753    0.09456   1.349  0.17785    \n",
       "age                          -0.44827    0.14599  -3.070  0.00222 ** \n",
       "wed3                         -0.07654    0.18405  -0.416  0.67766    \n",
       "higher_educ                   0.64679    0.08429   7.673 5.63e-14 ***\n",
       "city_status                   0.40995    0.06912   5.931 4.71e-09 ***\n",
       "I(working_hours^current_pow)  0.16134    0.52757   0.306  0.75983    \n",
       "I(age^current_pow)            0.41538    0.44177   0.940  0.34741    \n",
       "---\n",
       "Signif. codes:  0 ‘***’ 0.001 ‘**’ 0.01 ‘*’ 0.05 ‘.’ 0.1 ‘ ’ 1\n",
       "\n",
       "Residual standard error: 0.8432 on 702 degrees of freedom\n",
       "  (3861 observations deleted due to missingness)\n",
       "Multiple R-squared:  0.2131,\tAdjusted R-squared:  0.2042 \n",
       "F-statistic: 23.77 on 8 and 702 DF,  p-value: < 2.2e-16\n"
      ]
     },
     "metadata": {},
     "output_type": "display_data"
    }
   ],
   "source": [
    "current_pow = 0.2\n",
    "model1 = lm(data = data_normalized, salary ~ sex + working_hours + age + wed3 + higher_educ + city_status + I(working_hours^current_pow) + I(age^current_pow))\n",
    "vif(model1)\n",
    "summary(model1) \n",
    "# R^2 ~  0.213\n",
    "# плохой VIF, плохая p-статистика"
   ]
  },
  {
   "cell_type": "code",
   "execution_count": 32,
   "id": "b1cbb873-c37a-4e82-9c0f-4c407bd946e5",
   "metadata": {
    "collapsed": true,
    "jupyter": {
     "outputs_hidden": true
    }
   },
   "outputs": [
    {
     "data": {
      "text/html": [
       "<style>\n",
       ".dl-inline {width: auto; margin:0; padding: 0}\n",
       ".dl-inline>dt, .dl-inline>dd {float: none; width: auto; display: inline-block}\n",
       ".dl-inline>dt::after {content: \":\\0020\"; padding-right: .5ex}\n",
       ".dl-inline>dt:not(:first-of-type) {padding-left: .5ex}\n",
       "</style><dl class=dl-inline><dt>sex</dt><dd>1.03197977308898</dd><dt>age</dt><dd>6.11362600046815</dd><dt>wed3</dt><dd>1.01545448149038</dd><dt>higher_educ</dt><dd>1.01405395391381</dd><dt>city_status</dt><dd>1.03083791614441</dd><dt>I(working_hours^current_pow)</dt><dd>1.03783774199879</dd><dt>I(age^current_pow)</dt><dd>6.08462574836361</dd></dl>\n"
      ],
      "text/latex": [
       "\\begin{description*}\n",
       "\\item[sex] 1.03197977308898\n",
       "\\item[age] 6.11362600046815\n",
       "\\item[wed3] 1.01545448149038\n",
       "\\item[higher\\textbackslash{}\\_educ] 1.01405395391381\n",
       "\\item[city\\textbackslash{}\\_status] 1.03083791614441\n",
       "\\item[I(working\\textbackslash{}\\_hours\\textbackslash{}textasciicircum\\{\\}current\\textbackslash{}\\_pow)] 1.03783774199879\n",
       "\\item[I(age\\textbackslash{}textasciicircum\\{\\}current\\textbackslash{}\\_pow)] 6.08462574836361\n",
       "\\end{description*}\n"
      ],
      "text/markdown": [
       "sex\n",
       ":   1.03197977308898age\n",
       ":   6.11362600046815wed3\n",
       ":   1.01545448149038higher_educ\n",
       ":   1.01405395391381city_status\n",
       ":   1.03083791614441I(working_hours^current_pow)\n",
       ":   1.03783774199879I(age^current_pow)\n",
       ":   6.08462574836361\n",
       "\n"
      ],
      "text/plain": [
       "                         sex                          age \n",
       "                    1.031980                     6.113626 \n",
       "                        wed3                  higher_educ \n",
       "                    1.015454                     1.014054 \n",
       "                 city_status I(working_hours^current_pow) \n",
       "                    1.030838                     1.037838 \n",
       "          I(age^current_pow) \n",
       "                    6.084626 "
      ]
     },
     "metadata": {},
     "output_type": "display_data"
    },
    {
     "data": {
      "text/plain": [
       "\n",
       "Call:\n",
       "lm(formula = salary ~ sex + age + wed3 + higher_educ + city_status + \n",
       "    I(working_hours^current_pow) + I(age^current_pow), data = data_normalized)\n",
       "\n",
       "Residuals:\n",
       "    Min      1Q  Median      3Q     Max \n",
       "-1.8644 -0.4857 -0.1433  0.2832  5.6421 \n",
       "\n",
       "Coefficients:\n",
       "                             Estimate Std. Error t value Pr(>|t|)    \n",
       "(Intercept)                  -1.42408    0.34589  -4.117 4.29e-05 ***\n",
       "sex                           0.40080    0.06429   6.234 7.82e-10 ***\n",
       "age                          -0.46020    0.14581  -3.156  0.00167 ** \n",
       "wed3                         -0.07175    0.18413  -0.390  0.69688    \n",
       "higher_educ                   0.64108    0.08424   7.611 8.80e-14 ***\n",
       "city_status                   0.40930    0.06915   5.919 5.07e-09 ***\n",
       "I(working_hours^current_pow)  0.83073    0.17904   4.640 4.16e-06 ***\n",
       "I(age^current_pow)            0.44828    0.44135   1.016  0.31012    \n",
       "---\n",
       "Signif. codes:  0 ‘***’ 0.001 ‘**’ 0.01 ‘*’ 0.05 ‘.’ 0.1 ‘ ’ 1\n",
       "\n",
       "Residual standard error: 0.8437 on 703 degrees of freedom\n",
       "  (3861 observations deleted due to missingness)\n",
       "Multiple R-squared:  0.2111,\tAdjusted R-squared:  0.2032 \n",
       "F-statistic: 26.87 on 7 and 703 DF,  p-value: < 2.2e-16\n"
      ]
     },
     "metadata": {},
     "output_type": "display_data"
    }
   ],
   "source": [
    "model1 = lm(data = data_normalized, salary ~ sex  + age + wed3 + higher_educ + city_status + I(working_hours^current_pow) + I(age^current_pow))\n",
    "vif(model1)\n",
    "summary(model1) \n",
    "# R^2 ~  0.21\n",
    "# плохой VIF, плохие p-значения переменных wed3 и age"
   ]
  },
  {
   "cell_type": "code",
   "execution_count": 33,
   "id": "9e867c7c-8fd2-4f42-915f-230f50ff4e20",
   "metadata": {
    "collapsed": true,
    "jupyter": {
     "outputs_hidden": true
    }
   },
   "outputs": [
    {
     "data": {
      "text/html": [
       "<style>\n",
       ".dl-inline {width: auto; margin:0; padding: 0}\n",
       ".dl-inline>dt, .dl-inline>dd {float: none; width: auto; display: inline-block}\n",
       ".dl-inline>dt::after {content: \":\\0020\"; padding-right: .5ex}\n",
       ".dl-inline>dt:not(:first-of-type) {padding-left: .5ex}\n",
       "</style><dl class=dl-inline><dt>sex</dt><dd>1.03156302871494</dd><dt>wed3</dt><dd>1.01424811611514</dd><dt>higher_educ</dt><dd>1.01402272493281</dd><dt>city_status</dt><dd>1.03014884347239</dd><dt>I(working_hours^current_pow)</dt><dd>1.03111679775055</dd><dt>I(age^current_pow)</dt><dd>1.01468984006511</dd></dl>\n"
      ],
      "text/latex": [
       "\\begin{description*}\n",
       "\\item[sex] 1.03156302871494\n",
       "\\item[wed3] 1.01424811611514\n",
       "\\item[higher\\textbackslash{}\\_educ] 1.01402272493281\n",
       "\\item[city\\textbackslash{}\\_status] 1.03014884347239\n",
       "\\item[I(working\\textbackslash{}\\_hours\\textbackslash{}textasciicircum\\{\\}current\\textbackslash{}\\_pow)] 1.03111679775055\n",
       "\\item[I(age\\textbackslash{}textasciicircum\\{\\}current\\textbackslash{}\\_pow)] 1.01468984006511\n",
       "\\end{description*}\n"
      ],
      "text/markdown": [
       "sex\n",
       ":   1.03156302871494wed3\n",
       ":   1.01424811611514higher_educ\n",
       ":   1.01402272493281city_status\n",
       ":   1.03014884347239I(working_hours^current_pow)\n",
       ":   1.03111679775055I(age^current_pow)\n",
       ":   1.01468984006511\n",
       "\n"
      ],
      "text/plain": [
       "                         sex                         wed3 \n",
       "                    1.031563                     1.014248 \n",
       "                 higher_educ                  city_status \n",
       "                    1.014023                     1.030149 \n",
       "I(working_hours^current_pow)           I(age^current_pow) \n",
       "                    1.031117                     1.014690 "
      ]
     },
     "metadata": {},
     "output_type": "display_data"
    },
    {
     "data": {
      "text/plain": [
       "\n",
       "Call:\n",
       "lm(formula = salary ~ sex + wed3 + higher_educ + city_status + \n",
       "    I(working_hours^current_pow) + I(age^current_pow), data = data_normalized)\n",
       "\n",
       "Residuals:\n",
       "    Min      1Q  Median      3Q     Max \n",
       "-2.0223 -0.5123 -0.1477  0.2946  5.7182 \n",
       "\n",
       "Coefficients:\n",
       "                             Estimate Std. Error t value Pr(>|t|)    \n",
       "(Intercept)                  -0.67986    0.25467  -2.670  0.00777 ** \n",
       "sex                           0.39672    0.06468   6.133 1.43e-09 ***\n",
       "wed3                         -0.05172    0.18519  -0.279  0.78009    \n",
       "higher_educ                   0.63960    0.08477   7.545 1.40e-13 ***\n",
       "city_status                   0.40366    0.06957   5.802 9.89e-09 ***\n",
       "I(working_hours^current_pow)  0.87620    0.17959   4.879 1.32e-06 ***\n",
       "I(age^current_pow)           -0.82324    0.18138  -4.539 6.65e-06 ***\n",
       "---\n",
       "Signif. codes:  0 ‘***’ 0.001 ‘**’ 0.01 ‘*’ 0.05 ‘.’ 0.1 ‘ ’ 1\n",
       "\n",
       "Residual standard error: 0.849 on 704 degrees of freedom\n",
       "  (3861 observations deleted due to missingness)\n",
       "Multiple R-squared:  0.1999,\tAdjusted R-squared:  0.1931 \n",
       "F-statistic: 29.32 on 6 and 704 DF,  p-value: < 2.2e-16\n"
      ]
     },
     "metadata": {},
     "output_type": "display_data"
    }
   ],
   "source": [
    "model1 = lm(data = data_normalized, salary ~ sex + wed3 + higher_educ + city_status + I(working_hours^current_pow) + I(age^current_pow))\n",
    "vif(model1)\n",
    "summary(model1) \n",
    "# R^2 ~  0.199\n",
    "# хороший VIF, плохое p-значение переменной wed3"
   ]
  },
  {
   "cell_type": "code",
   "execution_count": 35,
   "id": "1abc0f70-0165-42e3-a9df-8d61b716e166",
   "metadata": {
    "collapsed": true,
    "jupyter": {
     "outputs_hidden": true
    }
   },
   "outputs": [
    {
     "data": {
      "text/html": [
       "<style>\n",
       ".dl-inline {width: auto; margin:0; padding: 0}\n",
       ".dl-inline>dt, .dl-inline>dd {float: none; width: auto; display: inline-block}\n",
       ".dl-inline>dt::after {content: \":\\0020\"; padding-right: .5ex}\n",
       ".dl-inline>dt:not(:first-of-type) {padding-left: .5ex}\n",
       "</style><dl class=dl-inline><dt>sex</dt><dd>1.02557875196007</dd><dt>higher_educ</dt><dd>1.01357326144037</dd><dt>city_status</dt><dd>1.02703026904807</dd><dt>I(working_hours^current_pow)</dt><dd>1.03097287085312</dd><dt>I(age^current_pow)</dt><dd>1.01162612885418</dd></dl>\n"
      ],
      "text/latex": [
       "\\begin{description*}\n",
       "\\item[sex] 1.02557875196007\n",
       "\\item[higher\\textbackslash{}\\_educ] 1.01357326144037\n",
       "\\item[city\\textbackslash{}\\_status] 1.02703026904807\n",
       "\\item[I(working\\textbackslash{}\\_hours\\textbackslash{}textasciicircum\\{\\}current\\textbackslash{}\\_pow)] 1.03097287085312\n",
       "\\item[I(age\\textbackslash{}textasciicircum\\{\\}current\\textbackslash{}\\_pow)] 1.01162612885418\n",
       "\\end{description*}\n"
      ],
      "text/markdown": [
       "sex\n",
       ":   1.02557875196007higher_educ\n",
       ":   1.01357326144037city_status\n",
       ":   1.02703026904807I(working_hours^current_pow)\n",
       ":   1.03097287085312I(age^current_pow)\n",
       ":   1.01162612885418\n",
       "\n"
      ],
      "text/plain": [
       "                         sex                  higher_educ \n",
       "                    1.025579                     1.013573 \n",
       "                 city_status I(working_hours^current_pow) \n",
       "                    1.027030                     1.030973 \n",
       "          I(age^current_pow) \n",
       "                    1.011626 "
      ]
     },
     "metadata": {},
     "output_type": "display_data"
    },
    {
     "data": {
      "text/plain": [
       "\n",
       "Call:\n",
       "lm(formula = salary ~ sex + higher_educ + city_status + I(working_hours^current_pow) + \n",
       "    I(age^current_pow), data = data_normalized)\n",
       "\n",
       "Residuals:\n",
       "    Min      1Q  Median      3Q     Max \n",
       "-2.0198 -0.5101 -0.1450  0.2837  5.7198 \n",
       "\n",
       "Coefficients:\n",
       "                             Estimate Std. Error t value Pr(>|t|)    \n",
       "(Intercept)                  -0.68330    0.25420  -2.688  0.00736 ** \n",
       "sex                           0.39810    0.06445   6.177 1.11e-09 ***\n",
       "higher_educ                   0.63910    0.08469   7.546 1.39e-13 ***\n",
       "city_status                   0.40259    0.06942   5.799 1.00e-08 ***\n",
       "I(working_hours^current_pow)  0.87561    0.17946   4.879 1.32e-06 ***\n",
       "I(age^current_pow)           -0.82046    0.18098  -4.533 6.82e-06 ***\n",
       "---\n",
       "Signif. codes:  0 ‘***’ 0.001 ‘**’ 0.01 ‘*’ 0.05 ‘.’ 0.1 ‘ ’ 1\n",
       "\n",
       "Residual standard error: 0.8485 on 705 degrees of freedom\n",
       "  (3861 observations deleted due to missingness)\n",
       "Multiple R-squared:  0.1998,\tAdjusted R-squared:  0.1942 \n",
       "F-statistic: 35.21 on 5 and 705 DF,  p-value: < 2.2e-16\n"
      ]
     },
     "metadata": {},
     "output_type": "display_data"
    }
   ],
   "source": [
    "model1 = lm(data = data_normalized, salary ~ sex + higher_educ + city_status + I(working_hours^current_pow) + I(age^current_pow))\n",
    "vif(model1)\n",
    "summary(model1) \n",
    "# R^2 ~  0.199\n",
    "# хороший VIF, отличная p-статистика"
   ]
  },
  {
   "cell_type": "code",
   "execution_count": 36,
   "id": "f097c9db-8a78-447b-9118-264ba3881662",
   "metadata": {
    "collapsed": true,
    "jupyter": {
     "outputs_hidden": true
    }
   },
   "outputs": [
    {
     "data": {
      "text/html": [
       "<style>\n",
       ".dl-inline {width: auto; margin:0; padding: 0}\n",
       ".dl-inline>dt, .dl-inline>dd {float: none; width: auto; display: inline-block}\n",
       ".dl-inline>dt::after {content: \":\\0020\"; padding-right: .5ex}\n",
       ".dl-inline>dt:not(:first-of-type) {padding-left: .5ex}\n",
       "</style><dl class=dl-inline><dt>sex</dt><dd>1.03645693366748</dd><dt>working_hours</dt><dd>12.4044022488387</dd><dt>age</dt><dd>8.19091149325798</dd><dt>wed3</dt><dd>1.0158229578059</dd><dt>higher_educ</dt><dd>1.01659233674771</dd><dt>city_status</dt><dd>1.0310519831018</dd><dt>I(working_hours^current_pow)</dt><dd>12.3322524038622</dd><dt>I(age^current_pow)</dt><dd>8.15575017198393</dd></dl>\n"
      ],
      "text/latex": [
       "\\begin{description*}\n",
       "\\item[sex] 1.03645693366748\n",
       "\\item[working\\textbackslash{}\\_hours] 12.4044022488387\n",
       "\\item[age] 8.19091149325798\n",
       "\\item[wed3] 1.0158229578059\n",
       "\\item[higher\\textbackslash{}\\_educ] 1.01659233674771\n",
       "\\item[city\\textbackslash{}\\_status] 1.0310519831018\n",
       "\\item[I(working\\textbackslash{}\\_hours\\textbackslash{}textasciicircum\\{\\}current\\textbackslash{}\\_pow)] 12.3322524038622\n",
       "\\item[I(age\\textbackslash{}textasciicircum\\{\\}current\\textbackslash{}\\_pow)] 8.15575017198393\n",
       "\\end{description*}\n"
      ],
      "text/markdown": [
       "sex\n",
       ":   1.03645693366748working_hours\n",
       ":   12.4044022488387age\n",
       ":   8.19091149325798wed3\n",
       ":   1.0158229578059higher_educ\n",
       ":   1.01659233674771city_status\n",
       ":   1.0310519831018I(working_hours^current_pow)\n",
       ":   12.3322524038622I(age^current_pow)\n",
       ":   8.15575017198393\n",
       "\n"
      ],
      "text/plain": [
       "                         sex                working_hours \n",
       "                    1.036457                    12.404402 \n",
       "                         age                         wed3 \n",
       "                    8.190911                     1.015823 \n",
       "                 higher_educ                  city_status \n",
       "                    1.016592                     1.031052 \n",
       "I(working_hours^current_pow)           I(age^current_pow) \n",
       "                   12.332252                     8.155750 "
      ]
     },
     "metadata": {},
     "output_type": "display_data"
    },
    {
     "data": {
      "text/plain": [
       "\n",
       "Call:\n",
       "lm(formula = salary ~ sex + working_hours + age + wed3 + higher_educ + \n",
       "    city_status + I(working_hours^current_pow) + I(age^current_pow), \n",
       "    data = data_normalized)\n",
       "\n",
       "Residuals:\n",
       "    Min      1Q  Median      3Q     Max \n",
       "-1.8713 -0.4836 -0.1414  0.2770  5.5828 \n",
       "\n",
       "Coefficients:\n",
       "                             Estimate Std. Error t value Pr(>|t|)    \n",
       "(Intercept)                  -0.81931    0.35960  -2.278  0.02300 *  \n",
       "sex                           0.39543    0.06438   6.142 1.37e-09 ***\n",
       "working_hours                 0.10976    0.11043   0.994  0.32061    \n",
       "age                          -0.47270    0.16866  -2.803  0.00521 ** \n",
       "wed3                         -0.07614    0.18404  -0.414  0.67921    \n",
       "higher_educ                   0.64672    0.08429   7.673 5.64e-14 ***\n",
       "city_status                   0.41014    0.06912   5.934 4.64e-09 ***\n",
       "I(working_hours^current_pow)  0.17740    0.41683   0.426  0.67053    \n",
       "I(age^current_pow)            0.35859    0.37722   0.951  0.34213    \n",
       "---\n",
       "Signif. codes:  0 ‘***’ 0.001 ‘**’ 0.01 ‘*’ 0.05 ‘.’ 0.1 ‘ ’ 1\n",
       "\n",
       "Residual standard error: 0.8431 on 702 degrees of freedom\n",
       "  (3861 observations deleted due to missingness)\n",
       "Multiple R-squared:  0.2132,\tAdjusted R-squared:  0.2043 \n",
       "F-statistic: 23.78 on 8 and 702 DF,  p-value: < 2.2e-16\n"
      ]
     },
     "metadata": {},
     "output_type": "display_data"
    }
   ],
   "source": [
    "current_pow = 0.3\n",
    "model1 = lm(data = data_normalized, salary ~ sex + working_hours + age + wed3 + higher_educ + city_status + I(working_hours^current_pow) + I(age^current_pow))\n",
    "vif(model1)\n",
    "summary(model1) \n",
    "# R^2 ~  0.213\n",
    "# очень плохой VIF, очень плохая p-статистика"
   ]
  },
  {
   "cell_type": "code",
   "execution_count": 37,
   "id": "437415dd-94b1-4ed2-8328-3bac6ddfe705",
   "metadata": {
    "collapsed": true,
    "jupyter": {
     "outputs_hidden": true
    }
   },
   "outputs": [
    {
     "data": {
      "text/html": [
       "<style>\n",
       ".dl-inline {width: auto; margin:0; padding: 0}\n",
       ".dl-inline>dt, .dl-inline>dd {float: none; width: auto; display: inline-block}\n",
       ".dl-inline>dt::after {content: \":\\0020\"; padding-right: .5ex}\n",
       ".dl-inline>dt:not(:first-of-type) {padding-left: .5ex}\n",
       "</style><dl class=dl-inline><dt>sex</dt><dd>1.03221348335498</dd><dt>wed3</dt><dd>1.01451470403165</dd><dt>higher_educ</dt><dd>1.01451560757721</dd><dt>city_status</dt><dd>1.03002438889503</dd><dt>I(working_hours^current_pow)</dt><dd>1.03344673384983</dd><dt>I(age^current_pow)</dt><dd>1.01595893205675</dd></dl>\n"
      ],
      "text/latex": [
       "\\begin{description*}\n",
       "\\item[sex] 1.03221348335498\n",
       "\\item[wed3] 1.01451470403165\n",
       "\\item[higher\\textbackslash{}\\_educ] 1.01451560757721\n",
       "\\item[city\\textbackslash{}\\_status] 1.03002438889503\n",
       "\\item[I(working\\textbackslash{}\\_hours\\textbackslash{}textasciicircum\\{\\}current\\textbackslash{}\\_pow)] 1.03344673384983\n",
       "\\item[I(age\\textbackslash{}textasciicircum\\{\\}current\\textbackslash{}\\_pow)] 1.01595893205675\n",
       "\\end{description*}\n"
      ],
      "text/markdown": [
       "sex\n",
       ":   1.03221348335498wed3\n",
       ":   1.01451470403165higher_educ\n",
       ":   1.01451560757721city_status\n",
       ":   1.03002438889503I(working_hours^current_pow)\n",
       ":   1.03344673384983I(age^current_pow)\n",
       ":   1.01595893205675\n",
       "\n"
      ],
      "text/plain": [
       "                         sex                         wed3 \n",
       "                    1.032213                     1.014515 \n",
       "                 higher_educ                  city_status \n",
       "                    1.014516                     1.030024 \n",
       "I(working_hours^current_pow)           I(age^current_pow) \n",
       "                    1.033447                     1.015959 "
      ]
     },
     "metadata": {},
     "output_type": "display_data"
    },
    {
     "data": {
      "text/plain": [
       "\n",
       "Call:\n",
       "lm(formula = salary ~ sex + wed3 + higher_educ + city_status + \n",
       "    I(working_hours^current_pow) + I(age^current_pow), data = data_normalized)\n",
       "\n",
       "Residuals:\n",
       "    Min      1Q  Median      3Q     Max \n",
       "-2.0183 -0.5054 -0.1439  0.2860  5.6900 \n",
       "\n",
       "Coefficients:\n",
       "                             Estimate Std. Error t value Pr(>|t|)    \n",
       "(Intercept)                  -0.60629    0.18244  -3.323 0.000936 ***\n",
       "sex                           0.39536    0.06458   6.122 1.53e-09 ***\n",
       "wed3                         -0.05661    0.18485  -0.306 0.759495    \n",
       "higher_educ                   0.64150    0.08463   7.580 1.09e-13 ***\n",
       "city_status                   0.40361    0.06943   5.813 9.30e-09 ***\n",
       "I(working_hours^current_pow)  0.60119    0.12128   4.957 8.97e-07 ***\n",
       "I(age^current_pow)           -0.62980    0.13381  -4.707 3.03e-06 ***\n",
       "---\n",
       "Signif. codes:  0 ‘***’ 0.001 ‘**’ 0.01 ‘*’ 0.05 ‘.’ 0.1 ‘ ’ 1\n",
       "\n",
       "Residual standard error: 0.8474 on 704 degrees of freedom\n",
       "  (3861 observations deleted due to missingness)\n",
       "Multiple R-squared:  0.203,\tAdjusted R-squared:  0.1962 \n",
       "F-statistic: 29.88 on 6 and 704 DF,  p-value: < 2.2e-16\n"
      ]
     },
     "metadata": {},
     "output_type": "display_data"
    }
   ],
   "source": [
    "model1 = lm(data = data_normalized, salary ~ sex + wed3 + higher_educ + city_status + I(working_hours^current_pow) + I(age^current_pow))\n",
    "vif(model1)\n",
    "summary(model1) \n",
    "# R^2 ~  0.20\n",
    "# отличный VIF, плохое p-значение у переменной wed3"
   ]
  },
  {
   "cell_type": "code",
   "execution_count": 38,
   "id": "9b9c69ed-bfcb-4602-b88a-97df540f6e37",
   "metadata": {
    "collapsed": true,
    "jupyter": {
     "outputs_hidden": true
    }
   },
   "outputs": [
    {
     "data": {
      "text/html": [
       "<style>\n",
       ".dl-inline {width: auto; margin:0; padding: 0}\n",
       ".dl-inline>dt, .dl-inline>dd {float: none; width: auto; display: inline-block}\n",
       ".dl-inline>dt::after {content: \":\\0020\"; padding-right: .5ex}\n",
       ".dl-inline>dt:not(:first-of-type) {padding-left: .5ex}\n",
       "</style><dl class=dl-inline><dt>sex</dt><dd>1.02621602122873</dd><dt>higher_educ</dt><dd>1.01406103110959</dd><dt>city_status</dt><dd>1.02690799884276</dd><dt>I(working_hours^current_pow)</dt><dd>1.03328601428315</dd><dt>I(age^current_pow)</dt><dd>1.01266731903909</dd></dl>\n"
      ],
      "text/latex": [
       "\\begin{description*}\n",
       "\\item[sex] 1.02621602122873\n",
       "\\item[higher\\textbackslash{}\\_educ] 1.01406103110959\n",
       "\\item[city\\textbackslash{}\\_status] 1.02690799884276\n",
       "\\item[I(working\\textbackslash{}\\_hours\\textbackslash{}textasciicircum\\{\\}current\\textbackslash{}\\_pow)] 1.03328601428315\n",
       "\\item[I(age\\textbackslash{}textasciicircum\\{\\}current\\textbackslash{}\\_pow)] 1.01266731903909\n",
       "\\end{description*}\n"
      ],
      "text/markdown": [
       "sex\n",
       ":   1.02621602122873higher_educ\n",
       ":   1.01406103110959city_status\n",
       ":   1.02690799884276I(working_hours^current_pow)\n",
       ":   1.03328601428315I(age^current_pow)\n",
       ":   1.01266731903909\n",
       "\n"
      ],
      "text/plain": [
       "                         sex                  higher_educ \n",
       "                    1.026216                     1.014061 \n",
       "                 city_status I(working_hours^current_pow) \n",
       "                    1.026908                     1.033286 \n",
       "          I(age^current_pow) \n",
       "                    1.012667 "
      ]
     },
     "metadata": {},
     "output_type": "display_data"
    },
    {
     "data": {
      "text/plain": [
       "\n",
       "Call:\n",
       "lm(formula = salary ~ sex + higher_educ + city_status + I(working_hours^current_pow) + \n",
       "    I(age^current_pow), data = data_normalized)\n",
       "\n",
       "Residuals:\n",
       "    Min      1Q  Median      3Q     Max \n",
       "-2.0156 -0.5041 -0.1420  0.2841  5.6919 \n",
       "\n",
       "Coefficients:\n",
       "                             Estimate Std. Error t value Pr(>|t|)    \n",
       "(Intercept)                  -0.60952    0.18202  -3.349 0.000856 ***\n",
       "sex                           0.39687    0.06435   6.167 1.17e-09 ***\n",
       "higher_educ                   0.64096    0.08455   7.580 1.09e-13 ***\n",
       "city_status                   0.40244    0.06928   5.809 9.53e-09 ***\n",
       "I(working_hours^current_pow)  0.60073    0.12119   4.957 8.98e-07 ***\n",
       "I(age^current_pow)           -0.62747    0.13351  -4.700 3.13e-06 ***\n",
       "---\n",
       "Signif. codes:  0 ‘***’ 0.001 ‘**’ 0.01 ‘*’ 0.05 ‘.’ 0.1 ‘ ’ 1\n",
       "\n",
       "Residual standard error: 0.8469 on 705 degrees of freedom\n",
       "  (3861 observations deleted due to missingness)\n",
       "Multiple R-squared:  0.2029,\tAdjusted R-squared:  0.1972 \n",
       "F-statistic: 35.89 on 5 and 705 DF,  p-value: < 2.2e-16\n"
      ]
     },
     "metadata": {},
     "output_type": "display_data"
    }
   ],
   "source": [
    "model1 = lm(data = data_normalized, salary ~ sex + higher_educ + city_status + I(working_hours^current_pow) + I(age^current_pow))\n",
    "vif(model1)\n",
    "summary(model1) \n",
    "# R^2 ~  0.202\n",
    "# хороший VIF, отличная p-статистика"
   ]
  },
  {
   "cell_type": "code",
   "execution_count": 39,
   "id": "0268286d-2487-4124-8498-70e6584b6424",
   "metadata": {
    "collapsed": true,
    "jupyter": {
     "outputs_hidden": true
    }
   },
   "outputs": [
    {
     "data": {
      "text/html": [
       "<style>\n",
       ".dl-inline {width: auto; margin:0; padding: 0}\n",
       ".dl-inline>dt, .dl-inline>dd {float: none; width: auto; display: inline-block}\n",
       ".dl-inline>dt::after {content: \":\\0020\"; padding-right: .5ex}\n",
       ".dl-inline>dt:not(:first-of-type) {padding-left: .5ex}\n",
       "</style><dl class=dl-inline><dt>sex</dt><dd>1.03650760034258</dd><dt>working_hours</dt><dd>17.6155553620991</dd><dt>age</dt><dd>11.4645879499541</dd><dt>wed3</dt><dd>1.01581371032595</dd><dt>higher_educ</dt><dd>1.01656677557082</dd><dt>city_status</dt><dd>1.03121569366377</dd><dt>I(working_hours^current_pow)</dt><dd>17.5430711969963</dd><dt>I(age^current_pow)</dt><dd>11.4263202074371</dd></dl>\n"
      ],
      "text/latex": [
       "\\begin{description*}\n",
       "\\item[sex] 1.03650760034258\n",
       "\\item[working\\textbackslash{}\\_hours] 17.6155553620991\n",
       "\\item[age] 11.4645879499541\n",
       "\\item[wed3] 1.01581371032595\n",
       "\\item[higher\\textbackslash{}\\_educ] 1.01656677557082\n",
       "\\item[city\\textbackslash{}\\_status] 1.03121569366377\n",
       "\\item[I(working\\textbackslash{}\\_hours\\textbackslash{}textasciicircum\\{\\}current\\textbackslash{}\\_pow)] 17.5430711969963\n",
       "\\item[I(age\\textbackslash{}textasciicircum\\{\\}current\\textbackslash{}\\_pow)] 11.4263202074371\n",
       "\\end{description*}\n"
      ],
      "text/markdown": [
       "sex\n",
       ":   1.03650760034258working_hours\n",
       ":   17.6155553620991age\n",
       ":   11.4645879499541wed3\n",
       ":   1.01581371032595higher_educ\n",
       ":   1.01656677557082city_status\n",
       ":   1.03121569366377I(working_hours^current_pow)\n",
       ":   17.5430711969963I(age^current_pow)\n",
       ":   11.4263202074371\n",
       "\n"
      ],
      "text/plain": [
       "                         sex                working_hours \n",
       "                    1.036508                    17.615555 \n",
       "                         age                         wed3 \n",
       "                   11.464588                     1.015814 \n",
       "                 higher_educ                  city_status \n",
       "                    1.016567                     1.031216 \n",
       "I(working_hours^current_pow)           I(age^current_pow) \n",
       "                   17.543071                    11.426320 "
      ]
     },
     "metadata": {},
     "output_type": "display_data"
    },
    {
     "data": {
      "text/plain": [
       "\n",
       "Call:\n",
       "lm(formula = salary ~ sex + working_hours + age + wed3 + higher_educ + \n",
       "    city_status + I(working_hours^current_pow) + I(age^current_pow), \n",
       "    data = data_normalized)\n",
       "\n",
       "Residuals:\n",
       "    Min      1Q  Median      3Q     Max \n",
       "-1.8755 -0.4852 -0.1406  0.2766  5.5875 \n",
       "\n",
       "Coefficients:\n",
       "                             Estimate Std. Error t value Pr(>|t|)    \n",
       "(Intercept)                  -0.77485    0.28271  -2.741  0.00628 ** \n",
       "sex                           0.39569    0.06438   6.146 1.33e-09 ***\n",
       "working_hours                 0.08549    0.13159   0.650  0.51610    \n",
       "age                          -0.50465    0.19953  -2.529  0.01165 *  \n",
       "wed3                         -0.07577    0.18402  -0.412  0.68067    \n",
       "higher_educ                   0.64667    0.08428   7.673 5.63e-14 ***\n",
       "city_status                   0.41028    0.06912   5.936 4.59e-09 ***\n",
       "I(working_hours^current_pow)  0.20316    0.37443   0.543  0.58759    \n",
       "I(age^current_pow)            0.35030    0.36600   0.957  0.33884    \n",
       "---\n",
       "Signif. codes:  0 ‘***’ 0.001 ‘**’ 0.01 ‘*’ 0.05 ‘.’ 0.1 ‘ ’ 1\n",
       "\n",
       "Residual standard error: 0.843 on 702 degrees of freedom\n",
       "  (3861 observations deleted due to missingness)\n",
       "Multiple R-squared:  0.2134,\tAdjusted R-squared:  0.2044 \n",
       "F-statistic:  23.8 on 8 and 702 DF,  p-value: < 2.2e-16\n"
      ]
     },
     "metadata": {},
     "output_type": "display_data"
    }
   ],
   "source": [
    "current_pow = 0.4\n",
    "model1 = lm(data = data_normalized, salary ~ sex + working_hours + age + wed3 + higher_educ + city_status + I(working_hours^current_pow) + I(age^current_pow))\n",
    "vif(model1)\n",
    "summary(model1) \n",
    "# R^2 ~  0.213\n",
    "# очень плохой VIF, очень плохая p-статистика"
   ]
  },
  {
   "cell_type": "code",
   "execution_count": 40,
   "id": "9e5000fe-c243-4445-a8a2-ff201d499c55",
   "metadata": {
    "collapsed": true,
    "jupyter": {
     "outputs_hidden": true
    }
   },
   "outputs": [
    {
     "data": {
      "text/html": [
       "<style>\n",
       ".dl-inline {width: auto; margin:0; padding: 0}\n",
       ".dl-inline>dt, .dl-inline>dd {float: none; width: auto; display: inline-block}\n",
       ".dl-inline>dt::after {content: \":\\0020\"; padding-right: .5ex}\n",
       ".dl-inline>dt:not(:first-of-type) {padding-left: .5ex}\n",
       "</style><dl class=dl-inline><dt>sex</dt><dd>1.03281945877806</dd><dt>wed3</dt><dd>1.01475087896481</dd><dt>higher_educ</dt><dd>1.01494050035213</dd><dt>city_status</dt><dd>1.0298535635178</dd><dt>I(working_hours^current_pow)</dt><dd>1.0355849480252</dd><dt>I(age^current_pow)</dt><dd>1.01708949430834</dd></dl>\n"
      ],
      "text/latex": [
       "\\begin{description*}\n",
       "\\item[sex] 1.03281945877806\n",
       "\\item[wed3] 1.01475087896481\n",
       "\\item[higher\\textbackslash{}\\_educ] 1.01494050035213\n",
       "\\item[city\\textbackslash{}\\_status] 1.0298535635178\n",
       "\\item[I(working\\textbackslash{}\\_hours\\textbackslash{}textasciicircum\\{\\}current\\textbackslash{}\\_pow)] 1.0355849480252\n",
       "\\item[I(age\\textbackslash{}textasciicircum\\{\\}current\\textbackslash{}\\_pow)] 1.01708949430834\n",
       "\\end{description*}\n"
      ],
      "text/markdown": [
       "sex\n",
       ":   1.03281945877806wed3\n",
       ":   1.01475087896481higher_educ\n",
       ":   1.01494050035213city_status\n",
       ":   1.0298535635178I(working_hours^current_pow)\n",
       ":   1.0355849480252I(age^current_pow)\n",
       ":   1.01708949430834\n",
       "\n"
      ],
      "text/plain": [
       "                         sex                         wed3 \n",
       "                    1.032819                     1.014751 \n",
       "                 higher_educ                  city_status \n",
       "                    1.014941                     1.029854 \n",
       "I(working_hours^current_pow)           I(age^current_pow) \n",
       "                    1.035585                     1.017089 "
      ]
     },
     "metadata": {},
     "output_type": "display_data"
    },
    {
     "data": {
      "text/plain": [
       "\n",
       "Call:\n",
       "lm(formula = salary ~ sex + wed3 + higher_educ + city_status + \n",
       "    I(working_hours^current_pow) + I(age^current_pow), data = data_normalized)\n",
       "\n",
       "Residuals:\n",
       "    Min      1Q  Median      3Q     Max \n",
       "-2.0100 -0.4980 -0.1441  0.2920  5.6650 \n",
       "\n",
       "Coefficients:\n",
       "                             Estimate Std. Error t value Pr(>|t|)    \n",
       "(Intercept)                  -0.56748    0.14782  -3.839 0.000135 ***\n",
       "sex                           0.39435    0.06449   6.115 1.60e-09 ***\n",
       "wed3                         -0.06098    0.18458  -0.330 0.741219    \n",
       "higher_educ                   0.64306    0.08451   7.609 8.85e-14 ***\n",
       "city_status                   0.40368    0.06931   5.824 8.74e-09 ***\n",
       "I(working_hours^current_pow)  0.45698    0.09130   5.006 7.05e-07 ***\n",
       "I(age^current_pow)           -0.53232    0.10958  -4.858 1.46e-06 ***\n",
       "---\n",
       "Signif. codes:  0 ‘***’ 0.001 ‘**’ 0.01 ‘*’ 0.05 ‘.’ 0.1 ‘ ’ 1\n",
       "\n",
       "Residual standard error: 0.846 on 704 degrees of freedom\n",
       "  (3861 observations deleted due to missingness)\n",
       "Multiple R-squared:  0.2056,\tAdjusted R-squared:  0.1988 \n",
       "F-statistic: 30.36 on 6 and 704 DF,  p-value: < 2.2e-16\n"
      ]
     },
     "metadata": {},
     "output_type": "display_data"
    }
   ],
   "source": [
    "model1 = lm(data = data_normalized, salary ~ sex + wed3 + higher_educ + city_status + I(working_hours^current_pow) + I(age^current_pow))\n",
    "vif(model1)\n",
    "summary(model1) \n",
    "# R^2 ~  0.205\n",
    "# хороший VIF, плохое p-значение у переменной wed3"
   ]
  },
  {
   "cell_type": "code",
   "execution_count": 41,
   "id": "7ff24d65-d698-4836-a4fa-a26d15904310",
   "metadata": {
    "collapsed": true,
    "jupyter": {
     "outputs_hidden": true
    }
   },
   "outputs": [
    {
     "data": {
      "text/html": [
       "<style>\n",
       ".dl-inline {width: auto; margin:0; padding: 0}\n",
       ".dl-inline>dt, .dl-inline>dd {float: none; width: auto; display: inline-block}\n",
       ".dl-inline>dt::after {content: \":\\0020\"; padding-right: .5ex}\n",
       ".dl-inline>dt:not(:first-of-type) {padding-left: .5ex}\n",
       "</style><dl class=dl-inline><dt>sex</dt><dd>1.02681216502947</dd><dt>higher_educ</dt><dd>1.01448101528853</dd><dt>city_status</dt><dd>1.02673485461653</dd><dt>I(working_hours^current_pow)</dt><dd>1.03540878319415</dd><dt>I(age^current_pow)</dt><dd>1.01359813278728</dd></dl>\n"
      ],
      "text/latex": [
       "\\begin{description*}\n",
       "\\item[sex] 1.02681216502947\n",
       "\\item[higher\\textbackslash{}\\_educ] 1.01448101528853\n",
       "\\item[city\\textbackslash{}\\_status] 1.02673485461653\n",
       "\\item[I(working\\textbackslash{}\\_hours\\textbackslash{}textasciicircum\\{\\}current\\textbackslash{}\\_pow)] 1.03540878319415\n",
       "\\item[I(age\\textbackslash{}textasciicircum\\{\\}current\\textbackslash{}\\_pow)] 1.01359813278728\n",
       "\\end{description*}\n"
      ],
      "text/markdown": [
       "sex\n",
       ":   1.02681216502947higher_educ\n",
       ":   1.01448101528853city_status\n",
       ":   1.02673485461653I(working_hours^current_pow)\n",
       ":   1.03540878319415I(age^current_pow)\n",
       ":   1.01359813278728\n",
       "\n"
      ],
      "text/plain": [
       "                         sex                  higher_educ \n",
       "                    1.026812                     1.014481 \n",
       "                 city_status I(working_hours^current_pow) \n",
       "                    1.026735                     1.035409 \n",
       "          I(age^current_pow) \n",
       "                    1.013598 "
      ]
     },
     "metadata": {},
     "output_type": "display_data"
    },
    {
     "data": {
      "text/plain": [
       "\n",
       "Call:\n",
       "lm(formula = salary ~ sex + higher_educ + city_status + I(working_hours^current_pow) + \n",
       "    I(age^current_pow), data = data_normalized)\n",
       "\n",
       "Residuals:\n",
       "    Min      1Q  Median      3Q     Max \n",
       "-2.0071 -0.4953 -0.1426  0.2889  5.6671 \n",
       "\n",
       "Coefficients:\n",
       "                             Estimate Std. Error t value Pr(>|t|)    \n",
       "(Intercept)                  -0.57066    0.14742  -3.871 0.000118 ***\n",
       "sex                           0.39597    0.06426   6.162 1.21e-09 ***\n",
       "higher_educ                   0.64246    0.08444   7.609 8.87e-14 ***\n",
       "city_status                   0.40242    0.06916   5.818 9.03e-09 ***\n",
       "I(working_hours^current_pow)  0.45658    0.09123   5.005 7.07e-07 ***\n",
       "I(age^current_pow)           -0.53020    0.10932  -4.850 1.52e-06 ***\n",
       "---\n",
       "Signif. codes:  0 ‘***’ 0.001 ‘**’ 0.01 ‘*’ 0.05 ‘.’ 0.1 ‘ ’ 1\n",
       "\n",
       "Residual standard error: 0.8455 on 705 degrees of freedom\n",
       "  (3861 observations deleted due to missingness)\n",
       "Multiple R-squared:  0.2054,\tAdjusted R-squared:  0.1998 \n",
       "F-statistic: 36.46 on 5 and 705 DF,  p-value: < 2.2e-16\n"
      ]
     },
     "metadata": {},
     "output_type": "display_data"
    }
   ],
   "source": [
    "model1 = lm(data = data_normalized, salary ~ sex + higher_educ + city_status + I(working_hours^current_pow) + I(age^current_pow))\n",
    "vif(model1)\n",
    "summary(model1) \n",
    "# R^2 ~  0.205\n",
    "# хороший VIF, отличная p-статистика"
   ]
  },
  {
   "cell_type": "code",
   "execution_count": 42,
   "id": "cb723ece-9754-4727-b894-98636cc7be5d",
   "metadata": {
    "collapsed": true,
    "jupyter": {
     "outputs_hidden": true
    }
   },
   "outputs": [
    {
     "data": {
      "text/html": [
       "<style>\n",
       ".dl-inline {width: auto; margin:0; padding: 0}\n",
       ".dl-inline>dt, .dl-inline>dd {float: none; width: auto; display: inline-block}\n",
       ".dl-inline>dt::after {content: \":\\0020\"; padding-right: .5ex}\n",
       ".dl-inline>dt:not(:first-of-type) {padding-left: .5ex}\n",
       "</style><dl class=dl-inline><dt>sex</dt><dd>1.03653183541587</dd><dt>working_hours</dt><dd>26.4124352957212</dd><dt>age</dt><dd>17.059543664585</dd><dt>wed3</dt><dd>1.01580339133419</dd><dt>higher_educ</dt><dd>1.01654531583267</dd><dt>city_status</dt><dd>1.03137915013344</dd><dt>I(working_hours^current_pow)</dt><dd>26.3399712200193</dd><dt>I(age^current_pow)</dt><dd>17.0168283776764</dd></dl>\n"
      ],
      "text/latex": [
       "\\begin{description*}\n",
       "\\item[sex] 1.03653183541587\n",
       "\\item[working\\textbackslash{}\\_hours] 26.4124352957212\n",
       "\\item[age] 17.059543664585\n",
       "\\item[wed3] 1.01580339133419\n",
       "\\item[higher\\textbackslash{}\\_educ] 1.01654531583267\n",
       "\\item[city\\textbackslash{}\\_status] 1.03137915013344\n",
       "\\item[I(working\\textbackslash{}\\_hours\\textbackslash{}textasciicircum\\{\\}current\\textbackslash{}\\_pow)] 26.3399712200193\n",
       "\\item[I(age\\textbackslash{}textasciicircum\\{\\}current\\textbackslash{}\\_pow)] 17.0168283776764\n",
       "\\end{description*}\n"
      ],
      "text/markdown": [
       "sex\n",
       ":   1.03653183541587working_hours\n",
       ":   26.4124352957212age\n",
       ":   17.059543664585wed3\n",
       ":   1.01580339133419higher_educ\n",
       ":   1.01654531583267city_status\n",
       ":   1.03137915013344I(working_hours^current_pow)\n",
       ":   26.3399712200193I(age^current_pow)\n",
       ":   17.0168283776764\n",
       "\n"
      ],
      "text/plain": [
       "                         sex                working_hours \n",
       "                    1.036532                    26.412435 \n",
       "                         age                         wed3 \n",
       "                   17.059544                     1.015803 \n",
       "                 higher_educ                  city_status \n",
       "                    1.016545                     1.031379 \n",
       "I(working_hours^current_pow)           I(age^current_pow) \n",
       "                   26.339971                    17.016828 "
      ]
     },
     "metadata": {},
     "output_type": "display_data"
    },
    {
     "data": {
      "text/plain": [
       "\n",
       "Call:\n",
       "lm(formula = salary ~ sex + working_hours + age + wed3 + higher_educ + \n",
       "    city_status + I(working_hours^current_pow) + I(age^current_pow), \n",
       "    data = data_normalized)\n",
       "\n",
       "Residuals:\n",
       "    Min      1Q  Median      3Q     Max \n",
       "-1.8799 -0.4851 -0.1395  0.2747  5.5922 \n",
       "\n",
       "Coefficients:\n",
       "                             Estimate Std. Error t value Pr(>|t|)    \n",
       "(Intercept)                  -0.74739    0.23731  -3.149  0.00171 ** \n",
       "sex                           0.39592    0.06438   6.150 1.30e-09 ***\n",
       "working_hours                 0.05133    0.16112   0.319  0.75014    \n",
       "age                          -0.54842    0.24337  -2.253  0.02454 *  \n",
       "wed3                         -0.07542    0.18401  -0.410  0.68203    \n",
       "higher_educ                   0.64665    0.08427   7.674 5.60e-14 ***\n",
       "city_status                   0.41036    0.06911   5.937 4.55e-09 ***\n",
       "I(working_hours^current_pow)  0.23939    0.36546   0.655  0.51266    \n",
       "I(age^current_pow)            0.37003    0.38567   0.959  0.33766    \n",
       "---\n",
       "Signif. codes:  0 ‘***’ 0.001 ‘**’ 0.01 ‘*’ 0.05 ‘.’ 0.1 ‘ ’ 1\n",
       "\n",
       "Residual standard error: 0.843 on 702 degrees of freedom\n",
       "  (3861 observations deleted due to missingness)\n",
       "Multiple R-squared:  0.2135,\tAdjusted R-squared:  0.2046 \n",
       "F-statistic: 23.83 on 8 and 702 DF,  p-value: < 2.2e-16\n"
      ]
     },
     "metadata": {},
     "output_type": "display_data"
    }
   ],
   "source": [
    "current_pow = 0.5\n",
    "model1 = lm(data = data_normalized, salary ~ sex + working_hours + age + wed3 + higher_educ + city_status + I(working_hours^current_pow) + I(age^current_pow))\n",
    "vif(model1)\n",
    "summary(model1)\n",
    "# R^2 ~ 0,214\n",
    "# очень плохой VIF, плохая p-статистика"
   ]
  },
  {
   "cell_type": "code",
   "execution_count": 43,
   "id": "12177a16-031c-43be-babc-98fc6f833b41",
   "metadata": {
    "collapsed": true,
    "jupyter": {
     "outputs_hidden": true
    }
   },
   "outputs": [
    {
     "data": {
      "text/html": [
       "<style>\n",
       ".dl-inline {width: auto; margin:0; padding: 0}\n",
       ".dl-inline>dt, .dl-inline>dd {float: none; width: auto; display: inline-block}\n",
       ".dl-inline>dt::after {content: \":\\0020\"; padding-right: .5ex}\n",
       ".dl-inline>dt:not(:first-of-type) {padding-left: .5ex}\n",
       "</style><dl class=dl-inline><dt>sex</dt><dd>1.03337728357707</dd><dt>wed3</dt><dd>1.01495466648675</dd><dt>higher_educ</dt><dd>1.01529967812713</dd><dt>city_status</dt><dd>1.02964956045145</dd><dt>I(working_hours^current_pow)</dt><dd>1.03749342634185</dd><dt>I(age^current_pow)</dt><dd>1.01804769289688</dd></dl>\n"
      ],
      "text/latex": [
       "\\begin{description*}\n",
       "\\item[sex] 1.03337728357707\n",
       "\\item[wed3] 1.01495466648675\n",
       "\\item[higher\\textbackslash{}\\_educ] 1.01529967812713\n",
       "\\item[city\\textbackslash{}\\_status] 1.02964956045145\n",
       "\\item[I(working\\textbackslash{}\\_hours\\textbackslash{}textasciicircum\\{\\}current\\textbackslash{}\\_pow)] 1.03749342634185\n",
       "\\item[I(age\\textbackslash{}textasciicircum\\{\\}current\\textbackslash{}\\_pow)] 1.01804769289688\n",
       "\\end{description*}\n"
      ],
      "text/markdown": [
       "sex\n",
       ":   1.03337728357707wed3\n",
       ":   1.01495466648675higher_educ\n",
       ":   1.01529967812713city_status\n",
       ":   1.02964956045145I(working_hours^current_pow)\n",
       ":   1.03749342634185I(age^current_pow)\n",
       ":   1.01804769289688\n",
       "\n"
      ],
      "text/plain": [
       "                         sex                         wed3 \n",
       "                    1.033377                     1.014955 \n",
       "                 higher_educ                  city_status \n",
       "                    1.015300                     1.029650 \n",
       "I(working_hours^current_pow)           I(age^current_pow) \n",
       "                    1.037493                     1.018048 "
      ]
     },
     "metadata": {},
     "output_type": "display_data"
    },
    {
     "data": {
      "text/plain": [
       "\n",
       "Call:\n",
       "lm(formula = salary ~ sex + wed3 + higher_educ + city_status + \n",
       "    I(working_hours^current_pow) + I(age^current_pow), data = data_normalized)\n",
       "\n",
       "Residuals:\n",
       "    Min      1Q  Median      3Q     Max \n",
       "-1.9982 -0.4942 -0.1450  0.2966  5.6434 \n",
       "\n",
       "Coefficients:\n",
       "                             Estimate Std. Error t value Pr(>|t|)    \n",
       "(Intercept)                  -0.54389    0.12795  -4.251 2.42e-05 ***\n",
       "sex                           0.39364    0.06443   6.110 1.65e-09 ***\n",
       "wed3                         -0.06479    0.18435  -0.351    0.725    \n",
       "higher_educ                   0.64430    0.08441   7.633 7.49e-14 ***\n",
       "city_status                   0.40388    0.06921   5.835 8.20e-09 ***\n",
       "I(working_hours^current_pow)  0.36554    0.07270   5.028 6.29e-07 ***\n",
       "I(age^current_pow)           -0.47200    0.09455  -4.992 7.54e-07 ***\n",
       "---\n",
       "Signif. codes:  0 ‘***’ 0.001 ‘**’ 0.01 ‘*’ 0.05 ‘.’ 0.1 ‘ ’ 1\n",
       "\n",
       "Residual standard error: 0.8449 on 704 degrees of freedom\n",
       "  (3861 observations deleted due to missingness)\n",
       "Multiple R-squared:  0.2077,\tAdjusted R-squared:  0.2009 \n",
       "F-statistic: 30.75 on 6 and 704 DF,  p-value: < 2.2e-16\n"
      ]
     },
     "metadata": {},
     "output_type": "display_data"
    }
   ],
   "source": [
    "model1 = lm(data = data_normalized, salary ~ sex + wed3 + higher_educ + city_status + I(working_hours^current_pow) + I(age^current_pow))\n",
    "vif(model1)\n",
    "summary(model1)\n",
    "# R^2 ~ 0,208\n",
    "# хороший VIF, плохое p-значение у переменной wed3"
   ]
  },
  {
   "cell_type": "code",
   "execution_count": 44,
   "id": "7139bbbf-7473-4aa9-ae90-dc9ba52ab20e",
   "metadata": {
    "collapsed": true,
    "jupyter": {
     "outputs_hidden": true
    }
   },
   "outputs": [
    {
     "data": {
      "text/html": [
       "<style>\n",
       ".dl-inline {width: auto; margin:0; padding: 0}\n",
       ".dl-inline>dt, .dl-inline>dd {float: none; width: auto; display: inline-block}\n",
       ".dl-inline>dt::after {content: \":\\0020\"; padding-right: .5ex}\n",
       ".dl-inline>dt:not(:first-of-type) {padding-left: .5ex}\n",
       "</style><dl class=dl-inline><dt>sex</dt><dd>1.02736291966454</dd><dt>higher_educ</dt><dd>1.01483546325535</dd><dt>city_status</dt><dd>1.02652425345944</dd><dt>I(working_hours^current_pow)</dt><dd>1.03730293719333</dd><dt>I(age^current_pow)</dt><dd>1.01438640040819</dd></dl>\n"
      ],
      "text/latex": [
       "\\begin{description*}\n",
       "\\item[sex] 1.02736291966454\n",
       "\\item[higher\\textbackslash{}\\_educ] 1.01483546325535\n",
       "\\item[city\\textbackslash{}\\_status] 1.02652425345944\n",
       "\\item[I(working\\textbackslash{}\\_hours\\textbackslash{}textasciicircum\\{\\}current\\textbackslash{}\\_pow)] 1.03730293719333\n",
       "\\item[I(age\\textbackslash{}textasciicircum\\{\\}current\\textbackslash{}\\_pow)] 1.01438640040819\n",
       "\\end{description*}\n"
      ],
      "text/markdown": [
       "sex\n",
       ":   1.02736291966454higher_educ\n",
       ":   1.01483546325535city_status\n",
       ":   1.02652425345944I(working_hours^current_pow)\n",
       ":   1.03730293719333I(age^current_pow)\n",
       ":   1.01438640040819\n",
       "\n"
      ],
      "text/plain": [
       "                         sex                  higher_educ \n",
       "                    1.027363                     1.014835 \n",
       "                 city_status I(working_hours^current_pow) \n",
       "                    1.026524                     1.037303 \n",
       "          I(age^current_pow) \n",
       "                    1.014386 "
      ]
     },
     "metadata": {},
     "output_type": "display_data"
    },
    {
     "data": {
      "text/plain": [
       "\n",
       "Call:\n",
       "lm(formula = salary ~ sex + higher_educ + city_status + I(working_hours^current_pow) + \n",
       "    I(age^current_pow), data = data_normalized)\n",
       "\n",
       "Residuals:\n",
       "    Min      1Q  Median      3Q     Max \n",
       "-1.9952 -0.4911 -0.1429  0.2853  5.6457 \n",
       "\n",
       "Coefficients:\n",
       "                             Estimate Std. Error t value Pr(>|t|)    \n",
       "(Intercept)                  -0.54707    0.12755  -4.289 2.05e-05 ***\n",
       "sex                           0.39537    0.06420   6.159 1.23e-09 ***\n",
       "higher_educ                   0.64366    0.08434   7.632 7.53e-14 ***\n",
       "city_status                   0.40254    0.06907   5.828 8.52e-09 ***\n",
       "I(working_hours^current_pow)  0.36520    0.07265   5.027 6.32e-07 ***\n",
       "I(age^current_pow)           -0.47000    0.09432  -4.983 7.88e-07 ***\n",
       "---\n",
       "Signif. codes:  0 ‘***’ 0.001 ‘**’ 0.01 ‘*’ 0.05 ‘.’ 0.1 ‘ ’ 1\n",
       "\n",
       "Residual standard error: 0.8444 on 705 degrees of freedom\n",
       "  (3861 observations deleted due to missingness)\n",
       "Multiple R-squared:  0.2075,\tAdjusted R-squared:  0.2019 \n",
       "F-statistic: 36.92 on 5 and 705 DF,  p-value: < 2.2e-16\n"
      ]
     },
     "metadata": {},
     "output_type": "display_data"
    }
   ],
   "source": [
    "model1 = lm(data = data_normalized, salary ~ sex + higher_educ + city_status + I(working_hours^current_pow) + I(age^current_pow))\n",
    "vif(model1)\n",
    "summary(model1)\n",
    "# R^2 ~ 0,208\n",
    "# хороший VIF, отличная p-статистика"
   ]
  },
  {
   "cell_type": "raw",
   "id": "17bdb2f9-fcb8-47af-b384-7354d18d2b15",
   "metadata": {},
   "source": [
    "Заметен следующий тренд: с увеличением pow немного растет R^2, поэтому пропустим несколько степеней и перейдем к значению степени 0,9"
   ]
  },
  {
   "cell_type": "code",
   "execution_count": 45,
   "id": "dbab093b-24d5-4cfb-a8e0-c3cc55b5760c",
   "metadata": {
    "collapsed": true,
    "jupyter": {
     "outputs_hidden": true
    }
   },
   "outputs": [
    {
     "data": {
      "text/html": [
       "<style>\n",
       ".dl-inline {width: auto; margin:0; padding: 0}\n",
       ".dl-inline>dt, .dl-inline>dd {float: none; width: auto; display: inline-block}\n",
       ".dl-inline>dt::after {content: \":\\0020\"; padding-right: .5ex}\n",
       ".dl-inline>dt:not(:first-of-type) {padding-left: .5ex}\n",
       "</style><dl class=dl-inline><dt>sex</dt><dd>1.02903908318915</dd><dt>higher_educ</dt><dd>1.01567727790065</dd><dt>city_status</dt><dd>1.02554772354887</dd><dt>I(working_hours^current_pow)</dt><dd>1.04223825698745</dd><dt>I(age^current_pow)</dt><dd>1.01585381843994</dd></dl>\n"
      ],
      "text/latex": [
       "\\begin{description*}\n",
       "\\item[sex] 1.02903908318915\n",
       "\\item[higher\\textbackslash{}\\_educ] 1.01567727790065\n",
       "\\item[city\\textbackslash{}\\_status] 1.02554772354887\n",
       "\\item[I(working\\textbackslash{}\\_hours\\textbackslash{}textasciicircum\\{\\}current\\textbackslash{}\\_pow)] 1.04223825698745\n",
       "\\item[I(age\\textbackslash{}textasciicircum\\{\\}current\\textbackslash{}\\_pow)] 1.01585381843994\n",
       "\\end{description*}\n"
      ],
      "text/markdown": [
       "sex\n",
       ":   1.02903908318915higher_educ\n",
       ":   1.01567727790065city_status\n",
       ":   1.02554772354887I(working_hours^current_pow)\n",
       ":   1.04223825698745I(age^current_pow)\n",
       ":   1.01585381843994\n",
       "\n"
      ],
      "text/plain": [
       "                         sex                  higher_educ \n",
       "                    1.029039                     1.015677 \n",
       "                 city_status I(working_hours^current_pow) \n",
       "                    1.025548                     1.042238 \n",
       "          I(age^current_pow) \n",
       "                    1.015854 "
      ]
     },
     "metadata": {},
     "output_type": "display_data"
    },
    {
     "data": {
      "text/plain": [
       "\n",
       "Call:\n",
       "lm(formula = salary ~ sex + higher_educ + city_status + I(working_hours^current_pow) + \n",
       "    I(age^current_pow), data = data_normalized)\n",
       "\n",
       "Residuals:\n",
       "    Min      1Q  Median      3Q     Max \n",
       "-1.9277 -0.4900 -0.1437  0.2735  5.6103 \n",
       "\n",
       "Coefficients:\n",
       "                             Estimate Std. Error t value Pr(>|t|)    \n",
       "(Intercept)                  -0.51336    0.09513  -5.396 9.29e-08 ***\n",
       "sex                           0.39521    0.06408   6.167 1.17e-09 ***\n",
       "higher_educ                   0.64601    0.08415   7.677 5.46e-14 ***\n",
       "city_status                   0.40440    0.06885   5.873 6.58e-09 ***\n",
       "I(working_hours^current_pow)  0.18215    0.03690   4.936 9.97e-07 ***\n",
       "I(age^current_pow)           -0.34321    0.06402  -5.361 1.12e-07 ***\n",
       "---\n",
       "Signif. codes:  0 ‘***’ 0.001 ‘**’ 0.01 ‘*’ 0.05 ‘.’ 0.1 ‘ ’ 1\n",
       "\n",
       "Residual standard error: 0.8422 on 705 degrees of freedom\n",
       "  (3861 observations deleted due to missingness)\n",
       "Multiple R-squared:  0.2117,\tAdjusted R-squared:  0.2061 \n",
       "F-statistic: 37.87 on 5 and 705 DF,  p-value: < 2.2e-16\n"
      ]
     },
     "metadata": {},
     "output_type": "display_data"
    }
   ],
   "source": [
    "current_pow = 0.9\n",
    "model1 = lm(data = data_normalized, salary ~ sex + higher_educ + city_status + I(working_hours^current_pow) + I(age^current_pow))\n",
    "vif(model1)\n",
    "summary(model1)\n",
    "# R^2 ~ 0.2117\n",
    "# хороший VIF, отличная p-статистика"
   ]
  },
  {
   "cell_type": "raw",
   "id": "870cc424-7db3-439c-8a67-9c42cf051fdc",
   "metadata": {},
   "source": [
    "Пропускаем степень 1, т.к. для нее уже есть значение"
   ]
  },
  {
   "cell_type": "code",
   "execution_count": 46,
   "id": "252b8cc2-502a-438a-b0b9-703f0c3d6bfc",
   "metadata": {
    "collapsed": true,
    "jupyter": {
     "outputs_hidden": true
    },
    "tags": []
   },
   "outputs": [
    {
     "data": {
      "text/html": [
       "<style>\n",
       ".dl-inline {width: auto; margin:0; padding: 0}\n",
       ".dl-inline>dt, .dl-inline>dd {float: none; width: auto; display: inline-block}\n",
       ".dl-inline>dt::after {content: \":\\0020\"; padding-right: .5ex}\n",
       ".dl-inline>dt:not(:first-of-type) {padding-left: .5ex}\n",
       "</style><dl class=dl-inline><dt>sex</dt><dd>1.029520949456</dd><dt>higher_educ</dt><dd>1.0158095411133</dd><dt>city_status</dt><dd>1.02509832900831</dd><dt>I(working_hours^current_pow)</dt><dd>1.04313986999488</dd><dt>I(age^current_pow)</dt><dd>1.01563730383004</dd></dl>\n"
      ],
      "text/latex": [
       "\\begin{description*}\n",
       "\\item[sex] 1.029520949456\n",
       "\\item[higher\\textbackslash{}\\_educ] 1.0158095411133\n",
       "\\item[city\\textbackslash{}\\_status] 1.02509832900831\n",
       "\\item[I(working\\textbackslash{}\\_hours\\textbackslash{}textasciicircum\\{\\}current\\textbackslash{}\\_pow)] 1.04313986999488\n",
       "\\item[I(age\\textbackslash{}textasciicircum\\{\\}current\\textbackslash{}\\_pow)] 1.01563730383004\n",
       "\\end{description*}\n"
      ],
      "text/markdown": [
       "sex\n",
       ":   1.029520949456higher_educ\n",
       ":   1.0158095411133city_status\n",
       ":   1.02509832900831I(working_hours^current_pow)\n",
       ":   1.04313986999488I(age^current_pow)\n",
       ":   1.01563730383004\n",
       "\n"
      ],
      "text/plain": [
       "                         sex                  higher_educ \n",
       "                    1.029521                     1.015810 \n",
       "                 city_status I(working_hours^current_pow) \n",
       "                    1.025098                     1.043140 \n",
       "          I(age^current_pow) \n",
       "                    1.015637 "
      ]
     },
     "metadata": {},
     "output_type": "display_data"
    },
    {
     "data": {
      "text/plain": [
       "\n",
       "Call:\n",
       "lm(formula = salary ~ sex + higher_educ + city_status + I(working_hours^current_pow) + \n",
       "    I(age^current_pow), data = data_normalized)\n",
       "\n",
       "Residuals:\n",
       "    Min      1Q  Median      3Q     Max \n",
       "-1.8889 -0.4925 -0.1366  0.2710  5.6172 \n",
       "\n",
       "Coefficients:\n",
       "                             Estimate Std. Error t value Pr(>|t|)    \n",
       "(Intercept)                  -0.51265    0.08853  -5.791 1.05e-08 ***\n",
       "sex                           0.39602    0.06409   6.179 1.09e-09 ***\n",
       "higher_educ                   0.64611    0.08415   7.678 5.41e-14 ***\n",
       "city_status                   0.40595    0.06883   5.897 5.73e-09 ***\n",
       "I(working_hours^current_pow)  0.13419    0.02784   4.820 1.76e-06 ***\n",
       "I(age^current_pow)           -0.30164    0.05515  -5.469 6.28e-08 ***\n",
       "---\n",
       "Signif. codes:  0 ‘***’ 0.001 ‘**’ 0.01 ‘*’ 0.05 ‘.’ 0.1 ‘ ’ 1\n",
       "\n",
       "Residual standard error: 0.8421 on 705 degrees of freedom\n",
       "  (3861 observations deleted due to missingness)\n",
       "Multiple R-squared:  0.2118,\tAdjusted R-squared:  0.2062 \n",
       "F-statistic: 37.88 on 5 and 705 DF,  p-value: < 2.2e-16\n"
      ]
     },
     "metadata": {},
     "output_type": "display_data"
    }
   ],
   "source": [
    "current_pow = 1.1\n",
    "model1 = lm(data = data_normalized, salary ~ sex + higher_educ + city_status + I(working_hours^current_pow) + I(age^current_pow))\n",
    "vif(model1)\n",
    "summary(model1)\n",
    "# R^2 ~ 0.2118\n",
    "# хороший VIF, отличная p-статистика"
   ]
  },
  {
   "cell_type": "raw",
   "id": "5672f635-5e3f-4ee1-aa4c-98bb95cc5c8f",
   "metadata": {},
   "source": [
    "Заметен следующий тренд: R^2 постепенно снижается с повышением current_pow"
   ]
  },
  {
   "cell_type": "code",
   "execution_count": 47,
   "id": "eaca9159-ad61-4ac3-aded-c30ab2db7696",
   "metadata": {
    "collapsed": true,
    "jupyter": {
     "outputs_hidden": true
    }
   },
   "outputs": [
    {
     "data": {
      "text/html": [
       "<style>\n",
       ".dl-inline {width: auto; margin:0; padding: 0}\n",
       ".dl-inline>dt, .dl-inline>dd {float: none; width: auto; display: inline-block}\n",
       ".dl-inline>dt::after {content: \":\\0020\"; padding-right: .5ex}\n",
       ".dl-inline>dt:not(:first-of-type) {padding-left: .5ex}\n",
       "</style><dl class=dl-inline><dt>sex</dt><dd>1.02966722307888</dd><dt>higher_educ</dt><dd>1.01581571402929</dd><dt>city_status</dt><dd>1.02490061598947</dd><dt>I(working_hours^current_pow)</dt><dd>1.04324629090616</dd><dt>I(age^current_pow)</dt><dd>1.01534302287163</dd></dl>\n"
      ],
      "text/latex": [
       "\\begin{description*}\n",
       "\\item[sex] 1.02966722307888\n",
       "\\item[higher\\textbackslash{}\\_educ] 1.01581571402929\n",
       "\\item[city\\textbackslash{}\\_status] 1.02490061598947\n",
       "\\item[I(working\\textbackslash{}\\_hours\\textbackslash{}textasciicircum\\{\\}current\\textbackslash{}\\_pow)] 1.04324629090616\n",
       "\\item[I(age\\textbackslash{}textasciicircum\\{\\}current\\textbackslash{}\\_pow)] 1.01534302287163\n",
       "\\end{description*}\n"
      ],
      "text/markdown": [
       "sex\n",
       ":   1.02966722307888higher_educ\n",
       ":   1.01581571402929city_status\n",
       ":   1.02490061598947I(working_hours^current_pow)\n",
       ":   1.04324629090616I(age^current_pow)\n",
       ":   1.01534302287163\n",
       "\n"
      ],
      "text/plain": [
       "                         sex                  higher_educ \n",
       "                    1.029667                     1.015816 \n",
       "                 city_status I(working_hours^current_pow) \n",
       "                    1.024901                     1.043246 \n",
       "          I(age^current_pow) \n",
       "                    1.015343 "
      ]
     },
     "metadata": {},
     "output_type": "display_data"
    },
    {
     "data": {
      "text/plain": [
       "\n",
       "Call:\n",
       "lm(formula = salary ~ sex + higher_educ + city_status + I(working_hours^current_pow) + \n",
       "    I(age^current_pow), data = data_normalized)\n",
       "\n",
       "Residuals:\n",
       "    Min      1Q  Median      3Q     Max \n",
       "-1.8692 -0.4902 -0.1332  0.2742  5.6216 \n",
       "\n",
       "Coefficients:\n",
       "                             Estimate Std. Error t value Pr(>|t|)    \n",
       "(Intercept)                  -0.51419    0.08615  -5.969 3.79e-09 ***\n",
       "sex                           0.39656    0.06411   6.185 1.05e-09 ***\n",
       "higher_educ                   0.64597    0.08417   7.674 5.55e-14 ***\n",
       "city_status                   0.40681    0.06884   5.909 5.35e-09 ***\n",
       "I(working_hours^current_pow)  0.11548    0.02431   4.751 2.45e-06 ***\n",
       "I(age^current_pow)           -0.28288    0.05138  -5.506 5.16e-08 ***\n",
       "---\n",
       "Signif. codes:  0 ‘***’ 0.001 ‘**’ 0.01 ‘*’ 0.05 ‘.’ 0.1 ‘ ’ 1\n",
       "\n",
       "Residual standard error: 0.8423 on 705 degrees of freedom\n",
       "  (3861 observations deleted due to missingness)\n",
       "Multiple R-squared:  0.2114,\tAdjusted R-squared:  0.2058 \n",
       "F-statistic:  37.8 on 5 and 705 DF,  p-value: < 2.2e-16\n"
      ]
     },
     "metadata": {},
     "output_type": "display_data"
    }
   ],
   "source": [
    "current_pow = 1.2\n",
    "model1 = lm(data = data_normalized, salary ~ sex + higher_educ + city_status + I(working_hours^current_pow) + I(age^current_pow))\n",
    "vif(model1)\n",
    "summary(model1)\n",
    "# R^2 ~  0.2114\n",
    "# хороший VIF, отличная p-статистика"
   ]
  },
  {
   "cell_type": "code",
   "execution_count": 48,
   "id": "91ee952c-d9c9-475c-b3ca-51fd072b27de",
   "metadata": {
    "collapsed": true,
    "jupyter": {
     "outputs_hidden": true
    }
   },
   "outputs": [
    {
     "data": {
      "text/html": [
       "<style>\n",
       ".dl-inline {width: auto; margin:0; padding: 0}\n",
       ".dl-inline>dt, .dl-inline>dd {float: none; width: auto; display: inline-block}\n",
       ".dl-inline>dt::after {content: \":\\0020\"; padding-right: .5ex}\n",
       ".dl-inline>dt:not(:first-of-type) {padding-left: .5ex}\n",
       "</style><dl class=dl-inline><dt>sex</dt><dd>1.02975037413209</dd><dt>higher_educ</dt><dd>1.0157856979226</dd><dt>city_status</dt><dd>1.02472368924599</dd><dt>I(working_hours^current_pow)</dt><dd>1.04314844286855</dd><dt>I(age^current_pow)</dt><dd>1.01494962497426</dd></dl>\n"
      ],
      "text/latex": [
       "\\begin{description*}\n",
       "\\item[sex] 1.02975037413209\n",
       "\\item[higher\\textbackslash{}\\_educ] 1.0157856979226\n",
       "\\item[city\\textbackslash{}\\_status] 1.02472368924599\n",
       "\\item[I(working\\textbackslash{}\\_hours\\textbackslash{}textasciicircum\\{\\}current\\textbackslash{}\\_pow)] 1.04314844286855\n",
       "\\item[I(age\\textbackslash{}textasciicircum\\{\\}current\\textbackslash{}\\_pow)] 1.01494962497426\n",
       "\\end{description*}\n"
      ],
      "text/markdown": [
       "sex\n",
       ":   1.02975037413209higher_educ\n",
       ":   1.0157856979226city_status\n",
       ":   1.02472368924599I(working_hours^current_pow)\n",
       ":   1.04314844286855I(age^current_pow)\n",
       ":   1.01494962497426\n",
       "\n"
      ],
      "text/plain": [
       "                         sex                  higher_educ \n",
       "                    1.029750                     1.015786 \n",
       "                 city_status I(working_hours^current_pow) \n",
       "                    1.024724                     1.043148 \n",
       "          I(age^current_pow) \n",
       "                    1.014950 "
      ]
     },
     "metadata": {},
     "output_type": "display_data"
    },
    {
     "data": {
      "text/plain": [
       "\n",
       "Call:\n",
       "lm(formula = salary ~ sex + higher_educ + city_status + I(working_hours^current_pow) + \n",
       "    I(age^current_pow), data = data_normalized)\n",
       "\n",
       "Residuals:\n",
       "    Min      1Q  Median      3Q     Max \n",
       "-1.8496 -0.4916 -0.1362  0.2727  5.6264 \n",
       "\n",
       "Coefficients:\n",
       "                             Estimate Std. Error t value Pr(>|t|)    \n",
       "(Intercept)                  -0.51658    0.08419  -6.136 1.41e-09 ***\n",
       "sex                           0.39716    0.06414   6.192 1.01e-09 ***\n",
       "higher_educ                   0.64570    0.08420   7.668 5.79e-14 ***\n",
       "city_status                   0.40771    0.06886   5.921 5.01e-09 ***\n",
       "I(working_hours^current_pow)  0.09943    0.02126   4.676 3.51e-06 ***\n",
       "I(age^current_pow)           -0.26511    0.04793  -5.531 4.49e-08 ***\n",
       "---\n",
       "Signif. codes:  0 ‘***’ 0.001 ‘**’ 0.01 ‘*’ 0.05 ‘.’ 0.1 ‘ ’ 1\n",
       "\n",
       "Residual standard error: 0.8426 on 705 degrees of freedom\n",
       "  (3861 observations deleted due to missingness)\n",
       "Multiple R-squared:  0.2108,\tAdjusted R-squared:  0.2052 \n",
       "F-statistic: 37.67 on 5 and 705 DF,  p-value: < 2.2e-16\n"
      ]
     },
     "metadata": {},
     "output_type": "display_data"
    }
   ],
   "source": [
    "current_pow = 1.3\n",
    "model1 = lm(data = data_normalized, salary ~ sex + higher_educ + city_status + I(working_hours^current_pow) + I(age^current_pow))\n",
    "vif(model1)\n",
    "summary(model1)\n",
    "# R^2 ~  0.2108\n",
    "# хороший VIF, отличная p-статистика"
   ]
  },
  {
   "cell_type": "code",
   "execution_count": 49,
   "id": "09fec2aa-cbcf-4844-af14-952bf7525817",
   "metadata": {
    "collapsed": true,
    "jupyter": {
     "outputs_hidden": true
    }
   },
   "outputs": [
    {
     "data": {
      "text/html": [
       "<style>\n",
       ".dl-inline {width: auto; margin:0; padding: 0}\n",
       ".dl-inline>dt, .dl-inline>dd {float: none; width: auto; display: inline-block}\n",
       ".dl-inline>dt::after {content: \":\\0020\"; padding-right: .5ex}\n",
       ".dl-inline>dt:not(:first-of-type) {padding-left: .5ex}\n",
       "</style><dl class=dl-inline><dt>sex</dt><dd>1.02977138053122</dd><dt>higher_educ</dt><dd>1.0157220249496</dd><dt>city_status</dt><dd>1.02456844622385</dd><dt>I(working_hours^current_pow)</dt><dd>1.04286574634746</dd><dt>I(age^current_pow)</dt><dd>1.01447542196096</dd></dl>\n"
      ],
      "text/latex": [
       "\\begin{description*}\n",
       "\\item[sex] 1.02977138053122\n",
       "\\item[higher\\textbackslash{}\\_educ] 1.0157220249496\n",
       "\\item[city\\textbackslash{}\\_status] 1.02456844622385\n",
       "\\item[I(working\\textbackslash{}\\_hours\\textbackslash{}textasciicircum\\{\\}current\\textbackslash{}\\_pow)] 1.04286574634746\n",
       "\\item[I(age\\textbackslash{}textasciicircum\\{\\}current\\textbackslash{}\\_pow)] 1.01447542196096\n",
       "\\end{description*}\n"
      ],
      "text/markdown": [
       "sex\n",
       ":   1.02977138053122higher_educ\n",
       ":   1.0157220249496city_status\n",
       ":   1.02456844622385I(working_hours^current_pow)\n",
       ":   1.04286574634746I(age^current_pow)\n",
       ":   1.01447542196096\n",
       "\n"
      ],
      "text/plain": [
       "                         sex                  higher_educ \n",
       "                    1.029771                     1.015722 \n",
       "                 city_status I(working_hours^current_pow) \n",
       "                    1.024568                     1.042866 \n",
       "          I(age^current_pow) \n",
       "                    1.014475 "
      ]
     },
     "metadata": {},
     "output_type": "display_data"
    },
    {
     "data": {
      "text/plain": [
       "\n",
       "Call:\n",
       "lm(formula = salary ~ sex + higher_educ + city_status + I(working_hours^current_pow) + \n",
       "    I(age^current_pow), data = data_normalized)\n",
       "\n",
       "Residuals:\n",
       "    Min      1Q  Median      3Q     Max \n",
       "-1.8346 -0.4883 -0.1409  0.2746  5.6315 \n",
       "\n",
       "Coefficients:\n",
       "                             Estimate Std. Error t value Pr(>|t|)    \n",
       "(Intercept)                  -0.51959    0.08255  -6.294 5.42e-10 ***\n",
       "sex                           0.39782    0.06417   6.200 9.64e-10 ***\n",
       "higher_educ                   0.64534    0.08424   7.661 6.13e-14 ***\n",
       "city_status                   0.40863    0.06889   5.932 4.70e-09 ***\n",
       "I(working_hours^current_pow)  0.08558    0.01862   4.595 5.12e-06 ***\n",
       "I(age^current_pow)           -0.24816    0.04474  -5.546 4.13e-08 ***\n",
       "---\n",
       "Signif. codes:  0 ‘***’ 0.001 ‘**’ 0.01 ‘*’ 0.05 ‘.’ 0.1 ‘ ’ 1\n",
       "\n",
       "Residual standard error: 0.843 on 705 degrees of freedom\n",
       "  (3861 observations deleted due to missingness)\n",
       "Multiple R-squared:   0.21,\tAdjusted R-squared:  0.2044 \n",
       "F-statistic: 37.49 on 5 and 705 DF,  p-value: < 2.2e-16\n"
      ]
     },
     "metadata": {},
     "output_type": "display_data"
    }
   ],
   "source": [
    "current_pow = 1.4\n",
    "model1 = lm(data = data_normalized, salary ~ sex + higher_educ + city_status + I(working_hours^current_pow) + I(age^current_pow))\n",
    "vif(model1)\n",
    "summary(model1)\n",
    "# R^2 ~  0.21\n",
    "# хороший VIF, отличная p-статистика"
   ]
  },
  {
   "cell_type": "code",
   "execution_count": 50,
   "id": "4945fc3d-0469-4c59-90ce-05be097ebafa",
   "metadata": {
    "collapsed": true,
    "jupyter": {
     "outputs_hidden": true
    }
   },
   "outputs": [
    {
     "data": {
      "text/html": [
       "<style>\n",
       ".dl-inline {width: auto; margin:0; padding: 0}\n",
       ".dl-inline>dt, .dl-inline>dd {float: none; width: auto; display: inline-block}\n",
       ".dl-inline>dt::after {content: \":\\0020\"; padding-right: .5ex}\n",
       ".dl-inline>dt:not(:first-of-type) {padding-left: .5ex}\n",
       "</style><dl class=dl-inline><dt>sex</dt><dd>1.02973192173579</dd><dt>higher_educ</dt><dd>1.01562704930058</dd><dt>city_status</dt><dd>1.02443507452646</dd><dt>I(working_hours^current_pow)</dt><dd>1.04241702491651</dd><dt>I(age^current_pow)</dt><dd>1.01393758912284</dd></dl>\n"
      ],
      "text/latex": [
       "\\begin{description*}\n",
       "\\item[sex] 1.02973192173579\n",
       "\\item[higher\\textbackslash{}\\_educ] 1.01562704930058\n",
       "\\item[city\\textbackslash{}\\_status] 1.02443507452646\n",
       "\\item[I(working\\textbackslash{}\\_hours\\textbackslash{}textasciicircum\\{\\}current\\textbackslash{}\\_pow)] 1.04241702491651\n",
       "\\item[I(age\\textbackslash{}textasciicircum\\{\\}current\\textbackslash{}\\_pow)] 1.01393758912284\n",
       "\\end{description*}\n"
      ],
      "text/markdown": [
       "sex\n",
       ":   1.02973192173579higher_educ\n",
       ":   1.01562704930058city_status\n",
       ":   1.02443507452646I(working_hours^current_pow)\n",
       ":   1.04241702491651I(age^current_pow)\n",
       ":   1.01393758912284\n",
       "\n"
      ],
      "text/plain": [
       "                         sex                  higher_educ \n",
       "                    1.029732                     1.015627 \n",
       "                 city_status I(working_hours^current_pow) \n",
       "                    1.024435                     1.042417 \n",
       "          I(age^current_pow) \n",
       "                    1.013938 "
      ]
     },
     "metadata": {},
     "output_type": "display_data"
    },
    {
     "data": {
      "text/plain": [
       "\n",
       "Call:\n",
       "lm(formula = salary ~ sex + higher_educ + city_status + I(working_hours^current_pow) + \n",
       "    I(age^current_pow), data = data_normalized)\n",
       "\n",
       "Residuals:\n",
       "    Min      1Q  Median      3Q     Max \n",
       "-1.8302 -0.4865 -0.1399  0.2771  5.6369 \n",
       "\n",
       "Coefficients:\n",
       "                             Estimate Std. Error t value Pr(>|t|)    \n",
       "(Intercept)                  -0.52305    0.08116  -6.445 2.15e-10 ***\n",
       "sex                           0.39853    0.06421   6.207 9.22e-10 ***\n",
       "higher_educ                   0.64488    0.08429   7.651 6.57e-14 ***\n",
       "city_status                   0.40956    0.06893   5.942 4.43e-09 ***\n",
       "I(working_hours^current_pow)  0.07358    0.01632   4.510 7.59e-06 ***\n",
       "I(age^current_pow)           -0.23196    0.04178  -5.552 4.01e-08 ***\n",
       "---\n",
       "Signif. codes:  0 ‘***’ 0.001 ‘**’ 0.01 ‘*’ 0.05 ‘.’ 0.1 ‘ ’ 1\n",
       "\n",
       "Residual standard error: 0.8436 on 705 degrees of freedom\n",
       "  (3861 observations deleted due to missingness)\n",
       "Multiple R-squared:  0.2091,\tAdjusted R-squared:  0.2035 \n",
       "F-statistic: 37.27 on 5 and 705 DF,  p-value: < 2.2e-16\n"
      ]
     },
     "metadata": {},
     "output_type": "display_data"
    }
   ],
   "source": [
    "current_pow = 1.5\n",
    "model1 = lm(data = data_normalized, salary ~ sex + higher_educ + city_status + I(working_hours^current_pow) + I(age^current_pow))\n",
    "vif(model1)\n",
    "summary(model1)\n",
    "# R^2 ~  0.209\n",
    "# хороший VIF, отличная p-статистика"
   ]
  },
  {
   "cell_type": "code",
   "execution_count": 51,
   "id": "eb60a6d6-f7f4-4c19-ab19-05e058286098",
   "metadata": {
    "collapsed": true,
    "jupyter": {
     "outputs_hidden": true
    }
   },
   "outputs": [
    {
     "data": {
      "text/html": [
       "<style>\n",
       ".dl-inline {width: auto; margin:0; padding: 0}\n",
       ".dl-inline>dt, .dl-inline>dd {float: none; width: auto; display: inline-block}\n",
       ".dl-inline>dt::after {content: \":\\0020\"; padding-right: .5ex}\n",
       ".dl-inline>dt:not(:first-of-type) {padding-left: .5ex}\n",
       "</style><dl class=dl-inline><dt>sex</dt><dd>1.02948125360995</dd><dt>higher_educ</dt><dd>1.0153520153174</dd><dt>city_status</dt><dd>1.02423208213151</dd><dt>I(working_hours^current_pow)</dt><dd>1.04109135674748</dd><dt>I(age^current_pow)</dt><dd>1.01273190373221</dd></dl>\n"
      ],
      "text/latex": [
       "\\begin{description*}\n",
       "\\item[sex] 1.02948125360995\n",
       "\\item[higher\\textbackslash{}\\_educ] 1.0153520153174\n",
       "\\item[city\\textbackslash{}\\_status] 1.02423208213151\n",
       "\\item[I(working\\textbackslash{}\\_hours\\textbackslash{}textasciicircum\\{\\}current\\textbackslash{}\\_pow)] 1.04109135674748\n",
       "\\item[I(age\\textbackslash{}textasciicircum\\{\\}current\\textbackslash{}\\_pow)] 1.01273190373221\n",
       "\\end{description*}\n"
      ],
      "text/markdown": [
       "sex\n",
       ":   1.02948125360995higher_educ\n",
       ":   1.0153520153174city_status\n",
       ":   1.02423208213151I(working_hours^current_pow)\n",
       ":   1.04109135674748I(age^current_pow)\n",
       ":   1.01273190373221\n",
       "\n"
      ],
      "text/plain": [
       "                         sex                  higher_educ \n",
       "                    1.029481                     1.015352 \n",
       "                 city_status I(working_hours^current_pow) \n",
       "                    1.024232                     1.041091 \n",
       "          I(age^current_pow) \n",
       "                    1.012732 "
      ]
     },
     "metadata": {},
     "output_type": "display_data"
    },
    {
     "data": {
      "text/plain": [
       "\n",
       "Call:\n",
       "lm(formula = salary ~ sex + higher_educ + city_status + I(working_hours^current_pow) + \n",
       "    I(age^current_pow), data = data_normalized)\n",
       "\n",
       "Residuals:\n",
       "    Min      1Q  Median      3Q     Max \n",
       "-1.8214 -0.4848 -0.1501  0.2846  5.6479 \n",
       "\n",
       "Coefficients:\n",
       "                             Estimate Std. Error t value Pr(>|t|)    \n",
       "(Intercept)                  -0.53075    0.07896  -6.722 3.70e-11 ***\n",
       "sex                           0.40006    0.06430   6.222 8.42e-10 ***\n",
       "higher_educ                   0.64370    0.08441   7.626 7.84e-14 ***\n",
       "city_status                   0.41139    0.06903   5.960 3.99e-09 ***\n",
       "I(working_hours^current_pow)  0.05414    0.01251   4.327 1.73e-05 ***\n",
       "I(age^current_pow)           -0.20163    0.03642  -5.536 4.38e-08 ***\n",
       "---\n",
       "Signif. codes:  0 ‘***’ 0.001 ‘**’ 0.01 ‘*’ 0.05 ‘.’ 0.1 ‘ ’ 1\n",
       "\n",
       "Residual standard error: 0.8448 on 705 degrees of freedom\n",
       "  (3861 observations deleted due to missingness)\n",
       "Multiple R-squared:  0.2067,\tAdjusted R-squared:  0.201 \n",
       "F-statistic: 36.73 on 5 and 705 DF,  p-value: < 2.2e-16\n"
      ]
     },
     "metadata": {},
     "output_type": "display_data"
    }
   ],
   "source": [
    "current_pow = 1.7\n",
    "model1 = lm(data = data_normalized, salary ~ sex + higher_educ + city_status + I(working_hours^current_pow) + I(age^current_pow))\n",
    "vif(model1)\n",
    "summary(model1)\n",
    "# R^2 ~  0.206\n",
    "# хороший VIF, отличная p-статистика"
   ]
  },
  {
   "cell_type": "code",
   "execution_count": 52,
   "id": "842e19c0-6755-4415-927d-2398cfd6d9de",
   "metadata": {
    "collapsed": true,
    "jupyter": {
     "outputs_hidden": true
    }
   },
   "outputs": [
    {
     "data": {
      "text/html": [
       "<style>\n",
       ".dl-inline {width: auto; margin:0; padding: 0}\n",
       ".dl-inline>dt, .dl-inline>dd {float: none; width: auto; display: inline-block}\n",
       ".dl-inline>dt::after {content: \":\\0020\"; padding-right: .5ex}\n",
       ".dl-inline>dt:not(:first-of-type) {padding-left: .5ex}\n",
       "</style><dl class=dl-inline><dt>sex</dt><dd>1.02902222629217</dd><dt>higher_educ</dt><dd>1.01497767683132</dd><dt>city_status</dt><dd>1.02410734119013</dd><dt>I(working_hours^current_pow)</dt><dd>1.03929837611143</dd><dt>I(age^current_pow)</dt><dd>1.01143705980101</dd></dl>\n"
      ],
      "text/latex": [
       "\\begin{description*}\n",
       "\\item[sex] 1.02902222629217\n",
       "\\item[higher\\textbackslash{}\\_educ] 1.01497767683132\n",
       "\\item[city\\textbackslash{}\\_status] 1.02410734119013\n",
       "\\item[I(working\\textbackslash{}\\_hours\\textbackslash{}textasciicircum\\{\\}current\\textbackslash{}\\_pow)] 1.03929837611143\n",
       "\\item[I(age\\textbackslash{}textasciicircum\\{\\}current\\textbackslash{}\\_pow)] 1.01143705980101\n",
       "\\end{description*}\n"
      ],
      "text/markdown": [
       "sex\n",
       ":   1.02902222629217higher_educ\n",
       ":   1.01497767683132city_status\n",
       ":   1.02410734119013I(working_hours^current_pow)\n",
       ":   1.03929837611143I(age^current_pow)\n",
       ":   1.01143705980101\n",
       "\n"
      ],
      "text/plain": [
       "                         sex                  higher_educ \n",
       "                    1.029022                     1.014978 \n",
       "                 city_status I(working_hours^current_pow) \n",
       "                    1.024107                     1.039298 \n",
       "          I(age^current_pow) \n",
       "                    1.011437 "
      ]
     },
     "metadata": {},
     "output_type": "display_data"
    },
    {
     "data": {
      "text/plain": [
       "\n",
       "Call:\n",
       "lm(formula = salary ~ sex + higher_educ + city_status + I(working_hours^current_pow) + \n",
       "    I(age^current_pow), data = data_normalized)\n",
       "\n",
       "Residuals:\n",
       "    Min      1Q  Median      3Q     Max \n",
       "-1.8126 -0.4901 -0.1525  0.2868  5.6587 \n",
       "\n",
       "Coefficients:\n",
       "                              Estimate Std. Error t value Pr(>|t|)    \n",
       "(Intercept)                  -0.538834   0.077304  -6.970 7.28e-12 ***\n",
       "sex                           0.401708   0.064404   6.237 7.67e-10 ***\n",
       "higher_educ                   0.642208   0.084548   7.596 9.75e-14 ***\n",
       "city_status                   0.413089   0.069151   5.974 3.68e-09 ***\n",
       "I(working_hours^current_pow)  0.039482   0.009564   4.128 4.09e-05 ***\n",
       "I(age^current_pow)           -0.173963   0.031702  -5.488 5.69e-08 ***\n",
       "---\n",
       "Signif. codes:  0 ‘***’ 0.001 ‘**’ 0.01 ‘*’ 0.05 ‘.’ 0.1 ‘ ’ 1\n",
       "\n",
       "Residual standard error: 0.8464 on 705 degrees of freedom\n",
       "  (3861 observations deleted due to missingness)\n",
       "Multiple R-squared:  0.2037,\tAdjusted R-squared:  0.1981 \n",
       "F-statistic: 36.07 on 5 and 705 DF,  p-value: < 2.2e-16\n"
      ]
     },
     "metadata": {},
     "output_type": "display_data"
    }
   ],
   "source": [
    "current_pow = 1.9\n",
    "model1 = lm(data = data_normalized, salary ~ sex + higher_educ + city_status + I(working_hours^current_pow) + I(age^current_pow))\n",
    "vif(model1)\n",
    "summary(model1)\n",
    "# R^2 ~  0.203\n",
    "# хороший VIF, отличная p-статистика"
   ]
  },
  {
   "cell_type": "code",
   "execution_count": 53,
   "id": "2dc9e63a-39ae-4624-9320-23aea19e8eb7",
   "metadata": {
    "collapsed": true,
    "jupyter": {
     "outputs_hidden": true
    }
   },
   "outputs": [
    {
     "data": {
      "text/html": [
       "<style>\n",
       ".dl-inline {width: auto; margin:0; padding: 0}\n",
       ".dl-inline>dt, .dl-inline>dd {float: none; width: auto; display: inline-block}\n",
       ".dl-inline>dt::after {content: \":\\0020\"; padding-right: .5ex}\n",
       ".dl-inline>dt:not(:first-of-type) {padding-left: .5ex}\n",
       "</style><dl class=dl-inline><dt>sex</dt><dd>1.01937971347115</dd><dt>higher_educ</dt><dd>1.03537187593089</dd><dt>city_status</dt><dd>1.01639451669025</dd><dt>I(working_hours^current_pow)</dt><dd>1.0083549345182</dd><dt>I(age^current_pow)</dt><dd>1.00322726781906</dd></dl>\n"
      ],
      "text/latex": [
       "\\begin{description*}\n",
       "\\item[sex] 1.01937971347115\n",
       "\\item[higher\\textbackslash{}\\_educ] 1.03537187593089\n",
       "\\item[city\\textbackslash{}\\_status] 1.01639451669025\n",
       "\\item[I(working\\textbackslash{}\\_hours\\textbackslash{}textasciicircum\\{\\}current\\textbackslash{}\\_pow)] 1.0083549345182\n",
       "\\item[I(age\\textbackslash{}textasciicircum\\{\\}current\\textbackslash{}\\_pow)] 1.00322726781906\n",
       "\\end{description*}\n"
      ],
      "text/markdown": [
       "sex\n",
       ":   1.01937971347115higher_educ\n",
       ":   1.03537187593089city_status\n",
       ":   1.01639451669025I(working_hours^current_pow)\n",
       ":   1.0083549345182I(age^current_pow)\n",
       ":   1.00322726781906\n",
       "\n"
      ],
      "text/plain": [
       "                         sex                  higher_educ \n",
       "                    1.019380                     1.035372 \n",
       "                 city_status I(working_hours^current_pow) \n",
       "                    1.016395                     1.008355 \n",
       "          I(age^current_pow) \n",
       "                    1.003227 "
      ]
     },
     "metadata": {},
     "output_type": "display_data"
    },
    {
     "data": {
      "text/plain": [
       "\n",
       "Call:\n",
       "lm(formula = salary ~ sex + higher_educ + city_status + I(working_hours^current_pow) + \n",
       "    I(age^current_pow), data = data_normalized)\n",
       "\n",
       "Residuals:\n",
       "    Min      1Q  Median      3Q     Max \n",
       "-2.0793 -0.5032 -0.1519  0.2745 15.3247 \n",
       "\n",
       "Coefficients:\n",
       "                              Estimate Std. Error t value Pr(>|t|)    \n",
       "(Intercept)                  -0.532728   0.032595 -16.344   <2e-16 ***\n",
       "sex                           0.476045   0.027654  17.215   <2e-16 ***\n",
       "higher_educ                   0.535505   0.029291  18.282   <2e-16 ***\n",
       "city_status                   0.358494   0.031064  11.540   <2e-16 ***\n",
       "I(working_hours^current_pow)  0.007734   0.004232   1.827   0.0677 .  \n",
       "I(age^current_pow)           -0.129989   0.012227 -10.632   <2e-16 ***\n",
       "---\n",
       "Signif. codes:  0 ‘***’ 0.001 ‘**’ 0.01 ‘*’ 0.05 ‘.’ 0.1 ‘ ’ 1\n",
       "\n",
       "Residual standard error: 0.9201 on 4566 degrees of freedom\n",
       "Multiple R-squared:  0.1544,\tAdjusted R-squared:  0.1535 \n",
       "F-statistic: 166.7 on 5 and 4566 DF,  p-value: < 2.2e-16\n"
      ]
     },
     "metadata": {},
     "output_type": "display_data"
    }
   ],
   "source": [
    "current_pow = 2\n",
    "model1 = lm(data = data_normalized, salary ~ sex + higher_educ + city_status + I(working_hours^current_pow) + I(age^current_pow))\n",
    "vif(model1)\n",
    "summary(model1)\n",
    "# R^2 ~  0.154\n",
    "# отличный VIF, плохое p-значение у переменной I(working_hours^current_pow)"
   ]
  },
  {
   "cell_type": "raw",
   "id": "f739b042-e850-4485-beb3-fabad0210a20",
   "metadata": {},
   "source": [
    "Пункт 3.Выделите наилучшие модели из построенных: по значимости параметров,включённых в зависимости, и по объяснённому с помощью построенных зависимостей разбросу adjusted R2 - R2adj.\n"
   ]
  },
  {
   "cell_type": "code",
   "execution_count": 55,
   "id": "c095edb7-a371-46ec-a25a-a8a893f3148d",
   "metadata": {
    "collapsed": true,
    "jupyter": {
     "outputs_hidden": true
    },
    "tags": []
   },
   "outputs": [
    {
     "data": {
      "text/html": [
       "<style>\n",
       ".dl-inline {width: auto; margin:0; padding: 0}\n",
       ".dl-inline>dt, .dl-inline>dd {float: none; width: auto; display: inline-block}\n",
       ".dl-inline>dt::after {content: \":\\0020\"; padding-right: .5ex}\n",
       ".dl-inline>dt:not(:first-of-type) {padding-left: .5ex}\n",
       "</style><dl class=dl-inline><dt>sex</dt><dd>1.02966722307888</dd><dt>higher_educ</dt><dd>1.01581571402929</dd><dt>city_status</dt><dd>1.02490061598947</dd><dt>I(working_hours^current_pow)</dt><dd>1.04324629090616</dd><dt>I(age^current_pow)</dt><dd>1.01534302287163</dd></dl>\n"
      ],
      "text/latex": [
       "\\begin{description*}\n",
       "\\item[sex] 1.02966722307888\n",
       "\\item[higher\\textbackslash{}\\_educ] 1.01581571402929\n",
       "\\item[city\\textbackslash{}\\_status] 1.02490061598947\n",
       "\\item[I(working\\textbackslash{}\\_hours\\textbackslash{}textasciicircum\\{\\}current\\textbackslash{}\\_pow)] 1.04324629090616\n",
       "\\item[I(age\\textbackslash{}textasciicircum\\{\\}current\\textbackslash{}\\_pow)] 1.01534302287163\n",
       "\\end{description*}\n"
      ],
      "text/markdown": [
       "sex\n",
       ":   1.02966722307888higher_educ\n",
       ":   1.01581571402929city_status\n",
       ":   1.02490061598947I(working_hours^current_pow)\n",
       ":   1.04324629090616I(age^current_pow)\n",
       ":   1.01534302287163\n",
       "\n"
      ],
      "text/plain": [
       "                         sex                  higher_educ \n",
       "                    1.029667                     1.015816 \n",
       "                 city_status I(working_hours^current_pow) \n",
       "                    1.024901                     1.043246 \n",
       "          I(age^current_pow) \n",
       "                    1.015343 "
      ]
     },
     "metadata": {},
     "output_type": "display_data"
    },
    {
     "data": {
      "text/plain": [
       "\n",
       "Call:\n",
       "lm(formula = salary ~ sex + higher_educ + city_status + I(working_hours^current_pow) + \n",
       "    I(age^current_pow), data = data_normalized)\n",
       "\n",
       "Residuals:\n",
       "    Min      1Q  Median      3Q     Max \n",
       "-1.8692 -0.4902 -0.1332  0.2742  5.6216 \n",
       "\n",
       "Coefficients:\n",
       "                             Estimate Std. Error t value Pr(>|t|)    \n",
       "(Intercept)                  -0.51419    0.08615  -5.969 3.79e-09 ***\n",
       "sex                           0.39656    0.06411   6.185 1.05e-09 ***\n",
       "higher_educ                   0.64597    0.08417   7.674 5.55e-14 ***\n",
       "city_status                   0.40681    0.06884   5.909 5.35e-09 ***\n",
       "I(working_hours^current_pow)  0.11548    0.02431   4.751 2.45e-06 ***\n",
       "I(age^current_pow)           -0.28288    0.05138  -5.506 5.16e-08 ***\n",
       "---\n",
       "Signif. codes:  0 ‘***’ 0.001 ‘**’ 0.01 ‘*’ 0.05 ‘.’ 0.1 ‘ ’ 1\n",
       "\n",
       "Residual standard error: 0.8423 on 705 degrees of freedom\n",
       "  (3861 observations deleted due to missingness)\n",
       "Multiple R-squared:  0.2114,\tAdjusted R-squared:  0.2058 \n",
       "F-statistic:  37.8 on 5 and 705 DF,  p-value: < 2.2e-16\n"
      ]
     },
     "metadata": {},
     "output_type": "display_data"
    }
   ],
   "source": [
    "current_pow = 1.2\n",
    "model1 = lm(data = data_normalized, salary ~ sex + higher_educ + city_status + I(working_hours^current_pow) + I(age^current_pow))\n",
    "vif(model1)\n",
    "summary(model1)\n",
    "# Multiple R-squared:  0.2114\n",
    "# Adjusted R-squared:  0.2058"
   ]
  },
  {
   "cell_type": "code",
   "execution_count": 56,
   "id": "499b41c8-1682-4dcf-9b73-b23fd9918694",
   "metadata": {
    "collapsed": true,
    "jupyter": {
     "outputs_hidden": true
    },
    "tags": []
   },
   "outputs": [
    {
     "data": {
      "text/html": [
       "<style>\n",
       ".dl-inline {width: auto; margin:0; padding: 0}\n",
       ".dl-inline>dt, .dl-inline>dd {float: none; width: auto; display: inline-block}\n",
       ".dl-inline>dt::after {content: \":\\0020\"; padding-right: .5ex}\n",
       ".dl-inline>dt:not(:first-of-type) {padding-left: .5ex}\n",
       "</style><dl class=dl-inline><dt>sex</dt><dd>1.029520949456</dd><dt>higher_educ</dt><dd>1.0158095411133</dd><dt>city_status</dt><dd>1.02509832900831</dd><dt>I(working_hours^current_pow)</dt><dd>1.04313986999488</dd><dt>I(age^current_pow)</dt><dd>1.01563730383004</dd></dl>\n"
      ],
      "text/latex": [
       "\\begin{description*}\n",
       "\\item[sex] 1.029520949456\n",
       "\\item[higher\\textbackslash{}\\_educ] 1.0158095411133\n",
       "\\item[city\\textbackslash{}\\_status] 1.02509832900831\n",
       "\\item[I(working\\textbackslash{}\\_hours\\textbackslash{}textasciicircum\\{\\}current\\textbackslash{}\\_pow)] 1.04313986999488\n",
       "\\item[I(age\\textbackslash{}textasciicircum\\{\\}current\\textbackslash{}\\_pow)] 1.01563730383004\n",
       "\\end{description*}\n"
      ],
      "text/markdown": [
       "sex\n",
       ":   1.029520949456higher_educ\n",
       ":   1.0158095411133city_status\n",
       ":   1.02509832900831I(working_hours^current_pow)\n",
       ":   1.04313986999488I(age^current_pow)\n",
       ":   1.01563730383004\n",
       "\n"
      ],
      "text/plain": [
       "                         sex                  higher_educ \n",
       "                    1.029521                     1.015810 \n",
       "                 city_status I(working_hours^current_pow) \n",
       "                    1.025098                     1.043140 \n",
       "          I(age^current_pow) \n",
       "                    1.015637 "
      ]
     },
     "metadata": {},
     "output_type": "display_data"
    },
    {
     "data": {
      "text/plain": [
       "\n",
       "Call:\n",
       "lm(formula = salary ~ sex + higher_educ + city_status + I(working_hours^current_pow) + \n",
       "    I(age^current_pow), data = data_normalized)\n",
       "\n",
       "Residuals:\n",
       "    Min      1Q  Median      3Q     Max \n",
       "-1.8889 -0.4925 -0.1366  0.2710  5.6172 \n",
       "\n",
       "Coefficients:\n",
       "                             Estimate Std. Error t value Pr(>|t|)    \n",
       "(Intercept)                  -0.51265    0.08853  -5.791 1.05e-08 ***\n",
       "sex                           0.39602    0.06409   6.179 1.09e-09 ***\n",
       "higher_educ                   0.64611    0.08415   7.678 5.41e-14 ***\n",
       "city_status                   0.40595    0.06883   5.897 5.73e-09 ***\n",
       "I(working_hours^current_pow)  0.13419    0.02784   4.820 1.76e-06 ***\n",
       "I(age^current_pow)           -0.30164    0.05515  -5.469 6.28e-08 ***\n",
       "---\n",
       "Signif. codes:  0 ‘***’ 0.001 ‘**’ 0.01 ‘*’ 0.05 ‘.’ 0.1 ‘ ’ 1\n",
       "\n",
       "Residual standard error: 0.8421 on 705 degrees of freedom\n",
       "  (3861 observations deleted due to missingness)\n",
       "Multiple R-squared:  0.2118,\tAdjusted R-squared:  0.2062 \n",
       "F-statistic: 37.88 on 5 and 705 DF,  p-value: < 2.2e-16\n"
      ]
     },
     "metadata": {},
     "output_type": "display_data"
    }
   ],
   "source": [
    "current_pow = 1.1\n",
    "model1 = lm(data = data_normalized, salary ~ sex + higher_educ + city_status + I(working_hours^current_pow) + I(age^current_pow))\n",
    "vif(model1)\n",
    "summary(model1)\n",
    "# Multiple R-squared:  0.2118\n",
    "# Adjusted R-squared:  0.2062 "
   ]
  },
  {
   "cell_type": "code",
   "execution_count": 57,
   "id": "535e754f-f5a2-42b1-b35f-3de3b372f8c2",
   "metadata": {
    "collapsed": true,
    "jupyter": {
     "outputs_hidden": true
    },
    "tags": []
   },
   "outputs": [
    {
     "data": {
      "text/html": [
       "<style>\n",
       ".dl-inline {width: auto; margin:0; padding: 0}\n",
       ".dl-inline>dt, .dl-inline>dd {float: none; width: auto; display: inline-block}\n",
       ".dl-inline>dt::after {content: \":\\0020\"; padding-right: .5ex}\n",
       ".dl-inline>dt:not(:first-of-type) {padding-left: .5ex}\n",
       "</style><dl class=dl-inline><dt>sex</dt><dd>1.02903908318915</dd><dt>higher_educ</dt><dd>1.01567727790065</dd><dt>city_status</dt><dd>1.02554772354887</dd><dt>I(working_hours^current_pow)</dt><dd>1.04223825698745</dd><dt>I(age^current_pow)</dt><dd>1.01585381843994</dd></dl>\n"
      ],
      "text/latex": [
       "\\begin{description*}\n",
       "\\item[sex] 1.02903908318915\n",
       "\\item[higher\\textbackslash{}\\_educ] 1.01567727790065\n",
       "\\item[city\\textbackslash{}\\_status] 1.02554772354887\n",
       "\\item[I(working\\textbackslash{}\\_hours\\textbackslash{}textasciicircum\\{\\}current\\textbackslash{}\\_pow)] 1.04223825698745\n",
       "\\item[I(age\\textbackslash{}textasciicircum\\{\\}current\\textbackslash{}\\_pow)] 1.01585381843994\n",
       "\\end{description*}\n"
      ],
      "text/markdown": [
       "sex\n",
       ":   1.02903908318915higher_educ\n",
       ":   1.01567727790065city_status\n",
       ":   1.02554772354887I(working_hours^current_pow)\n",
       ":   1.04223825698745I(age^current_pow)\n",
       ":   1.01585381843994\n",
       "\n"
      ],
      "text/plain": [
       "                         sex                  higher_educ \n",
       "                    1.029039                     1.015677 \n",
       "                 city_status I(working_hours^current_pow) \n",
       "                    1.025548                     1.042238 \n",
       "          I(age^current_pow) \n",
       "                    1.015854 "
      ]
     },
     "metadata": {},
     "output_type": "display_data"
    },
    {
     "data": {
      "text/plain": [
       "\n",
       "Call:\n",
       "lm(formula = salary ~ sex + higher_educ + city_status + I(working_hours^current_pow) + \n",
       "    I(age^current_pow), data = data_normalized)\n",
       "\n",
       "Residuals:\n",
       "    Min      1Q  Median      3Q     Max \n",
       "-1.9277 -0.4900 -0.1437  0.2735  5.6103 \n",
       "\n",
       "Coefficients:\n",
       "                             Estimate Std. Error t value Pr(>|t|)    \n",
       "(Intercept)                  -0.51336    0.09513  -5.396 9.29e-08 ***\n",
       "sex                           0.39521    0.06408   6.167 1.17e-09 ***\n",
       "higher_educ                   0.64601    0.08415   7.677 5.46e-14 ***\n",
       "city_status                   0.40440    0.06885   5.873 6.58e-09 ***\n",
       "I(working_hours^current_pow)  0.18215    0.03690   4.936 9.97e-07 ***\n",
       "I(age^current_pow)           -0.34321    0.06402  -5.361 1.12e-07 ***\n",
       "---\n",
       "Signif. codes:  0 ‘***’ 0.001 ‘**’ 0.01 ‘*’ 0.05 ‘.’ 0.1 ‘ ’ 1\n",
       "\n",
       "Residual standard error: 0.8422 on 705 degrees of freedom\n",
       "  (3861 observations deleted due to missingness)\n",
       "Multiple R-squared:  0.2117,\tAdjusted R-squared:  0.2061 \n",
       "F-statistic: 37.87 on 5 and 705 DF,  p-value: < 2.2e-16\n"
      ]
     },
     "metadata": {},
     "output_type": "display_data"
    }
   ],
   "source": [
    "current_pow = 0.9\n",
    "model1 = lm(data = data_normalized, salary ~ sex + higher_educ + city_status + I(working_hours^current_pow) + I(age^current_pow))\n",
    "vif(model1)\n",
    "summary(model1)\n",
    "# Multiple R-squared:  0.2117\n",
    "# Adjusted R-squared:  0.2061 "
   ]
  },
  {
   "cell_type": "code",
   "execution_count": 58,
   "id": "1424cfcb-085c-4ece-bb86-1ea7cd4220df",
   "metadata": {
    "collapsed": true,
    "jupyter": {
     "outputs_hidden": true
    }
   },
   "outputs": [
    {
     "data": {
      "text/html": [
       "<style>\n",
       ".dl-inline {width: auto; margin:0; padding: 0}\n",
       ".dl-inline>dt, .dl-inline>dd {float: none; width: auto; display: inline-block}\n",
       ".dl-inline>dt::after {content: \":\\0020\"; padding-right: .5ex}\n",
       ".dl-inline>dt:not(:first-of-type) {padding-left: .5ex}\n",
       "</style><dl class=dl-inline><dt>sex</dt><dd>1.029520949456</dd><dt>higher_educ</dt><dd>1.0158095411133</dd><dt>city_status</dt><dd>1.02509832900831</dd><dt>I(working_hours^current_pow)</dt><dd>1.04313986999488</dd><dt>I(age^current_pow)</dt><dd>1.01563730383004</dd></dl>\n"
      ],
      "text/latex": [
       "\\begin{description*}\n",
       "\\item[sex] 1.029520949456\n",
       "\\item[higher\\textbackslash{}\\_educ] 1.0158095411133\n",
       "\\item[city\\textbackslash{}\\_status] 1.02509832900831\n",
       "\\item[I(working\\textbackslash{}\\_hours\\textbackslash{}textasciicircum\\{\\}current\\textbackslash{}\\_pow)] 1.04313986999488\n",
       "\\item[I(age\\textbackslash{}textasciicircum\\{\\}current\\textbackslash{}\\_pow)] 1.01563730383004\n",
       "\\end{description*}\n"
      ],
      "text/markdown": [
       "sex\n",
       ":   1.029520949456higher_educ\n",
       ":   1.0158095411133city_status\n",
       ":   1.02509832900831I(working_hours^current_pow)\n",
       ":   1.04313986999488I(age^current_pow)\n",
       ":   1.01563730383004\n",
       "\n"
      ],
      "text/plain": [
       "                         sex                  higher_educ \n",
       "                    1.029521                     1.015810 \n",
       "                 city_status I(working_hours^current_pow) \n",
       "                    1.025098                     1.043140 \n",
       "          I(age^current_pow) \n",
       "                    1.015637 "
      ]
     },
     "metadata": {},
     "output_type": "display_data"
    },
    {
     "data": {
      "text/plain": [
       "\n",
       "Call:\n",
       "lm(formula = salary ~ sex + higher_educ + city_status + I(working_hours^current_pow) + \n",
       "    I(age^current_pow), data = data_normalized)\n",
       "\n",
       "Residuals:\n",
       "    Min      1Q  Median      3Q     Max \n",
       "-1.8889 -0.4925 -0.1366  0.2710  5.6172 \n",
       "\n",
       "Coefficients:\n",
       "                             Estimate Std. Error t value Pr(>|t|)    \n",
       "(Intercept)                  -0.51265    0.08853  -5.791 1.05e-08 ***\n",
       "sex                           0.39602    0.06409   6.179 1.09e-09 ***\n",
       "higher_educ                   0.64611    0.08415   7.678 5.41e-14 ***\n",
       "city_status                   0.40595    0.06883   5.897 5.73e-09 ***\n",
       "I(working_hours^current_pow)  0.13419    0.02784   4.820 1.76e-06 ***\n",
       "I(age^current_pow)           -0.30164    0.05515  -5.469 6.28e-08 ***\n",
       "---\n",
       "Signif. codes:  0 ‘***’ 0.001 ‘**’ 0.01 ‘*’ 0.05 ‘.’ 0.1 ‘ ’ 1\n",
       "\n",
       "Residual standard error: 0.8421 on 705 degrees of freedom\n",
       "  (3861 observations deleted due to missingness)\n",
       "Multiple R-squared:  0.2118,\tAdjusted R-squared:  0.2062 \n",
       "F-statistic: 37.88 on 5 and 705 DF,  p-value: < 2.2e-16\n"
      ]
     },
     "metadata": {},
     "output_type": "display_data"
    }
   ],
   "source": [
    "# Данная модель показала наилучшие результаты, то есть:\n",
    "# Хороший VIF, отличная p-статистика и лушчий R^2 = 0,2118\n",
    "current_pow = 1.1\n",
    "model1 = lm(data = data_normalized, salary ~ sex + higher_educ + city_status + I(working_hours^current_pow) + I(age^current_pow))\n",
    "vif(model1)\n",
    "summary(model1)"
   ]
  },
  {
   "cell_type": "raw",
   "id": "8952dea1-bcac-491c-8090-3555717d0587",
   "metadata": {},
   "source": [
    "Пункт 4. Сделайте вывод о том, какие индивиды получают наибольшую зарплату.\n",
    "Согласно модели, которую мы сочли наболее эффективной, самую большую зарплату получают молодые мужчины, живущие в городах, имеющие высшее образование и работающие большое число часов в неделю. На зароботную плату семейное положение не оказывает значительного эффекта"
   ]
  },
  {
   "cell_type": "raw",
   "id": "1cdb4ee8-d1e3-4557-a48d-26951dda00d2",
   "metadata": {},
   "source": [
    "Пункт 5. Оцените регрессии для подмножества индивидов, указанных в варианте: не вступавшие в брак мужчины без высшего образования; городские жители, мужчины, состоящие в браке"
   ]
  },
  {
   "cell_type": "code",
   "execution_count": null,
   "id": "f0f8c9b6-e86c-4041-9e8b-3bb0006c0bfe",
   "metadata": {
    "collapsed": true,
    "jupyter": {
     "outputs_hidden": true
    }
   },
   "outputs": [],
   "source": [
    "current_pow = 1.1"
   ]
  },
  {
   "cell_type": "code",
   "execution_count": 59,
   "id": "2ca00db4-666d-4cc0-aa1c-700d24570f47",
   "metadata": {
    "collapsed": true,
    "jupyter": {
     "outputs_hidden": true
    },
    "tags": []
   },
   "outputs": [
    {
     "data": {
      "text/html": [
       "<style>\n",
       ".dl-inline {width: auto; margin:0; padding: 0}\n",
       ".dl-inline>dt, .dl-inline>dd {float: none; width: auto; display: inline-block}\n",
       ".dl-inline>dt::after {content: \":\\0020\"; padding-right: .5ex}\n",
       ".dl-inline>dt:not(:first-of-type) {padding-left: .5ex}\n",
       "</style><dl class=dl-inline><dt>city_status</dt><dd>1.02985392390228</dd><dt>I(working_hours^current_pow)</dt><dd>1.03358650632566</dd><dt>I(age^current_pow)</dt><dd>1.02307449599595</dd></dl>\n"
      ],
      "text/latex": [
       "\\begin{description*}\n",
       "\\item[city\\textbackslash{}\\_status] 1.02985392390228\n",
       "\\item[I(working\\textbackslash{}\\_hours\\textbackslash{}textasciicircum\\{\\}current\\textbackslash{}\\_pow)] 1.03358650632566\n",
       "\\item[I(age\\textbackslash{}textasciicircum\\{\\}current\\textbackslash{}\\_pow)] 1.02307449599595\n",
       "\\end{description*}\n"
      ],
      "text/markdown": [
       "city_status\n",
       ":   1.02985392390228I(working_hours^current_pow)\n",
       ":   1.03358650632566I(age^current_pow)\n",
       ":   1.02307449599595\n",
       "\n"
      ],
      "text/plain": [
       "                 city_status I(working_hours^current_pow) \n",
       "                    1.029854                     1.033587 \n",
       "          I(age^current_pow) \n",
       "                    1.023074 "
      ]
     },
     "metadata": {},
     "output_type": "display_data"
    },
    {
     "data": {
      "text/plain": [
       "\n",
       "Call:\n",
       "lm(formula = salary ~ city_status + I(working_hours^current_pow) + \n",
       "    I(age^current_pow), data = data_picked)\n",
       "\n",
       "Residuals:\n",
       "    Min      1Q  Median      3Q     Max \n",
       "-2.0276 -0.5429 -0.1680  0.3812  5.4258 \n",
       "\n",
       "Coefficients:\n",
       "                             Estimate Std. Error t value Pr(>|t|)    \n",
       "(Intercept)                  -0.08348    0.12868  -0.649   0.5170    \n",
       "city_status                   0.40932    0.10377   3.944   0.0001 ***\n",
       "I(working_hours^current_pow)  0.17450    0.03743   4.662 4.78e-06 ***\n",
       "I(age^current_pow)           -0.39727    0.08911  -4.458 1.18e-05 ***\n",
       "---\n",
       "Signif. codes:  0 ‘***’ 0.001 ‘**’ 0.01 ‘*’ 0.05 ‘.’ 0.1 ‘ ’ 1\n",
       "\n",
       "Residual standard error: 0.8552 on 291 degrees of freedom\n",
       "  (938 observations deleted due to missingness)\n",
       "Multiple R-squared:  0.1746,\tAdjusted R-squared:  0.1661 \n",
       "F-statistic: 20.51 on 3 and 291 DF,  p-value: 4.365e-12\n"
      ]
     },
     "metadata": {},
     "output_type": "display_data"
    }
   ],
   "source": [
    "# не вступавшие в брак мужчины без высшего образования\n",
    "data_picked = subset(data_normalized, sex == 1)\n",
    "data_picked = subset(data_picked, higher_educ == 0)\n",
    "data_picked = subset(data_picked, wed3 == 0)\n",
    "\n",
    "model1 = lm(data = data_picked, salary ~ city_status + I(working_hours^current_pow) + I(age^current_pow))\n",
    "vif(model1)\n",
    "summary(model1)\n",
    "# R^2 ~ 0,1746\n",
    "# Все регрессоры являются значимыми\n",
    "# Среди этой группы наибольшую зарплату имеют молодые люди, проживающие в городах и много работающие"
   ]
  },
  {
   "cell_type": "code",
   "execution_count": 61,
   "id": "1c82de49-a033-4933-88b8-14570a360725",
   "metadata": {
    "collapsed": true,
    "jupyter": {
     "outputs_hidden": true
    },
    "tags": []
   },
   "outputs": [
    {
     "data": {
      "text/html": [
       "<style>\n",
       ".dl-inline {width: auto; margin:0; padding: 0}\n",
       ".dl-inline>dt, .dl-inline>dd {float: none; width: auto; display: inline-block}\n",
       ".dl-inline>dt::after {content: \":\\0020\"; padding-right: .5ex}\n",
       ".dl-inline>dt:not(:first-of-type) {padding-left: .5ex}\n",
       "</style><dl class=dl-inline><dt>higher_educ</dt><dd>1.00731371989898</dd><dt>I(working_hours^current_pow)</dt><dd>1.04601034538631</dd><dt>I(age^current_pow)</dt><dd>1.03855751627314</dd></dl>\n"
      ],
      "text/latex": [
       "\\begin{description*}\n",
       "\\item[higher\\textbackslash{}\\_educ] 1.00731371989898\n",
       "\\item[I(working\\textbackslash{}\\_hours\\textbackslash{}textasciicircum\\{\\}current\\textbackslash{}\\_pow)] 1.04601034538631\n",
       "\\item[I(age\\textbackslash{}textasciicircum\\{\\}current\\textbackslash{}\\_pow)] 1.03855751627314\n",
       "\\end{description*}\n"
      ],
      "text/markdown": [
       "higher_educ\n",
       ":   1.00731371989898I(working_hours^current_pow)\n",
       ":   1.04601034538631I(age^current_pow)\n",
       ":   1.03855751627314\n",
       "\n"
      ],
      "text/plain": [
       "                 higher_educ I(working_hours^current_pow) \n",
       "                    1.007314                     1.046010 \n",
       "          I(age^current_pow) \n",
       "                    1.038558 "
      ]
     },
     "metadata": {},
     "output_type": "display_data"
    },
    {
     "data": {
      "text/plain": [
       "\n",
       "Call:\n",
       "lm(formula = salary ~ higher_educ + I(working_hours^current_pow) + \n",
       "    I(age^current_pow), data = data_picked)\n",
       "\n",
       "Residuals:\n",
       "    Min      1Q  Median      3Q     Max \n",
       "-2.2351 -0.5702 -0.1559  0.4263  5.2282 \n",
       "\n",
       "Coefficients:\n",
       "                             Estimate Std. Error t value Pr(>|t|)    \n",
       "(Intercept)                   0.47885    0.15902   3.011 0.002982 ** \n",
       "higher_educ                   0.67940    0.19663   3.455 0.000688 ***\n",
       "I(working_hours^current_pow)  0.19651    0.06551   3.000 0.003093 ** \n",
       "I(age^current_pow)           -0.52387    0.13255  -3.952 0.000112 ***\n",
       "---\n",
       "Signif. codes:  0 ‘***’ 0.001 ‘**’ 0.01 ‘*’ 0.05 ‘.’ 0.1 ‘ ’ 1\n",
       "\n",
       "Residual standard error: 1.03 on 177 degrees of freedom\n",
       "  (767 observations deleted due to missingness)\n",
       "Multiple R-squared:  0.1858,\tAdjusted R-squared:  0.172 \n",
       "F-statistic: 13.46 on 3 and 177 DF,  p-value: 5.913e-08\n"
      ]
     },
     "metadata": {},
     "output_type": "display_data"
    }
   ],
   "source": [
    "# городские жители, мужчины, состоящие в браке\n",
    "data_picked = subset(data_normalized, sex == 1)\n",
    "data_picked = subset(data_picked, city_status == 1)\n",
    "data_picked = subset(data_picked, wed1 == 1)\n",
    "\n",
    "model1 = lm(data = data_picked, salary ~ higher_educ + I(working_hours^current_pow) + I(age^current_pow))\n",
    "vif(model1)\n",
    "summary(model1)\n",
    "# R^2 ~ 0, 1858\n",
    "# Регрессоры higher_educ и I(age^current_pow) являются самыми значимыми,\n",
    "# I(working_hours^current pow) - второй по значимости\n",
    "# Среди этой группы наибольшую зарплату имеют молодые люди, имеющие высшее образование и много работающие"
   ]
  }
 ],
 "metadata": {
  "kernelspec": {
   "display_name": "R",
   "language": "R",
   "name": "ir"
  },
  "language_info": {
   "codemirror_mode": "r",
   "file_extension": ".r",
   "mimetype": "text/x-r-source",
   "name": "R",
   "pygments_lexer": "r",
   "version": "4.1.2"
  }
 },
 "nbformat": 4,
 "nbformat_minor": 5
}
